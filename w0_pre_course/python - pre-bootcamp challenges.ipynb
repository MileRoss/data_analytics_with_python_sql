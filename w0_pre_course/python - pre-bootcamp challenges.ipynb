{
 "cells": [
  {
   "cell_type": "code",
   "execution_count": 1,
   "id": "6ede6b52",
   "metadata": {},
   "outputs": [
    {
     "name": "stdout",
     "output_type": "stream",
     "text": [
      "1\n"
     ]
    },
    {
     "data": {
      "text/plain": [
       "1"
      ]
     },
     "execution_count": 1,
     "metadata": {},
     "output_type": "execute_result"
    }
   ],
   "source": [
    "#challenge 1\n",
    "\n",
    "numbers = [1,2,3]\n",
    "x = min(numbers)\n",
    "print(x)\n",
    "\n",
    "#is same as:\n",
    "\n",
    "def minimum():\n",
    "    return min\n",
    "numbers=[1,2,3]\n",
    "min(numbers)"
   ]
  },
  {
   "cell_type": "code",
   "execution_count": null,
   "id": "d6034f50",
   "metadata": {},
   "outputs": [],
   "source": [
    "#challenge 2\n",
    "\n",
    "def valid_pin(pin):\n",
    "  return len(pin) in (4, 6) and pin.isdigit()\n",
    "\n",
    "pin = input(\"Enter your pin: \")\n",
    "result = valid_pin(pin)\n",
    "print(result)"
   ]
  },
  {
   "cell_type": "code",
   "execution_count": 17,
   "id": "74b53a27",
   "metadata": {},
   "outputs": [
    {
     "name": "stdout",
     "output_type": "stream",
     "text": [
      "Enter a word: Milenko\n"
     ]
    },
    {
     "data": {
      "text/plain": [
       "-1"
      ]
     },
     "execution_count": 17,
     "metadata": {},
     "output_type": "execute_result"
    }
   ],
   "source": [
    "#challenge 3\n",
    "\n",
    "def alphabetor(word):\n",
    "    if word.startswith(('A', 'a', '1')):\n",
    "        return 1\n",
    "    elif word.startswith(('B', 'b', '2')):\n",
    "        return 0\n",
    "    else:\n",
    "        return -1\n",
    "\n",
    "word = input(\"Enter a word: \")\n",
    "alphabetor(word)"
   ]
  },
  {
   "cell_type": "code",
   "execution_count": 31,
   "id": "cb3f01a2",
   "metadata": {},
   "outputs": [
    {
     "name": "stdout",
     "output_type": "stream",
     "text": [
      "Enter a number: 4\n"
     ]
    },
    {
     "data": {
      "text/plain": [
       "3"
      ]
     },
     "execution_count": 31,
     "metadata": {},
     "output_type": "execute_result"
    }
   ],
   "source": [
    "#challenge 4\n",
    "\n",
    "def multiples_of_3_and_5(number):\n",
    "    return sum([x for x in range(number) if x % 3 == 0 or x % 5 == 0])\n",
    "\n",
    "number = int(input(\"Enter a number: \"))\n",
    "multiples_of_3_and_5(number)"
   ]
  },
  {
   "cell_type": "code",
   "execution_count": 58,
   "id": "a9322996",
   "metadata": {},
   "outputs": [
    {
     "name": "stdout",
     "output_type": "stream",
     "text": [
      "Enter a number: 9\n"
     ]
    },
    {
     "data": {
      "text/plain": [
       "-12"
      ]
     },
     "execution_count": 58,
     "metadata": {},
     "output_type": "execute_result"
    }
   ],
   "source": [
    "#challenge 5\n",
    "\n",
    "def differenceOfMultiples(n):\n",
    "  sum = 0\n",
    "  for x in range(n+1):\n",
    "    if x%4 == 0 or x%9 == 0:\n",
    "      sum += x\n",
    "  return n-sum\n",
    "\n",
    "n = int(input(\"Enter a number: \"))\n",
    "differenceOfMultiples(n)"
   ]
  }
 ],
 "metadata": {
  "kernelspec": {
   "display_name": "Python 3 (ipykernel)",
   "language": "python",
   "name": "python3"
  },
  "language_info": {
   "codemirror_mode": {
    "name": "ipython",
    "version": 3
   },
   "file_extension": ".py",
   "mimetype": "text/x-python",
   "name": "python",
   "nbconvert_exporter": "python",
   "pygments_lexer": "ipython3",
   "version": "3.11.8"
  }
 },
 "nbformat": 4,
 "nbformat_minor": 5
}
