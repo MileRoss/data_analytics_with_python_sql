{
 "cells": [
  {
   "cell_type": "markdown",
   "metadata": {
    "id": "hD_jWzm_D6Ob"
   },
   "source": [
    "## 1. Exercise - Simple Iterations "
   ]
  },
  {
   "cell_type": "markdown",
   "metadata": {
    "id": "i82gPbNaD6Oc"
   },
   "source": [
    "**1.1**  Write a simple for loop to print integers from 10 to 30. "
   ]
  },
  {
   "cell_type": "code",
   "execution_count": 492,
   "metadata": {
    "id": "R9xgpmLBD6Oc"
   },
   "outputs": [
    {
     "name": "stdout",
     "output_type": "stream",
     "text": [
      "10\n",
      "11\n",
      "12\n",
      "13\n",
      "14\n",
      "15\n",
      "16\n",
      "17\n",
      "18\n",
      "19\n",
      "20\n",
      "21\n",
      "22\n",
      "23\n",
      "24\n",
      "25\n",
      "26\n",
      "27\n",
      "28\n",
      "29\n",
      "30\n"
     ]
    }
   ],
   "source": [
    "for x in range(10,31):\n",
    "    print(x)"
   ]
  },
  {
   "cell_type": "markdown",
   "metadata": {
    "id": "ZLjmn0jwD6Oc"
   },
   "source": [
    "**1.2** Update the previous code to print all the numbers from 10 to 30 that are multiples of 5. These are: 5, 10, 15, ..."
   ]
  },
  {
   "cell_type": "code",
   "execution_count": 493,
   "metadata": {
    "id": "rhi3-A0gD6Oc"
   },
   "outputs": [
    {
     "name": "stdout",
     "output_type": "stream",
     "text": [
      "10\n",
      "15\n",
      "20\n",
      "25\n",
      "30\n"
     ]
    }
   ],
   "source": [
    "for x in range(10,31,5):\n",
    "    print(x)"
   ]
  },
  {
   "cell_type": "markdown",
   "metadata": {
    "id": "nA-Ivr6MD6Oc"
   },
   "source": [
    "**1.3** Modify the dummy code provided to print the following pattern. \n",
    "\n",
    "- The pattern    \n",
    "    ```\n",
    "    *\n",
    "    ***\n",
    "    *****\n",
    "    ```\n",
    "\n",
    "<br>\n",
    "\n",
    "- Dummy Code\n",
    "\n",
    "    ```python\n",
    "    for i in range(1, _, _):\n",
    "        print(\"*\"*i)\n",
    "    ```"
   ]
  },
  {
   "cell_type": "code",
   "execution_count": 494,
   "metadata": {
    "id": "839Sa0cpD6Od"
   },
   "outputs": [
    {
     "name": "stdout",
     "output_type": "stream",
     "text": [
      "*\n",
      "***\n",
      "*****\n"
     ]
    }
   ],
   "source": [
    "for i in range(1,6,2):\n",
    "    print(\"*\"*i)"
   ]
  },
  {
   "cell_type": "markdown",
   "metadata": {
    "id": "Y-r13CBRD6Od"
   },
   "source": [
    "**1.4** Update the following code to print the pattern:\n",
    "\n",
    "  ```\n",
    "    *\n",
    "   ***\n",
    "  *****\n",
    "  ```\n",
    "\n",
    "  ```python\n",
    "  a = # Fill the starting value\n",
    "  for i in range(1, _, _):\n",
    "    a = a - 1\n",
    "    print(\" \"*a+\"*\"*i)\n",
    "  ```"
   ]
  },
  {
   "cell_type": "code",
   "execution_count": 1,
   "metadata": {
    "id": "Qz-SKZSfD6Od"
   },
   "outputs": [
    {
     "name": "stdout",
     "output_type": "stream",
     "text": [
      "    *\n",
      "   ***\n",
      "  *****\n"
     ]
    }
   ],
   "source": [
    "a = 5\n",
    "\n",
    "for i in range(1,6,2):\n",
    "    a = a - 1\n",
    "    print(\" \"*a+\"*\"*i)"
   ]
  },
  {
   "cell_type": "markdown",
   "metadata": {
    "id": "DWV8_ryhD6Od"
   },
   "source": [
    "**1.5** Use the function `input()` to prompt the user to enter an integer number. Then calculate the factorial of that number using loops. To verify the correctness of your result, you can compare it with the factorial calculated using the `factorial` function from the `math` library.\n",
    "\n",
    "<br>\n",
    "\n",
    "```python\n",
    "import math\n",
    "math.factorial(n) # n is the positive integer for which we want to calculate the factorial \n",
    "```\n",
    "\n",
    "**Note**: Factorial is defined as:\n",
    "\n",
    "```\n",
    "5 ! = 5*4*3*2*1  # \" ! \" is the mathematical notation for factorial\n",
    "    \n",
    "n! = n*(n-1)*(n-2)*..........*1\n",
    "```"
   ]
  },
  {
   "cell_type": "code",
   "execution_count": 575,
   "metadata": {
    "id": "nlky63ApD6Od"
   },
   "outputs": [
    {
     "name": "stdout",
     "output_type": "stream",
     "text": [
      "Enter an integer number: 5\n",
      "120\n"
     ]
    }
   ],
   "source": [
    "#I used help from chatgpt. My original code had one logical error.\n",
    "\n",
    "x = int(input(\"Enter an integer number: \"))\n",
    "\n",
    "for i in range(1,x):\n",
    "    x *= i\n",
    "    \n",
    "print(x)"
   ]
  },
  {
   "cell_type": "markdown",
   "metadata": {
    "id": "aAM3MT2-D6Oe"
   },
   "source": [
    "-----------------------------"
   ]
  },
  {
   "cell_type": "markdown",
   "metadata": {
    "id": "o8GHC6l_D6Og"
   },
   "source": [
    "## 2. Exercise - Iterations on Lists"
   ]
  },
  {
   "cell_type": "markdown",
   "metadata": {
    "id": "dPmp1YIgD6Og"
   },
   "source": [
    "**Given the list:**"
   ]
  },
  {
   "cell_type": "code",
   "execution_count": 582,
   "metadata": {},
   "outputs": [],
   "source": [
    "x = [12, 43, 4, 1, 6, 343, 10, 34, 12, 93, 783, 330, 896, 1, 55]"
   ]
  },
  {
   "cell_type": "markdown",
   "metadata": {},
   "source": [
    "**2.1 Write code to find only those numbers in the list that are divisible by 3.**"
   ]
  },
  {
   "cell_type": "code",
   "execution_count": 591,
   "metadata": {},
   "outputs": [
    {
     "name": "stdout",
     "output_type": "stream",
     "text": [
      "12\n",
      "6\n",
      "12\n",
      "93\n",
      "783\n",
      "330\n"
     ]
    }
   ],
   "source": [
    "for number in x:\n",
    "    if number % 3 ==0:\n",
    "        print(number)"
   ]
  },
  {
   "cell_type": "markdown",
   "metadata": {},
   "source": [
    "\n",
    "**2.2 Write code to find only those numbers in a list that end with the digit 3. Create a new list with those numbers.**"
   ]
  },
  {
   "cell_type": "code",
   "execution_count": 500,
   "metadata": {},
   "outputs": [
    {
     "name": "stdout",
     "output_type": "stream",
     "text": [
      "43\n",
      "343\n",
      "93\n",
      "783\n"
     ]
    }
   ],
   "source": [
    "#I used help from chatgpt. My original code had one logical error.\n",
    "\n",
    "for number in x:\n",
    "    if str(number)[-1] == \"3\":\n",
    "        print(number)"
   ]
  },
  {
   "cell_type": "markdown",
   "metadata": {},
   "source": [
    "**2.3 Find the minimum value in the list `x`.**"
   ]
  },
  {
   "cell_type": "code",
   "execution_count": 501,
   "metadata": {},
   "outputs": [
    {
     "name": "stdout",
     "output_type": "stream",
     "text": [
      "1\n"
     ]
    }
   ],
   "source": [
    "print(min(x))"
   ]
  },
  {
   "cell_type": "markdown",
   "metadata": {},
   "source": [
    "**2.4 Find the maximum value in the list `x`.**"
   ]
  },
  {
   "cell_type": "code",
   "execution_count": 502,
   "metadata": {
    "id": "maYRn1xgD6Og"
   },
   "outputs": [
    {
     "name": "stdout",
     "output_type": "stream",
     "text": [
      "896\n"
     ]
    }
   ],
   "source": [
    "print(max(x))"
   ]
  },
  {
   "cell_type": "markdown",
   "metadata": {
    "id": "caGMNACND6Og"
   },
   "source": [
    "-----------------------------"
   ]
  },
  {
   "cell_type": "markdown",
   "metadata": {
    "id": "vDaP12dSD6Oj"
   },
   "source": [
    "## 3. Exercise - Iterations on Dictionaries"
   ]
  },
  {
   "cell_type": "markdown",
   "metadata": {
    "id": "oWHtlCccD6Oj"
   },
   "source": [
    "**Given this dictionary:**"
   ]
  },
  {
   "cell_type": "code",
   "execution_count": 486,
   "metadata": {
    "id": "kQMORoCTD6Oj"
   },
   "outputs": [],
   "source": [
    "word_freq = {'love': 25, 'conversation': 1, 'every': 6, \"we're\": 1, 'plate': 1, 'sour': 1, 'jukebox': 1, 'now': 11, 'taxi': 1, 'fast': 1, 'bag': 1, 'man': 1, 'push': 3, 'baby': 14, 'going': 1, 'you': 16, \"don't\": 2, 'one': 1, 'mind': 2, 'backseat': 1, 'friends': 1, 'then': 3, 'know': 2}"
   ]
  },
  {
   "cell_type": "markdown",
   "metadata": {
    "id": "OPiInNFgD6Oj"
   },
   "source": [
    "**3.1 Iterate on the items of this dictionary to print only those keys where the frequency of the word is less than 3.**"
   ]
  },
  {
   "cell_type": "code",
   "execution_count": 503,
   "metadata": {},
   "outputs": [
    {
     "name": "stdout",
     "output_type": "stream",
     "text": [
      "conversation\n",
      "we're\n",
      "plate\n",
      "sour\n",
      "jukebox\n",
      "taxi\n",
      "fast\n",
      "bag\n",
      "man\n",
      "going\n",
      "don't\n",
      "one\n",
      "mind\n",
      "backseat\n",
      "friends\n",
      "know\n"
     ]
    }
   ],
   "source": [
    "for key,value in word_freq.items():\n",
    "    if value < 3:\n",
    "        print(key)"
   ]
  },
  {
   "cell_type": "markdown",
   "metadata": {},
   "source": [
    "**3.2 Iterate on the items of this dictionary to print the word with the highest frequency.**"
   ]
  },
  {
   "cell_type": "code",
   "execution_count": 554,
   "metadata": {
    "id": "l_2VFQsdD6Oj"
   },
   "outputs": [
    {
     "name": "stdout",
     "output_type": "stream",
     "text": [
      "love\n"
     ]
    }
   ],
   "source": [
    "#I used help from chatgpt because I got really stuck in this whole chapter.\n",
    "\n",
    "max_value = max(word_freq.values())\n",
    "\n",
    "for key, value in word_freq.items():\n",
    "    if value == max_value:\n",
    "        print(key)"
   ]
  },
  {
   "cell_type": "markdown",
   "metadata": {
    "id": "aAM3MT2-D6Oe"
   },
   "source": [
    "-----------------------------"
   ]
  },
  {
   "cell_type": "markdown",
   "metadata": {
    "id": "o8GHC6l_D6Og"
   },
   "source": [
    "## 4. Exercise - More on iterations "
   ]
  },
  {
   "cell_type": "markdown",
   "metadata": {},
   "source": [
    "**Write a program that generates a random number between 1 and 100. The program should then prompt the user to guess the number. If the user's guess is too high, the program should print \"Too high, try again!\" and ask for another guess. If the guess is too low, the program should print \"Too low, try again!\" and ask for another guess. If the user guesses the correct number, the program should print \"Congratulations, you guessed the number!\" and end.**"
   ]
  },
  {
   "cell_type": "code",
   "execution_count": null,
   "metadata": {},
   "outputs": [],
   "source": [
    "import random\n",
    "random_number = random.randint(1, 100)\n",
    "\n",
    "user_guess = input(\"Guess the number between 1 and 100: \")\n",
    "\n",
    "while random_number < int(user_guess):\n",
    "    print(\"Too high, try again!\")\n",
    "    user_guess = input(\"Guess again: \")\n",
    "\n",
    "while random_number > int(user_guess):\n",
    "    print(\"Too low, try again!\")\n",
    "    user_guess = input(\"Guess again: \")\n",
    "    \n",
    "print(\"Congratulations, you guessed the number!\")"
   ]
  },
  {
   "cell_type": "markdown",
   "metadata": {},
   "source": [
    "\n",
    "Create a function called \"generation_calculator\" to help determine the generation you belong to according to your birth year. Follow the information below:\n",
    "\n",
    "```\n",
    "+-----------------+---------------------+\n",
    "|  birth_year     |      generation     |\n",
    "+-----------------+---------------------+\n",
    "|     < 1949      |  silent generation  |\n",
    "+-----------------+---------------------+\n",
    "|     < 1969      |     baby boomer     |\n",
    "+-----------------+---------------------+\n",
    "|     < 1981      |     X generation    | \n",
    "+-----------------+---------------------+\n",
    "|     < 1994      |      millennial     | \n",
    "+-----------------+---------------------+\n",
    "|     > 1994      |    Z generation     | \n",
    "+-----------------+---------------------+\n",
    "```\n",
    "\n",
    "1. Define the function generation calculator. Write conditionals for each generation. For example, if you were born before 1949 you would be a \"silent generation\".\n",
    "2. Call the function to test it with different year values.\n",
    "3. Print the results."
   ]
  },
  {
   "cell_type": "code",
   "execution_count": null,
   "metadata": {},
   "outputs": [],
   "source": [
    "def generation_calculator(birth_year):\n",
    "    if birth_year < 1949:\n",
    "        return(\"Silent\")\n",
    "    elif birth_year < 1969:\n",
    "        return(\"Boomer\")\n",
    "    elif birth_year < 1981:\n",
    "        return(\"genX\")\n",
    "    elif birth_year < 1994:\n",
    "        return(\"millennial\")\n",
    "    elif birth_year > 1994:\n",
    "        return(\"genZ\")\n",
    "\n",
    "birth_year_input = int(input(\"Enter your birth year: \"))\n",
    "generation = generation_calculator(birth_year_input)\n",
    "print(\"You belong to the\", generation, \"generation.\")"
   ]
  }
 ],
 "metadata": {
  "colab": {
   "name": "4_iterations.ipynb",
   "provenance": []
  },
  "interpreter": {
   "hash": "767d51c1340bd893661ea55ea3124f6de3c7a262a8b4abca0554b478b1e2ff90"
  },
  "kernelspec": {
   "display_name": "Python 3 (ipykernel)",
   "language": "python",
   "name": "python3"
  },
  "language_info": {
   "codemirror_mode": {
    "name": "ipython",
    "version": 3
   },
   "file_extension": ".py",
   "mimetype": "text/x-python",
   "name": "python",
   "nbconvert_exporter": "python",
   "pygments_lexer": "ipython3",
   "version": "3.11.8"
  }
 },
 "nbformat": 4,
 "nbformat_minor": 4
}
