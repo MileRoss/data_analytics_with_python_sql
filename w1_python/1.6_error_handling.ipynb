{
 "cells": [
  {
   "cell_type": "markdown",
   "id": "8e2a4d75",
   "metadata": {
    "id": "8e2a4d75",
    "toc": true
   },
   "source": [
    "# Table of Contents\n",
    "1. [Error Handling](#error-handling)\n",
    "   1. [Different Types of Errors in Python](#different-types-of-errors-in-python)\n",
    "      1. [Attribute Error](#attribute-error)\n",
    "      2. [Index Error](#index-error)\n",
    "      3. [Key Error](#key-error)\n",
    "      4. [Type Error](#type-error)\n",
    "      5. [Value Error](#value-error)\n",
    "   2. [Error handling](#error-handling-1)\n",
    "      1. [Except with no specific exception type](#except-with-no-specific-exception-type)\n",
    "      2. [Saving the error with the alias `as`](#saving-the-error-with-the-alias-as)\n",
    "   3. [Raising errors](#raising-errors)\n",
    "   4. [💡 Check for understanding](#check-for-understanding)\n",
    "   5. [Summary](#summary)\n",
    "   6. [Extra: Data validation with `assert`](#extra-data-validation-with-assert)"
   ]
  },
  {
   "cell_type": "markdown",
   "id": "d35bfe3b-6b3f-4aa3-97ba-d0653e0eb7c6",
   "metadata": {
    "id": "d35bfe3b-6b3f-4aa3-97ba-d0653e0eb7c6"
   },
   "source": [
    "# Error Handling"
   ]
  },
  {
   "cell_type": "markdown",
   "id": "3abfd862-ab14-4a55-8c69-c75694cb8e6e",
   "metadata": {
    "id": "3abfd862-ab14-4a55-8c69-c75694cb8e6e"
   },
   "source": [
    "Errors (also known as exceptions) are issues in the code that will interrupt its execution. When an error occurs, the program stops running, and an error message is displayed, indicating the type of error and its location in the code."
   ]
  },
  {
   "cell_type": "code",
   "execution_count": null,
   "id": "10f97a99-c7f1-4427-a6a4-a03f32625de6",
   "metadata": {
    "colab": {
     "base_uri": "https://localhost:8080/",
     "height": 211
    },
    "executionInfo": {
     "elapsed": 10,
     "status": "error",
     "timestamp": 1708601109768,
     "user": {
      "displayName": "Ignacio Soteras",
      "userId": "02050793736257155229"
     },
     "user_tz": -60
    },
    "id": "10f97a99-c7f1-4427-a6a4-a03f32625de6",
    "outputId": "9233d38f-5ced-4b57-ba3f-552723e5d378"
   },
   "outputs": [],
   "source": [
    "for i in range(-2, 5):\n",
    "    print(f\"The value of i is {i} and the inverse of i is {1/i}\")\n",
    "    print(1/i)"
   ]
  },
  {
   "cell_type": "markdown",
   "id": "0556ab00-a074-471d-8f04-928169c92d7f",
   "metadata": {
    "id": "0556ab00-a074-471d-8f04-928169c92d7f"
   },
   "source": [
    "- Errors are a specific type of object in Python.\n",
    "- Errors can be intentionally raised using the keyword `raise`.\n",
    "\n",
    "```\n",
    "Raising an error (with raise) involves completely stopping the program.\n",
    "```\n",
    "\n",
    "- Errors often contain a message within them.\n",
    "> This message serves to help the user identify the problem and find a solution. Carefully reading the error messages is always necessary to reach a solution quickly."
   ]
  },
  {
   "cell_type": "code",
   "execution_count": null,
   "id": "84248bc9-8dd1-4693-96d7-a7af9566001a",
   "metadata": {
    "colab": {
     "base_uri": "https://localhost:8080/",
     "height": 211
    },
    "executionInfo": {
     "elapsed": 11,
     "status": "error",
     "timestamp": 1708601341988,
     "user": {
      "displayName": "Ignacio Soteras",
      "userId": "02050793736257155229"
     },
     "user_tz": -60
    },
    "id": "84248bc9-8dd1-4693-96d7-a7af9566001a",
    "outputId": "e4fc8b8a-5a95-4293-f5e8-561aba6b7959"
   },
   "outputs": [],
   "source": [
    "raise ZeroDivisionError('Why do you want to divide by 0?')\n",
    "\n",
    "for i in range(-2, 15):\n",
    "    if i == 0:\n",
    "        raise ZeroDivisionError('Why do you want to divide by 0?')\n",
    "    else:\n",
    "        print(f\"The ratio (1/i) is {1/i}\")"
   ]
  },
  {
   "cell_type": "markdown",
   "id": "0f96032e-0bd5-4c98-ae14-5ddfd57e097e",
   "metadata": {
    "id": "0f96032e-0bd5-4c98-ae14-5ddfd57e097e"
   },
   "source": [
    "## Different Types of Errors in Python\n",
    "\n",
    "There are many different types of errors in Python:\n",
    "\n",
    "- `AttributeError`: Accessing a non-existent attribute of an object.\n",
    "- `ImportError`: Failing to import a module or package.\n",
    "- `ModuleNotFoundError`: Attempting to import a module that doesn't exist.\n",
    "- `IndexError`: Accessing an index that is out of range in a list or string.\n",
    "- `KeyError`: Accessing a non-existent key in a dictionary.\n",
    "- `KeyboardInterrupt`: Interrupting the program's execution with a keyboard input (e.g., pressing Ctrl+C).\n",
    "- `NameError`: Using a variable or function that is not defined.\n",
    "- `SyntaxError`: Having incorrect syntax in the code.\n",
    "- `TypeError`: Performing an operation with incompatible data types.\n",
    "- `ValueError`: Using an incorrect value or type for a function or operation.\n",
    "- `ZeroDivisionError`: Attempting to divide by zero.\n",
    "\n",
    "These are just a few examples, and you can find more in the Python [documentation](https://docs.python.org/3/library/exceptions.html).\n",
    "\n",
    "Each type of error indicates a specific issue that may occur during program execution."
   ]
  },
  {
   "cell_type": "markdown",
   "id": "ecbf21b5-873f-42ea-9989-53fbf3ced900",
   "metadata": {
    "id": "ecbf21b5-873f-42ea-9989-53fbf3ced900"
   },
   "source": [
    "### Attribute Error"
   ]
  },
  {
   "cell_type": "code",
   "execution_count": null,
   "id": "39294a8b-3cbf-4529-b81e-979a1b69c508",
   "metadata": {
    "colab": {
     "base_uri": "https://localhost:8080/",
     "height": 193
    },
    "executionInfo": {
     "elapsed": 259,
     "status": "error",
     "timestamp": 1708601642200,
     "user": {
      "displayName": "Ignacio Soteras",
      "userId": "02050793736257155229"
     },
     "user_tz": -60
    },
    "id": "39294a8b-3cbf-4529-b81e-979a1b69c508",
    "outputId": "cb5475ef-2099-4aba-8fcd-fd63b47e91ba"
   },
   "outputs": [],
   "source": [
    "# Example: Trying to access a non-existent attribute of a string\n",
    "text = \"Hello, world!\"\n",
    "print(text.upper())   # Output: \"HELLO, WORLD!\"\n",
    "print(text.age)       # Raises AttributeError: 'str' object has no attribute 'age'"
   ]
  },
  {
   "cell_type": "markdown",
   "id": "799ae865-5236-49e0-9516-3694f9a93b75",
   "metadata": {
    "id": "799ae865-5236-49e0-9516-3694f9a93b75"
   },
   "source": [
    "### Index Error"
   ]
  },
  {
   "cell_type": "code",
   "execution_count": null,
   "id": "d5a6512d-c0ac-4090-adcc-84750b47a60e",
   "metadata": {
    "colab": {
     "base_uri": "https://localhost:8080/",
     "height": 193
    },
    "executionInfo": {
     "elapsed": 258,
     "status": "error",
     "timestamp": 1708601685462,
     "user": {
      "displayName": "Ignacio Soteras",
      "userId": "02050793736257155229"
     },
     "user_tz": -60
    },
    "id": "d5a6512d-c0ac-4090-adcc-84750b47a60e",
    "outputId": "7c04a683-6b9b-4708-e71b-9510026fca2a"
   },
   "outputs": [],
   "source": [
    "# Example: Accessing an index that is out of range\n",
    "numbers = [1, 2, 3]\n",
    "print(numbers[2])     # Output: 3\n",
    "print(numbers[5])     # Raises IndexError: list index out of range"
   ]
  },
  {
   "cell_type": "markdown",
   "id": "5d0feb16-41b8-42d4-af53-13f64333fa44",
   "metadata": {
    "id": "5d0feb16-41b8-42d4-af53-13f64333fa44"
   },
   "source": [
    "### Key Error"
   ]
  },
  {
   "cell_type": "code",
   "execution_count": null,
   "id": "6b79fda2-c1e3-4dc6-a4e9-44c7c00e1419",
   "metadata": {
    "colab": {
     "base_uri": "https://localhost:8080/",
     "height": 193
    },
    "executionInfo": {
     "elapsed": 276,
     "status": "error",
     "timestamp": 1708601737107,
     "user": {
      "displayName": "Ignacio Soteras",
      "userId": "02050793736257155229"
     },
     "user_tz": -60
    },
    "id": "6b79fda2-c1e3-4dc6-a4e9-44c7c00e1419",
    "outputId": "08cf5877-f4d1-4208-b00f-e404950625ca"
   },
   "outputs": [],
   "source": [
    "# Example: Accessing a non-existent key in a dictionary\n",
    "person = {\"name\": \"Alice\", \"age\": 30}\n",
    "print(person[\"name\"])   # Output: \"Alice\"\n",
    "print(person[\"gender\"]) # Raises KeyError: 'gender'\n"
   ]
  },
  {
   "cell_type": "markdown",
   "id": "0947b9f3-fdd4-44f1-af51-fe0f36ba1760",
   "metadata": {
    "id": "0947b9f3-fdd4-44f1-af51-fe0f36ba1760"
   },
   "source": [
    "### Type Error"
   ]
  },
  {
   "cell_type": "code",
   "execution_count": null,
   "id": "d9c2a37b-4f27-4399-b7ae-03fe6190a73f",
   "metadata": {
    "colab": {
     "base_uri": "https://localhost:8080/",
     "height": 176
    },
    "executionInfo": {
     "elapsed": 13,
     "status": "error",
     "timestamp": 1708601769586,
     "user": {
      "displayName": "Ignacio Soteras",
      "userId": "02050793736257155229"
     },
     "user_tz": -60
    },
    "id": "d9c2a37b-4f27-4399-b7ae-03fe6190a73f",
    "outputId": "87bb99c8-e2ca-48b9-c3a7-b877637e09da"
   },
   "outputs": [],
   "source": [
    "# Example: Performing an operation with incompatible data types\n",
    "num1 = 5\n",
    "num2 = \"10\"\n",
    "sum_result = num1 + num2   # Raises TypeError: unsupported operand type(s) for +: 'int' and 'str'\n"
   ]
  },
  {
   "cell_type": "markdown",
   "id": "e6846c1f-9a5e-46dd-b79d-2fab0ad9ec58",
   "metadata": {
    "id": "e6846c1f-9a5e-46dd-b79d-2fab0ad9ec58"
   },
   "source": [
    "### Value Error"
   ]
  },
  {
   "cell_type": "code",
   "execution_count": null,
   "id": "549a53f1-ce69-4bce-867e-36d3c9e94557",
   "metadata": {
    "colab": {
     "base_uri": "https://localhost:8080/",
     "height": 193
    },
    "executionInfo": {
     "elapsed": 256,
     "status": "error",
     "timestamp": 1708601823311,
     "user": {
      "displayName": "Ignacio Soteras",
      "userId": "02050793736257155229"
     },
     "user_tz": -60
    },
    "id": "549a53f1-ce69-4bce-867e-36d3c9e94557",
    "outputId": "9d3e5bf3-2097-4511-e027-837b2648a07e"
   },
   "outputs": [],
   "source": [
    "# Example: Using an incorrect value or type for a function\n",
    "num_str = \"123\"\n",
    "num_int = int(num_str)   # Convert string to integer\n",
    "print(num_int)           # Output: 123\n",
    "\n",
    "invalid_str = \"abc\"\n",
    "invalid_int = int(invalid_str)  # Raises ValueError: invalid literal for int() with base 10: 'abc'\n"
   ]
  },
  {
   "cell_type": "markdown",
   "id": "43687876-b9f5-477a-bfef-07a40a7ad290",
   "metadata": {
    "id": "43687876-b9f5-477a-bfef-07a40a7ad290",
    "lang": "en"
   },
   "source": [
    "## Error handling\n",
    "\n",
    "Error handling is an essential aspect of programming, as it allows you to anticipate and manage potential issues that may arise during program execution.\n",
    "\n",
    "In Python, error handling is achieved using try-except blocks, allowing you to gracefully handle exceptions and prevent unexpected program crashes.\n",
    "\n",
    "\n",
    "\n",
    "**Syntax of Try-Except Block:**\n",
    "```python\n",
    "try:\n",
    "    # Code that may raise an exception\n",
    "except SpecificExceptionType:\n",
    "    # Code to handle the specific exception\n",
    "except AnotherExceptionType:\n",
    "    # Code to handle another specific exception\n",
    "...\n",
    "else:\n",
    "    # Code that will run if no exception occurs\n",
    "finally:\n",
    "    # Code that will always run, regardless of exceptions\n",
    "```\n",
    "\n",
    "![](https://github.com/data-bootcamp-v4/lessons/blob/main/img/error-handling.png?raw=true)\n",
    "\n",
    "**Key Concepts:**\n",
    "\n",
    "1. **Exceptions:**\n",
    "   In Python, when an error occurs during program execution, it raises an exception. Exceptions are objects that represent errors and contain information about what went wrong.\n",
    "\n",
    "2. **Try-Except Block:**\n",
    "   The try-except block is used to handle exceptions in Python. The code that may raise an exception is placed inside the `try` block. If an exception occurs, it is caught and handled in the `except` block.\n",
    "\n",
    "3. **Handling Specific Exceptions:**\n",
    "   You can specify the type of exception you want to catch in the `except` block. This allows you to handle different types of errors differently and provide appropriate error messages.\n",
    "\n",
    "4. **The Else Block**:\n",
    "    The else block, if provided, will be executed only if no exceptions occur in the try block. It allows you to include code that should run when the try block completes successfully.\n",
    "\n",
    "5. **Finally Block:**\n",
    "   The `finally` block, if provided, will be executed regardless of whether an exception occurred or not. It is typically used to perform cleanup actions or close resources."
   ]
  },
  {
   "cell_type": "code",
   "execution_count": null,
   "id": "7b5d8e6a-406b-417e-9e0b-95b218fa1cfb",
   "metadata": {
    "executionInfo": {
     "elapsed": 223,
     "status": "ok",
     "timestamp": 1708602074613,
     "user": {
      "displayName": "Ignacio Soteras",
      "userId": "02050793736257155229"
     },
     "user_tz": -60
    },
    "id": "7b5d8e6a-406b-417e-9e0b-95b218fa1cfb"
   },
   "outputs": [],
   "source": [
    "def divide(a, b):\n",
    "    try:\n",
    "        result = a / b\n",
    "    except ZeroDivisionError:\n",
    "        print(\"Error: Cannot divide by zero.\")\n",
    "        return None\n",
    "    except TypeError:\n",
    "        print(\"Error: Both arguments must be numbers.\")\n",
    "        return None\n",
    "    else:\n",
    "        print(\"Division successful.\")\n",
    "        return result\n",
    "    finally:\n",
    "        print(\"Operation complete.\")"
   ]
  },
  {
   "cell_type": "code",
   "execution_count": null,
   "id": "00281f20-bf61-4ebf-94cc-dfbe5e1f1f10",
   "metadata": {
    "colab": {
     "base_uri": "https://localhost:8080/"
    },
    "executionInfo": {
     "elapsed": 336,
     "status": "ok",
     "timestamp": 1708602078108,
     "user": {
      "displayName": "Ignacio Soteras",
      "userId": "02050793736257155229"
     },
     "user_tz": -60
    },
    "id": "00281f20-bf61-4ebf-94cc-dfbe5e1f1f10",
    "outputId": "52381cdd-085d-4f5a-a718-796f56d613c4"
   },
   "outputs": [],
   "source": [
    "# Using the divide function with error handling\n",
    "print(divide(10, 2))    # Output: Division successful. 5.0"
   ]
  },
  {
   "cell_type": "code",
   "execution_count": null,
   "id": "f797fb1c-988a-45e5-8174-58aa4db24b79",
   "metadata": {
    "colab": {
     "base_uri": "https://localhost:8080/"
    },
    "executionInfo": {
     "elapsed": 5,
     "status": "ok",
     "timestamp": 1708602102700,
     "user": {
      "displayName": "Ignacio Soteras",
      "userId": "02050793736257155229"
     },
     "user_tz": -60
    },
    "id": "f797fb1c-988a-45e5-8174-58aa4db24b79",
    "outputId": "63052ada-4a34-44a0-cfc1-7a9ecd0de904"
   },
   "outputs": [],
   "source": [
    "print(divide(10, 0))    # Output: Error: Cannot divide by zero. None"
   ]
  },
  {
   "cell_type": "code",
   "execution_count": null,
   "id": "dec1b57a-580e-4c12-a1fc-7e4f5dd0404f",
   "metadata": {
    "colab": {
     "base_uri": "https://localhost:8080/"
    },
    "executionInfo": {
     "elapsed": 251,
     "status": "ok",
     "timestamp": 1708602121710,
     "user": {
      "displayName": "Ignacio Soteras",
      "userId": "02050793736257155229"
     },
     "user_tz": -60
    },
    "id": "dec1b57a-580e-4c12-a1fc-7e4f5dd0404f",
    "outputId": "cd7e941d-f870-487f-b0dc-587e1c00275f"
   },
   "outputs": [],
   "source": [
    "print(divide(10, '2'))  # Output: Error: Both arguments must be numbers. None"
   ]
  },
  {
   "cell_type": "markdown",
   "id": "c40c2d67-98fe-496f-a5ac-47cb8f95d61b",
   "metadata": {
    "id": "c40c2d67-98fe-496f-a5ac-47cb8f95d61b"
   },
   "source": [
    "### Except with no specific exception type\n",
    "\n",
    "The `except` block with no specific exception type (i.e., a general `except` block) is used to catch any exception that occurs in the `try` block that is not caught by previous `except` blocks with specific exception types.\n",
    "\n",
    "Here's the syntax of a general `except` block:\n",
    "\n",
    "```python\n",
    "try:\n",
    "    # Code that may raise an exception\n",
    "except SpecificExceptionType:\n",
    "    # Code to handle a specific exception\n",
    "except AnotherExceptionType:\n",
    "    # Code to handle another specific exception\n",
    "except:\n",
    "    # Code to handle any other exception (general catch-all)\n",
    "```\n"
   ]
  },
  {
   "cell_type": "code",
   "execution_count": null,
   "id": "4ebe8e29-5d0a-4bef-b0d2-640725fe955c",
   "metadata": {
    "executionInfo": {
     "elapsed": 241,
     "status": "ok",
     "timestamp": 1708602208679,
     "user": {
      "displayName": "Ignacio Soteras",
      "userId": "02050793736257155229"
     },
     "user_tz": -60
    },
    "id": "4ebe8e29-5d0a-4bef-b0d2-640725fe955c"
   },
   "outputs": [],
   "source": [
    "list_1 = [1, 2, 3, 4, 5, \"3\", 50, 700]"
   ]
  },
  {
   "cell_type": "code",
   "execution_count": null,
   "id": "cd2e9b41-a139-49af-9889-f03847e297da",
   "metadata": {
    "colab": {
     "base_uri": "https://localhost:8080/",
     "height": 176
    },
    "executionInfo": {
     "elapsed": 330,
     "status": "error",
     "timestamp": 1708602227350,
     "user": {
      "displayName": "Ignacio Soteras",
      "userId": "02050793736257155229"
     },
     "user_tz": -60
    },
    "id": "cd2e9b41-a139-49af-9889-f03847e297da",
    "outputId": "ac75149b-37e1-4538-8c8f-8eee1835a42f"
   },
   "outputs": [],
   "source": [
    "list_appended = []\n",
    "for i in list_1:\n",
    "    list_appended.append(i * 2.5)"
   ]
  },
  {
   "cell_type": "code",
   "execution_count": null,
   "id": "a7e96391-88cc-4f43-bfd9-3d3c8e80ccaa",
   "metadata": {
    "colab": {
     "base_uri": "https://localhost:8080/"
    },
    "executionInfo": {
     "elapsed": 394,
     "status": "ok",
     "timestamp": 1708602246661,
     "user": {
      "displayName": "Ignacio Soteras",
      "userId": "02050793736257155229"
     },
     "user_tz": -60
    },
    "id": "a7e96391-88cc-4f43-bfd9-3d3c8e80ccaa",
    "outputId": "7608205f-850b-48a6-fc8e-c2edf2923634"
   },
   "outputs": [],
   "source": [
    "list_appended # it stopped appending numbers because of the error"
   ]
  },
  {
   "cell_type": "code",
   "execution_count": null,
   "id": "c09f5401-a40f-4a6f-a969-b4e105582926",
   "metadata": {
    "colab": {
     "base_uri": "https://localhost:8080/"
    },
    "executionInfo": {
     "elapsed": 249,
     "status": "ok",
     "timestamp": 1708602279555,
     "user": {
      "displayName": "Ignacio Soteras",
      "userId": "02050793736257155229"
     },
     "user_tz": -60
    },
    "id": "c09f5401-a40f-4a6f-a969-b4e105582926",
    "outputId": "0a924ffa-f275-4f63-9b31-ebb4d2ef6fef"
   },
   "outputs": [],
   "source": [
    "# With error handling\n",
    "list_1 = [1, 2, 3, 4, 5, \"3\", 50, 700]\n",
    "list_ = []\n",
    "for i in list_1:\n",
    "    try:\n",
    "        list_.append(i * 2.5)\n",
    "    except:\n",
    "        print(\"Something happened here, we should do something else\")\n",
    "list_ # we'll see that it didn't stop appending numbers"
   ]
  },
  {
   "cell_type": "code",
   "execution_count": null,
   "id": "p9QQji2los9C",
   "metadata": {
    "colab": {
     "base_uri": "https://localhost:8080/"
    },
    "executionInfo": {
     "elapsed": 6,
     "status": "ok",
     "timestamp": 1708602435607,
     "user": {
      "displayName": "Ignacio Soteras",
      "userId": "02050793736257155229"
     },
     "user_tz": -60
    },
    "id": "p9QQji2los9C",
    "outputId": "9dc49b3a-4707-4de2-871b-c0caaed4a3b4"
   },
   "outputs": [],
   "source": [
    "list_1 = [1, 2, \"3\", 4, 5, \"3\", 50, 700]\n",
    "list_ = []\n",
    "for i in list_1:\n",
    "    try:\n",
    "        list_.append(i * 2.5)\n",
    "    except:\n",
    "        print(f\"Something happened here, we should do something else because the value {i} is of type {type(i)}\")\n",
    "list_ # we'll see that it didn't stop appending numbers"
   ]
  },
  {
   "cell_type": "markdown",
   "id": "6b0d1590-46e8-4fc4-b259-83c547918950",
   "metadata": {
    "id": "6b0d1590-46e8-4fc4-b259-83c547918950"
   },
   "source": [
    "### Saving the error with the alias `as`\n",
    "\n",
    "We can also save in a variable the error returned by the Exception."
   ]
  },
  {
   "cell_type": "code",
   "execution_count": null,
   "id": "df169c69-d514-4aa7-9193-0ec1fd6b24a3",
   "metadata": {
    "executionInfo": {
     "elapsed": 305,
     "status": "ok",
     "timestamp": 1708602808266,
     "user": {
      "displayName": "Ignacio Soteras",
      "userId": "02050793736257155229"
     },
     "user_tz": -60
    },
    "id": "df169c69-d514-4aa7-9193-0ec1fd6b24a3"
   },
   "outputs": [],
   "source": [
    "def append_upper(list_):\n",
    "    empty_list = []\n",
    "\n",
    "    for i in range(4):\n",
    "        try:\n",
    "            empty_list.append(list_[i].upper())\n",
    "\n",
    "        except Exception as something_else:\n",
    "            print(type(something_else))\n",
    "            print(something_else)\n",
    "            empty_list.append(\"ERRORRRRR\")\n",
    "\n",
    "    return empty_list"
   ]
  },
  {
   "cell_type": "code",
   "execution_count": null,
   "id": "09c594b5-e0aa-4695-bd12-3e59a40e22bc",
   "metadata": {
    "colab": {
     "base_uri": "https://localhost:8080/"
    },
    "executionInfo": {
     "elapsed": 290,
     "status": "ok",
     "timestamp": 1708602662655,
     "user": {
      "displayName": "Ignacio Soteras",
      "userId": "02050793736257155229"
     },
     "user_tz": -60
    },
    "id": "09c594b5-e0aa-4695-bd12-3e59a40e22bc",
    "outputId": "ca29f421-decf-45fa-e331-a3345f53fb0f"
   },
   "outputs": [],
   "source": [
    "append_upper([\"a word\", \"this is another word\", \"another random string\"])"
   ]
  },
  {
   "cell_type": "markdown",
   "id": "19ea7b91-3524-4af1-afe9-0f7ce6162ab4",
   "metadata": {
    "id": "19ea7b91-3524-4af1-afe9-0f7ce6162ab4",
    "lang": "en"
   },
   "source": [
    "## Raising errors\n",
    "\n",
    "In Python, you can use the `raise` keyword to intentionally create errors (exceptions). It allows you to handle exceptional cases and provide informative feedback when something unexpected occurs during program execution.\n",
    "\n",
    "**Syntax of Raising Errors:**\n",
    "```python\n",
    "raise ErrorType(\"Optional error message\")\n",
    "```\n"
   ]
  },
  {
   "cell_type": "code",
   "execution_count": null,
   "id": "c02cdfe8-2963-4069-8b38-344a68da588d",
   "metadata": {
    "executionInfo": {
     "elapsed": 300,
     "status": "ok",
     "timestamp": 1708607159688,
     "user": {
      "displayName": "Ignacio Soteras",
      "userId": "02050793736257155229"
     },
     "user_tz": -60
    },
    "id": "c02cdfe8-2963-4069-8b38-344a68da588d"
   },
   "outputs": [],
   "source": [
    "def calculate_age(year_born):\n",
    "    current_year = 2023\n",
    "    age = current_year - year_born\n",
    "\n",
    "    if age < 0:\n",
    "        raise ValueError(\"Invalid birth year. Year must be in the past.\")\n",
    "\n",
    "    return age"
   ]
  },
  {
   "cell_type": "code",
   "execution_count": null,
   "id": "7dd6437d-f83c-4ca4-8d6b-9a57ae87fdb6",
   "metadata": {
    "colab": {
     "base_uri": "https://localhost:8080/",
     "height": 315
    },
    "executionInfo": {
     "elapsed": 270,
     "status": "error",
     "timestamp": 1708607165621,
     "user": {
      "displayName": "Ignacio Soteras",
      "userId": "02050793736257155229"
     },
     "user_tz": -60
    },
    "id": "7dd6437d-f83c-4ca4-8d6b-9a57ae87fdb6",
    "outputId": "5eec78c7-6e52-4748-e2cf-bfff6273ab7f"
   },
   "outputs": [],
   "source": [
    "try:\n",
    "    age = calculate_age(\"Hello\")  # Raises ValueError\n",
    "except ValueError as e:\n",
    "    print(\"Error:\", str(e))"
   ]
  },
  {
   "cell_type": "markdown",
   "id": "978fe672-e644-4f84-a672-403f24bf9460",
   "metadata": {
    "id": "978fe672-e644-4f84-a672-403f24bf9460"
   },
   "source": [
    "## Check for understanding"
   ]
  },
  {
   "cell_type": "markdown",
   "id": "c15172f3-f59f-4fa5-90c8-c5b15a656ceb",
   "metadata": {
    "id": "c15172f3-f59f-4fa5-90c8-c5b15a656ceb"
   },
   "source": [
    "1. Define a function called `calculate_statistics(data)` that takes a list of numerical data as input and returns a dictionary containing the following statistics:\n",
    "   - Mean (average) of the data.\n",
    "   - Median (middle value) of the data.\n",
    "   - Minimum value in the data.\n",
    "   - Maximum value in the data.\n",
    "\n",
    "Use a try-except block to handle possible errors.\n",
    "\n",
    "2. In the main part of the program:\n",
    "   - Prompt the user to enter a list of numerical values separated by spaces.\n",
    "   - Convert the user input into a list of floats using a list comprehension.\n",
    "   - Call the `calculate_statistics` function with the input data and display the calculated statistics in a readable format.\n",
    "\n"
   ]
  },
  {
   "cell_type": "code",
   "execution_count": null,
   "id": "6e39f48a-86c2-44c0-a3ee-e75f880c655b",
   "metadata": {},
   "outputs": [],
   "source": [
    "import numpy as np\n",
    "\n",
    "def calculate_statistics():\n",
    "    while True:\n",
    "        try:\n",
    "            data = input(\"Enter a list of 5 numerical values separated by spaces, for example: 1 2 3 4 5: \")\n",
    "            data = [float(i) for i in data.split()]\n",
    "            \n",
    "            if len(data) != 5:\n",
    "                raise ValueError(\"Error: You must enter exactly 5 numerical values.\")\n",
    "                \n",
    "            statistics = {\n",
    "                \"Mean\": np.mean(data), \n",
    "                \"Median\": np.median(data), \n",
    "                \"Minimum\": np.min(data), \n",
    "                \"Maximum\": np.max(data)\n",
    "            }\n",
    "\n",
    "            for key, value in statistics.items():\n",
    "                print(f\"{key}: {value:.1f}\")\n",
    "\n",
    "            break\n",
    "\n",
    "        except ValueError as e:\n",
    "            print(e)\n",
    "\n",
    "calculate_statistics()"
   ]
  },
  {
   "cell_type": "code",
   "execution_count": null,
   "id": "6_cuDCw-6Xih",
   "metadata": {
    "colab": {
     "base_uri": "https://localhost:8080/"
    },
    "executionInfo": {
     "elapsed": 3363,
     "status": "ok",
     "timestamp": 1708609818888,
     "user": {
      "displayName": "Ignacio Soteras",
      "userId": "02050793736257155229"
     },
     "user_tz": -60
    },
    "id": "6_cuDCw-6Xih",
    "outputId": "68d8dc8b-703f-4b7a-ffb0-e5992dcfd76a"
   },
   "outputs": [],
   "source": [
    "def calculate_statistics(data):\n",
    "\n",
    "    if not isinstance(data, list):\n",
    "        raise TypeError(\"Sorry the input type is not a list!\")\n",
    "\n",
    "    statistics = {\"Mean\": sum(data)/len(data), \"Median\": median(data), \"Minimum\": min(data), \"Maximum\": max(data)}\n",
    "\n",
    "    return statistics\n",
    "\n",
    "correct = False\n",
    "while not correct:\n",
    "    try:\n",
    "        user_input = input(\"Please enter a set of numerical values separated by spaces: \")\n",
    "        numbers = [float(value) for value in user_input.split()]\n",
    "        correct = True\n",
    "    except:\n",
    "        print(\"Sorry one or more of the inputs couldn't be casted as a number. Please try again\")\n",
    "        print(\"\")\n",
    "\n",
    "results = calculate_statistics(numbers)\n",
    "\n",
    "print(\"\")\n",
    "for key, value in results.items():\n",
    "    print(f\"The {key} of the numbers is: {value: .1f}\")"
   ]
  },
  {
   "cell_type": "markdown",
   "id": "67ee2d8d-b418-4e37-9fea-3169dd8bb418",
   "metadata": {
    "id": "67ee2d8d-b418-4e37-9fea-3169dd8bb418",
    "lang": "en"
   },
   "source": [
    "## Summary\n"
   ]
  },
  {
   "cell_type": "markdown",
   "id": "99e9c59d-274c-4264-8010-6a01b2f6c987",
   "metadata": {
    "id": "99e9c59d-274c-4264-8010-6a01b2f6c987"
   },
   "source": [
    "- Exceptions are logical errors that disrupt the flow of your code.\n",
    "- Python uses 'try-except' blocks to prevent the program from breaking when an exception occurs.\n",
    "- These blocks can be customized to handle specific exceptions, like ValueError or TypeError, or can be used generally to catch all exceptions using 'except Exception'.\n",
    "- The 'raise' keyword allows programmers to intentionally trigger exceptions.\n",
    "- This feature is crucial when you need to ensure certain conditions in your code are met. If these conditions aren't met, the exception, coupled with a user-defined message, highlights the problem.\n",
    "- Regardless of your coding environment, whether it's the terminal or a Jupyter notebook, it's essential to read these exception messages. They offer important insights into what went wrong, enabling you to quickly identify and correct errors in your code.\n"
   ]
  },
  {
   "cell_type": "markdown",
   "id": "374d1b6a-22d9-47e6-abd4-9e3513a73bd1",
   "metadata": {
    "id": "374d1b6a-22d9-47e6-abd4-9e3513a73bd1",
    "lang": "en"
   },
   "source": [
    "## Extra: Data validation with `assert`"
   ]
  },
  {
   "cell_type": "markdown",
   "id": "832a4880-042c-4e4e-bf97-62af0d9624c1",
   "metadata": {
    "id": "832a4880-042c-4e4e-bf97-62af0d9624c1",
    "lang": "en"
   },
   "source": [
    "Python provides a way to set enforceable conditions, that is, conditions that an object must meet or else an exception will be thrown. It is like a kind of \"safety net\" against possible failures of the programmer. The `assert` statement adds controls for debugging a program. It allows us to express a condition that must always be true, and that, if not, will interrupt the program, generating an exception to handle called AssertionError. The way to call this expression is as follows:\n",
    "```python\n",
    "assert boolean condition\n",
    "```\n",
    "In case the boolean expression is true, assert does nothing. If it is false, it throws an exception. Let's see an example to understand it."
   ]
  },
  {
   "cell_type": "code",
   "execution_count": null,
   "id": "b9ecaab8-4f0c-49a3-b3a8-094521654d21",
   "metadata": {
    "colab": {
     "base_uri": "https://localhost:8080/",
     "height": 141
    },
    "executionInfo": {
     "elapsed": 257,
     "status": "error",
     "timestamp": 1708610322500,
     "user": {
      "displayName": "Ignacio Soteras",
      "userId": "02050793736257155229"
     },
     "user_tz": -60
    },
    "id": "b9ecaab8-4f0c-49a3-b3a8-094521654d21",
    "outputId": "54bac08c-3a6f-42d2-b301-b2b418ab8874"
   },
   "outputs": [],
   "source": [
    "assert 1 == 2, \"condition is not true\""
   ]
  },
  {
   "cell_type": "code",
   "execution_count": null,
   "id": "a83c1184-8091-4615-b8da-96aca1bba5c9",
   "metadata": {
    "executionInfo": {
     "elapsed": 285,
     "status": "ok",
     "timestamp": 1708610398751,
     "user": {
      "displayName": "Ignacio Soteras",
      "userId": "02050793736257155229"
     },
     "user_tz": -60
    },
    "id": "a83c1184-8091-4615-b8da-96aca1bba5c9"
   },
   "outputs": [],
   "source": [
    "list_ = [0 , 1, 2, 3, 4, 3]"
   ]
  },
  {
   "cell_type": "code",
   "execution_count": null,
   "id": "725f87e4-46b9-43ca-a09a-796c5e16c2dc",
   "metadata": {
    "colab": {
     "base_uri": "https://localhost:8080/",
     "height": 141
    },
    "executionInfo": {
     "elapsed": 273,
     "status": "error",
     "timestamp": 1708610407226,
     "user": {
      "displayName": "Ignacio Soteras",
      "userId": "02050793736257155229"
     },
     "user_tz": -60
    },
    "id": "725f87e4-46b9-43ca-a09a-796c5e16c2dc",
    "outputId": "7432db2a-7dda-49b9-bbce-a52e84650fc3"
   },
   "outputs": [],
   "source": [
    "assert len(list_) == 5, \"this is not 5\""
   ]
  },
  {
   "cell_type": "code",
   "execution_count": null,
   "id": "2096e3ea-ed5b-4ba0-9438-bca442fb6e58",
   "metadata": {
    "colab": {
     "base_uri": "https://localhost:8080/",
     "height": 211
    },
    "executionInfo": {
     "elapsed": 241,
     "status": "error",
     "timestamp": 1708610480432,
     "user": {
      "displayName": "Ignacio Soteras",
      "userId": "02050793736257155229"
     },
     "user_tz": -60
    },
    "id": "2096e3ea-ed5b-4ba0-9438-bca442fb6e58",
    "outputId": "5d47e22f-a98d-440d-9b7b-39682d3d324f"
   },
   "outputs": [],
   "source": [
    "result_test = 0\n",
    "result_of_your_function = 255\n",
    "\n",
    "assert result_test == result_of_your_function,  f\"0 != {result_of_your_function}\"\n",
    "\n",
    "# 0 != 255"
   ]
  },
  {
   "cell_type": "code",
   "execution_count": null,
   "id": "830f637a-f041-4b42-bd43-d9372ef6f828",
   "metadata": {
    "colab": {
     "base_uri": "https://localhost:8080/"
    },
    "executionInfo": {
     "elapsed": 252,
     "status": "ok",
     "timestamp": 1708610575391,
     "user": {
      "displayName": "Ignacio Soteras",
      "userId": "02050793736257155229"
     },
     "user_tz": -60
    },
    "id": "830f637a-f041-4b42-bd43-d9372ef6f828",
    "outputId": "6c4afc97-b90d-45f0-eb8a-28f59e20e72e"
   },
   "outputs": [],
   "source": [
    "list_ = [1, 2, 3, 4, 5]\n",
    "\n",
    "new_list = []\n",
    "\n",
    "try:\n",
    "    for n in list_:\n",
    "        assert len(list_) > 3 #this is always met\n",
    "        print(list_)\n",
    "        new_list.append(list_.pop())\n",
    "\n",
    "except AssertionError:\n",
    "        print(\"something\")\n",
    "\n",
    "print(new_list)"
   ]
  }
 ],
 "metadata": {
  "colab": {
   "provenance": []
  },
  "kernelspec": {
   "display_name": "Python 3 (ipykernel)",
   "language": "python",
   "name": "python3"
  },
  "language_info": {
   "codemirror_mode": {
    "name": "ipython",
    "version": 3
   },
   "file_extension": ".py",
   "mimetype": "text/x-python",
   "name": "python",
   "nbconvert_exporter": "python",
   "pygments_lexer": "ipython3",
   "version": "3.11.8"
  },
  "toc": {
   "base_numbering": 1,
   "nav_menu": {},
   "number_sections": true,
   "sideBar": true,
   "skip_h1_title": false,
   "title_cell": "Table of Contents",
   "title_sidebar": "Contents",
   "toc_cell": true,
   "toc_position": {},
   "toc_section_display": true,
   "toc_window_display": false
  }
 },
 "nbformat": 4,
 "nbformat_minor": 5
}
