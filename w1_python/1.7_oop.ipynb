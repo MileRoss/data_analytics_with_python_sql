{
 "cells": [
  {
   "cell_type": "markdown",
   "id": "0cfc34d7",
   "metadata": {
    "id": "0cfc34d7",
    "toc": true
   },
   "source": [
    "# Table of Contents\n",
    "1. [Object-Oriented Programming (OOP)](#object-oriented-programming-oop)\n",
    "   1. [What is Object-Oriented Programming (OOP)?](#what-is-object-oriented-programming-oop)\n",
    "      1. [Example with cookies](#example-with-cookies)\n",
    "      2. [Example lists](#example-lists)\n",
    "      3. [Example with floats](#example-with-floats)\n",
    "      4. [Example with Strings](#example-with-strings)\n",
    "      5. [Methods and Attributes](#methods-and-attributes)\n",
    "      6. [Important: method vs function vs attribute](#important-method-vs-function-vs-attribute)\n",
    "      7. [Mini-recap](#mini-recap)\n",
    "   2. [Creating Classes and Objects](#creating-classes-and-objects)\n",
    "   3. [Creating Objects (Instances)](#creating-objects-instances)\n",
    "   4. [Accessing Attributes and Methods](#accessing-attributes-and-methods)\n",
    "   5. [More](#more)\n",
    "      1. [Default attributes](#default-attributes)\n",
    "      2. [Instance vs. Class Attributes and Methods](#instance-vs-class-attributes-and-methods)\n",
    "   6. [💡 Check for understanding](#check-for-understanding)\n",
    "      1. [Easy exercise](#easy-exercise)\n",
    "      2. [Medium exercise](#medium-exercise)\n",
    "2. [Summary](#summary)\n",
    "3. [Extra: Inheritance](#extra-inheritance)\n",
    "   1. [Inheriting Methods](#inheriting-methods)\n",
    "   2. [Super() method](#super-method)\n",
    "   3. [Example](#example)\n",
    "   4. [Further materials](#further-materials)\n",
    "      1. [Advanced Methods @classmethod @staticmethod](#advanced-methods-classmethod-staticmethod)"
   ]
  },
  {
   "cell_type": "markdown",
   "id": "bea606e4-9938-4f4b-95a8-cdf8e7fc1b5c",
   "metadata": {
    "id": "bea606e4-9938-4f4b-95a8-cdf8e7fc1b5c",
    "lang": "en"
   },
   "source": [
    "# Object-Oriented Programming (OOP)"
   ]
  },
  {
   "cell_type": "markdown",
   "id": "bb011f6c-ee62-45a1-aa15-e62b399d40b5",
   "metadata": {
    "id": "bb011f6c-ee62-45a1-aa15-e62b399d40b5"
   },
   "source": [
    "## What is Object-Oriented Programming (OOP)?"
   ]
  },
  {
   "cell_type": "markdown",
   "id": "01f0ff63-06d5-4d67-a3f8-2b1f8ad7d455",
   "metadata": {
    "id": "01f0ff63-06d5-4d67-a3f8-2b1f8ad7d455"
   },
   "source": [
    "Object-Oriented Programming (OOP) is a programming paradigm, i.e. an approach or style of writing code that guides how programmers solve problems using a programming language.\n",
    "\n",
    "- It is based on the concept of **objects**, which can store both data (**attributes**) and the functions (**methods**) that work with that data.\n",
    "\n",
    "- Objects are **instances** of **classes**. A class is a blueprint or template that defines the structure and behavior of objects. The class defines what data the object can hold (attributes) and what actions it can perform (methods).\n",
    "\n",
    "Thanks to this, we can group related data and functions together under a single data type (the object \"class\"). i.e. By using this blueprint, called a **class**, we can create many **objects** of the same type. This makes our code more modular and easier to reuse, like building blocks we can use again and again."
   ]
  },
  {
   "cell_type": "markdown",
   "id": "3ac8f860-93a5-4da9-845b-237b2cfe1184",
   "metadata": {
    "id": "3ac8f860-93a5-4da9-845b-237b2cfe1184"
   },
   "source": [
    "### Example with cookies"
   ]
  },
  {
   "cell_type": "markdown",
   "id": "5b214584-ace8-4cc9-8255-7da4b796d845",
   "metadata": {
    "id": "5b214584-ace8-4cc9-8255-7da4b796d845"
   },
   "source": [
    "Think of classes as cookie cutters, and objects as the cookies they create. All cookies made from the same cutter have the same shape (the class's design), but after baking, each cookie becomes unique with different colors, textures, and flavors (the object's individual attributes). So, a class is like a recipe that explains how the objects made from it should look and behave."
   ]
  },
  {
   "cell_type": "markdown",
   "id": "778a8670-524f-4f7d-b011-efb83eddca11",
   "metadata": {
    "id": "778a8670-524f-4f7d-b011-efb83eddca11"
   },
   "source": [
    "### Example lists"
   ]
  },
  {
   "cell_type": "markdown",
   "id": "ac773650-a114-4a31-a3d0-afa4550d5b3e",
   "metadata": {
    "id": "ac773650-a114-4a31-a3d0-afa4550d5b3e"
   },
   "source": [
    "Let's take a built-in **class** in Python called `list`.\n",
    "\n",
    "We can use the `help()` function to look into what a list is or the `dir()` function that returns all properties and methods of the specified object.\n"
   ]
  },
  {
   "cell_type": "code",
   "execution_count": null,
   "id": "52b52f1a-08c1-44eb-9c71-a6c3cc1c5be2",
   "metadata": {},
   "outputs": [],
   "source": [
    "list = (1,2,3)\n",
    "list"
   ]
  },
  {
   "cell_type": "code",
   "execution_count": null,
   "id": "98c0f1e9-f8fa-4496-b27d-935d0b973216",
   "metadata": {
    "colab": {
     "base_uri": "https://localhost:8080/"
    },
    "executionInfo": {
     "elapsed": 11,
     "status": "ok",
     "timestamp": 1708694670080,
     "user": {
      "displayName": "Ignacio Soteras",
      "userId": "02050793736257155229"
     },
     "user_tz": -60
    },
    "id": "98c0f1e9-f8fa-4496-b27d-935d0b973216",
    "outputId": "694b5061-48cb-45ac-820a-90e846805ce2"
   },
   "outputs": [],
   "source": [
    "help(list)"
   ]
  },
  {
   "cell_type": "markdown",
   "id": "40dbd815-5d49-46f1-ba32-6cea0395af1b",
   "metadata": {
    "id": "40dbd815-5d49-46f1-ba32-6cea0395af1b"
   },
   "source": [
    "*Double under score -> internal python thingies. The double underscore (`__`) is used for special or \"magic\" methods in Python, which allow customization of object behavior for built-in functionalities. Not covered in this bootcamp.*"
   ]
  },
  {
   "cell_type": "code",
   "execution_count": null,
   "id": "0dfda82a-7862-4826-9152-71d61133faf0",
   "metadata": {
    "colab": {
     "base_uri": "https://localhost:8080/"
    },
    "executionInfo": {
     "elapsed": 291,
     "status": "ok",
     "timestamp": 1708694749475,
     "user": {
      "displayName": "Ignacio Soteras",
      "userId": "02050793736257155229"
     },
     "user_tz": -60
    },
    "id": "0dfda82a-7862-4826-9152-71d61133faf0",
    "outputId": "f2d7cc4e-b3c9-4aec-efcb-7b8b95878928"
   },
   "outputs": [],
   "source": [
    "dir(list)"
   ]
  },
  {
   "cell_type": "code",
   "execution_count": null,
   "id": "553466b9-6276-4ae2-af12-373fa4df4a88",
   "metadata": {
    "colab": {
     "base_uri": "https://localhost:8080/"
    },
    "executionInfo": {
     "elapsed": 221,
     "status": "ok",
     "timestamp": 1708694886685,
     "user": {
      "displayName": "Ignacio Soteras",
      "userId": "02050793736257155229"
     },
     "user_tz": -60
    },
    "id": "553466b9-6276-4ae2-af12-373fa4df4a88",
    "outputId": "a7e1a85b-315e-45bc-8cf2-510672306083"
   },
   "outputs": [],
   "source": [
    "# dir returns a list, what if we don't want to look at __... ?\n",
    "\n",
    "[element for element in dir(list) if \"_\" not in element]"
   ]
  },
  {
   "cell_type": "markdown",
   "id": "417a0d73-b566-4660-b72d-f2a0c7c4c79d",
   "metadata": {
    "id": "417a0d73-b566-4660-b72d-f2a0c7c4c79d"
   },
   "source": [
    "We can see information about the `list` **class** including various **methods** you can use to manipulate lists in Python."
   ]
  },
  {
   "cell_type": "markdown",
   "id": "349e3a8c-d067-4091-8fff-9e75f17052d7",
   "metadata": {
    "id": "349e3a8c-d067-4091-8fff-9e75f17052d7"
   },
   "source": [
    "We can create objects of the `list` class without defining the class ourselves:"
   ]
  },
  {
   "cell_type": "code",
   "execution_count": null,
   "id": "5d739ff8-9800-4548-9330-13ddd19d3b6a",
   "metadata": {
    "executionInfo": {
     "elapsed": 254,
     "status": "ok",
     "timestamp": 1708694938402,
     "user": {
      "displayName": "Ignacio Soteras",
      "userId": "02050793736257155229"
     },
     "user_tz": -60
    },
    "id": "5d739ff8-9800-4548-9330-13ddd19d3b6a"
   },
   "outputs": [],
   "source": [
    "# Creating objects of the built-in class 'list'\n",
    "numbers = [1, 2, 3, 4, 5]  # 'numbers' is an object of the 'list' class\n",
    "names = [\"Alice\", \"Bob\", \"Charlie\"]  # 'names' is another object of the 'list' class"
   ]
  },
  {
   "cell_type": "code",
   "execution_count": null,
   "id": "88dd1724-3e03-4b8c-a0d9-b8708524e5d7",
   "metadata": {
    "colab": {
     "base_uri": "https://localhost:8080/"
    },
    "executionInfo": {
     "elapsed": 252,
     "status": "ok",
     "timestamp": 1708694970674,
     "user": {
      "displayName": "Ignacio Soteras",
      "userId": "02050793736257155229"
     },
     "user_tz": -60
    },
    "id": "88dd1724-3e03-4b8c-a0d9-b8708524e5d7",
    "outputId": "98dd6eef-2a94-4396-b2e1-48c199d047fb"
   },
   "outputs": [],
   "source": [
    "print(type(numbers))\n",
    "print(type(names))"
   ]
  },
  {
   "cell_type": "code",
   "execution_count": null,
   "id": "39e7da3e-ffe2-4a6d-b7a4-55d1ce5aa197",
   "metadata": {
    "executionInfo": {
     "elapsed": 278,
     "status": "ok",
     "timestamp": 1708695007439,
     "user": {
      "displayName": "Ignacio Soteras",
      "userId": "02050793736257155229"
     },
     "user_tz": -60
    },
    "id": "39e7da3e-ffe2-4a6d-b7a4-55d1ce5aa197"
   },
   "outputs": [],
   "source": [
    "# Using list methods\n",
    "numbers.append(6)  # Adding an element to the list\n",
    "names.append(\"Anna\") # Adding an element to the list\n",
    "names"
   ]
  },
  {
   "cell_type": "markdown",
   "id": "68096c96-a621-41f0-91a4-798ef4eab9bc",
   "metadata": {
    "id": "68096c96-a621-41f0-91a4-798ef4eab9bc"
   },
   "source": [
    "We just said that:\n",
    "\n",
    "- *It is based on the concept of **objects**, which can store both data (**attributes**) and the functions (**methods**) that work with that data.*\n",
    "\n",
    "In our example, we defined an **object** *numbers* and another **object** *names* and we saw the **method** *append*.\n",
    "\n",
    "- *Objets are **instances** of **classes**. A class is a blueprint or template that defines the structure and behavior of objects. The class defines what data the object can hold (attributes) and what actions it can perform (methods).*\n",
    "\n",
    "In our example, our **objects** *numbers* and *names* are an instances of the **class** *list*. The *list* **class** is the template that defines what the objects can or can`t do.\n",
    "\n",
    "By using this blueprint, the **class** *list*, we can create many **objects** (*numbers*, *names*,...) of the same type."
   ]
  },
  {
   "cell_type": "markdown",
   "id": "f0170c34-d3c1-4834-8db6-4c3d83c9ddaf",
   "metadata": {
    "id": "f0170c34-d3c1-4834-8db6-4c3d83c9ddaf"
   },
   "source": [
    "### Example with floats"
   ]
  },
  {
   "cell_type": "code",
   "execution_count": null,
   "id": "4e98b28c-5d25-4fa0-8d76-c46d62fb9189",
   "metadata": {
    "colab": {
     "base_uri": "https://localhost:8080/"
    },
    "executionInfo": {
     "elapsed": 238,
     "status": "ok",
     "timestamp": 1708695094551,
     "user": {
      "displayName": "Ignacio Soteras",
      "userId": "02050793736257155229"
     },
     "user_tz": -60
    },
    "id": "4e98b28c-5d25-4fa0-8d76-c46d62fb9189",
    "outputId": "118711fa-fba1-4bbd-9239-e71a9b709593"
   },
   "outputs": [],
   "source": [
    "dir(float)"
   ]
  },
  {
   "cell_type": "code",
   "execution_count": null,
   "id": "a43e285b-3724-43e1-b0a1-14f701649315",
   "metadata": {
    "colab": {
     "base_uri": "https://localhost:8080/"
    },
    "executionInfo": {
     "elapsed": 225,
     "status": "ok",
     "timestamp": 1708695123119,
     "user": {
      "displayName": "Ignacio Soteras",
      "userId": "02050793736257155229"
     },
     "user_tz": -60
    },
    "id": "a43e285b-3724-43e1-b0a1-14f701649315",
    "outputId": "d6653af5-805b-4e7e-f0b3-f63cefc5a270"
   },
   "outputs": [],
   "source": [
    "f = 3.18 # This is an object of class float\n",
    "\n",
    "print(type(f))"
   ]
  },
  {
   "cell_type": "code",
   "execution_count": null,
   "id": "942ded56-9254-405d-95db-e15f1979c4fc",
   "metadata": {
    "colab": {
     "base_uri": "https://localhost:8080/"
    },
    "executionInfo": {
     "elapsed": 243,
     "status": "ok",
     "timestamp": 1708695150306,
     "user": {
      "displayName": "Ignacio Soteras",
      "userId": "02050793736257155229"
     },
     "user_tz": -60
    },
    "id": "942ded56-9254-405d-95db-e15f1979c4fc",
    "outputId": "e8de427b-be4a-4b28-d6d8-0865e1fdf301"
   },
   "outputs": [],
   "source": [
    "f.is_integer() # This a method"
   ]
  },
  {
   "cell_type": "code",
   "execution_count": null,
   "id": "aee895fe-5b54-4368-b7cf-85863b8c9533",
   "metadata": {
    "colab": {
     "base_uri": "https://localhost:8080/"
    },
    "executionInfo": {
     "elapsed": 258,
     "status": "ok",
     "timestamp": 1708695313124,
     "user": {
      "displayName": "Ignacio Soteras",
      "userId": "02050793736257155229"
     },
     "user_tz": -60
    },
    "id": "aee895fe-5b54-4368-b7cf-85863b8c9533",
    "outputId": "3e1cd31f-255c-476f-aeba-89f6baf0a58b"
   },
   "outputs": [],
   "source": [
    "f.real # This is an attribute"
   ]
  },
  {
   "cell_type": "markdown",
   "id": "df73d5d7-fbc1-40ef-9e18-65c9a061c951",
   "metadata": {
    "id": "df73d5d7-fbc1-40ef-9e18-65c9a061c951"
   },
   "source": [
    "### Example with Strings"
   ]
  },
  {
   "cell_type": "code",
   "execution_count": null,
   "id": "bf7da0eb-8a73-4c23-9afb-9ecf08efae4b",
   "metadata": {
    "colab": {
     "base_uri": "https://localhost:8080/"
    },
    "executionInfo": {
     "elapsed": 238,
     "status": "ok",
     "timestamp": 1708695198426,
     "user": {
      "displayName": "Ignacio Soteras",
      "userId": "02050793736257155229"
     },
     "user_tz": -60
    },
    "id": "bf7da0eb-8a73-4c23-9afb-9ecf08efae4b",
    "outputId": "b6f4ad30-4f3f-4ea4-f230-455454620862"
   },
   "outputs": [],
   "source": [
    "str1 = \"hi\"\n",
    "str2 = \"you\"\n",
    "print(type(str1))"
   ]
  },
  {
   "cell_type": "markdown",
   "id": "47675425-a133-4f8a-853f-d92d3a427bbd",
   "metadata": {
    "colab": {
     "base_uri": "https://localhost:8080/",
     "height": 35
    },
    "executionInfo": {
     "elapsed": 225,
     "status": "ok",
     "timestamp": 1708695208745,
     "user": {
      "displayName": "Ignacio Soteras",
      "userId": "02050793736257155229"
     },
     "user_tz": -60
    },
    "id": "9af8f5d5-f196-4cd9-af49-23880259a98b",
    "outputId": "5ab9682c-d4f1-475a-f7c5-390505879630"
   },
   "source": [
    "# str1 + str2"
   ]
  },
  {
   "cell_type": "markdown",
   "id": "51ec17a6-e107-423b-97aa-a3f12b79b1fa",
   "metadata": {
    "id": "51ec17a6-e107-423b-97aa-a3f12b79b1fa"
   },
   "source": [
    "This behavior is possible because the str class defines the **__add__()** method, which is called when the **+** operator is used with strings. This method handles the concatenation of two string objects and returns the result as a new string."
   ]
  },
  {
   "cell_type": "code",
   "execution_count": null,
   "id": "93a6a540-5bc6-4522-bfe6-40253d8b640c",
   "metadata": {
    "colab": {
     "base_uri": "https://localhost:8080/",
     "height": 35
    },
    "executionInfo": {
     "elapsed": 256,
     "status": "ok",
     "timestamp": 1708695220865,
     "user": {
      "displayName": "Ignacio Soteras",
      "userId": "02050793736257155229"
     },
     "user_tz": -60
    },
    "id": "93a6a540-5bc6-4522-bfe6-40253d8b640c",
    "outputId": "c8ef00c1-3d1b-481f-d6b5-ce6ea513a619"
   },
   "outputs": [],
   "source": [
    "# one_string + second_string -> running this line this thing happens\n",
    "str1.__add__(str2)"
   ]
  },
  {
   "cell_type": "markdown",
   "id": "c82f4df4-11cd-491f-886b-8e0b084b8205",
   "metadata": {
    "id": "c82f4df4-11cd-491f-886b-8e0b084b8205"
   },
   "source": [
    "### Methods and Attributes"
   ]
  },
  {
   "cell_type": "markdown",
   "id": "5a27eea9-d05a-4f04-9be7-a1bac38c4a7b",
   "metadata": {
    "id": "5a27eea9-d05a-4f04-9be7-a1bac38c4a7b"
   },
   "source": [
    "- **Methods** are **functions** that are associated with objects or classes. The syntax for calling a method is\n",
    "```python\n",
    "object.method()\n",
    "````\n",
    "\n",
    "- **Attributes** are **variables** that belongs to an object or a class. It represents a piece of data associated with the object or class and can hold various types of information.\n",
    "The syntax for calling an attribute is\n",
    "```python\n",
    "object.attribute\n",
    "````"
   ]
  },
  {
   "cell_type": "markdown",
   "id": "ed07e12a-add1-4c91-b357-fde0ac581338",
   "metadata": {
    "id": "ed07e12a-add1-4c91-b357-fde0ac581338"
   },
   "source": [
    "### Important: method vs function vs attribute"
   ]
  },
  {
   "cell_type": "markdown",
   "id": "71abd4e3-e92b-4222-a7f0-40cd42074228",
   "metadata": {
    "id": "71abd4e3-e92b-4222-a7f0-40cd42074228"
   },
   "source": [
    "A **method** is a function that is associated with an object or class, used to perform **actions** or manipulate its data (attributes) *versus* a **function** also performs actions, but **is not associated with any object or class**, is a block of reusable code that can be called independently.\n",
    "\n",
    "Syntax:\n",
    "- Method:  `object.method()`\n",
    "- Function:  `function_name()`."
   ]
  },
  {
   "cell_type": "markdown",
   "id": "efe0a0f9-e4dd-471f-b9d9-aba5aba54e6d",
   "metadata": {
    "id": "efe0a0f9-e4dd-471f-b9d9-aba5aba54e6d"
   },
   "source": [
    "An **attribute** is a variable that **holds data** associated with an object or class.\n",
    "- Syntax to access: `object.attribute`"
   ]
  },
  {
   "cell_type": "markdown",
   "id": "a1aa29e4-8825-4f8e-8491-0c8a015afcfe",
   "metadata": {
    "id": "a1aa29e4-8825-4f8e-8491-0c8a015afcfe",
    "jp-MarkdownHeadingCollapsed": true,
    "tags": []
   },
   "source": [
    "### Mini-recap\n",
    "\n",
    "- Classes: structure, template on which you create the instances\n",
    "    - From which you can create: instances / objects\n",
    "    \n",
    "- Classes and objects have functions called methods that do things\n",
    "    - A string can be added\n",
    "    - We can check what an object can do using dir(object)\n",
    "    \n",
    "- Classes or objects/instances have information -> properties / attributes / variables.\n"
   ]
  },
  {
   "cell_type": "markdown",
   "id": "0fd18503-0c38-4b29-9bb4-0dfa9b390bb4",
   "metadata": {
    "id": "0fd18503-0c38-4b29-9bb4-0dfa9b390bb4"
   },
   "source": [
    "## Creating Classes and Objects\n",
    "\n",
    "We can create our own Classes to later create our own objects as instances of the class."
   ]
  },
  {
   "cell_type": "markdown",
   "id": "23474a29-5887-4dc4-91b5-670ec5882c9d",
   "metadata": {
    "id": "23474a29-5887-4dc4-91b5-670ec5882c9d",
    "lang": "en"
   },
   "source": [
    "To create a class, simply group attributes and methods in the body of a **class** block.\n",
    "\n",
    "\n",
    "Let's create a simple Student class that represents a student's information (`attributes` in `class` jargon), such as their name, age, and list of courses they are enrolled in, and they will be able to *perform actions* through functions that we will call `methods` (again, `class` jargon). This example could be useful for data analytics in educational settings."
   ]
  },
  {
   "cell_type": "markdown",
   "id": "f1752508-77d3-471d-945e-a4782663835e",
   "metadata": {
    "id": "f1752508-77d3-471d-945e-a4782663835e"
   },
   "source": [
    "1. A class is defined using the `class` keyword followed by the class name (conventionally written in CamelCase).\n",
    "\n",
    "```python\n",
    "class MyClassName:\n",
    "    ...\n",
    "```\n"
   ]
  },
  {
   "cell_type": "code",
   "execution_count": null,
   "id": "1e21c7e8-3736-4069-88a9-41a9f6421178",
   "metadata": {
    "id": "1e21c7e8-3736-4069-88a9-41a9f6421178"
   },
   "outputs": [],
   "source": [
    "# Define the Student class using the class keyword\n",
    "\n",
    "class Student: # Student is the name of the class\n",
    "    # here goes the code"
   ]
  },
  {
   "cell_type": "markdown",
   "id": "7d5d4b55-482e-4ca3-887d-c87bb9912b6f",
   "metadata": {
    "id": "7d5d4b55-482e-4ca3-887d-c87bb9912b6f"
   },
   "source": [
    "2. Inside the class, define the `__init__() ` method to initialize object attributes.\n",
    "\n",
    "```python\n",
    "class MyClassName:\n",
    "    def __init__(self, param1, param2, ...):\n",
    "        self.param_name = param1\n",
    "        self.param_name2 = param2\n",
    "```\n",
    "\n",
    "The __init__() method is a special method that runs when a new object is created from the class.\n",
    "- It takes two parameters:\n",
    "    - self: a reference to the current object / instance of the class, helps a class remember which object it is working with.\n",
    "    - the parameters that will be saved as attributes, for example, name, age, and a list of courses, that we want to initialize for each student.\n",
    "- The reason we have two underscores before and after the method name is to indicate that this function is internal to the object and should not be called from outside the object.\n",
    "\n",
    "\n",
    "Note - more on `self`: Imagine you have a blueprint for making cookies, and you want each cookie to have its own unique shape and taste. `self` is like a name tag that helps the blueprint know which cookie it should work with. So, when you create an object from the class, `self` makes sure that the correct cookie gets the right shape and taste, and it also allows the cookie to do things like telling you its shape or taste."
   ]
  },
  {
   "cell_type": "code",
   "execution_count": null,
   "id": "7433ee1b-1ecb-4389-840d-946b2dbf3b62",
   "metadata": {
    "executionInfo": {
     "elapsed": 221,
     "status": "ok",
     "timestamp": 1708695958320,
     "user": {
      "displayName": "Ignacio Soteras",
      "userId": "02050793736257155229"
     },
     "user_tz": -60
    },
    "id": "7433ee1b-1ecb-4389-840d-946b2dbf3b62"
   },
   "outputs": [],
   "source": [
    "class Student:\n",
    "    def __init__(self, name, age): # special method for initializing attributes\n",
    "        self.student_name = name\n",
    "        self.student_age = age\n",
    "        # code here\n",
    "    # more code here"
   ]
  },
  {
   "cell_type": "markdown",
   "id": "14074196-f5b3-42bd-8c39-da6ae219085e",
   "metadata": {
    "id": "14074196-f5b3-42bd-8c39-da6ae219085e"
   },
   "source": [
    "Inside the __init__() method, set the instance attributes name, age, and an empty list courses:"
   ]
  },
  {
   "cell_type": "code",
   "execution_count": null,
   "id": "bc8b92ed-5f2e-4ca7-aa92-9c28068075a9",
   "metadata": {
    "executionInfo": {
     "elapsed": 6,
     "status": "ok",
     "timestamp": 1708696108160,
     "user": {
      "displayName": "Ignacio Soteras",
      "userId": "02050793736257155229"
     },
     "user_tz": -60
    },
    "id": "bc8b92ed-5f2e-4ca7-aa92-9c28068075a9"
   },
   "outputs": [],
   "source": [
    "class Student:\n",
    "    def __init__(self, name, age):\n",
    "        self.name = name # attribute name\n",
    "        self.age = age # attribute age\n",
    "        self.courses = [] # attribute courses\n",
    "\n",
    "    # more code here"
   ]
  },
  {
   "cell_type": "markdown",
   "id": "1c9510a0-ddd3-461b-8b8d-4a89f470f2f6",
   "metadata": {
    "id": "1c9510a0-ddd3-461b-8b8d-4a89f470f2f6"
   },
   "source": [
    "These instance attributes will hold the student's name, age, and a list of courses they are enrolled in. Each instance of the class will have its own set of these attributes.\n",
    "\n",
    "This means, everytime we create a new object, we will create it with different values for these attributes, since each student has a different name, age, and enrolled courses."
   ]
  },
  {
   "cell_type": "markdown",
   "id": "35c0eca7-e93f-4994-a085-a20d1135511c",
   "metadata": {
    "id": "35c0eca7-e93f-4994-a085-a20d1135511c"
   },
   "source": [
    "3. Define the methods.\n",
    "```python\n",
    "class MyClassName:\n",
    "    def __init__(self, param1, param2, ...):\n",
    "        self.param_name = param1\n",
    "        self.param_name2 = param2\n",
    "    def my_method(self):\n",
    "        ...\n",
    "```"
   ]
  },
  {
   "cell_type": "markdown",
   "id": "8f343c32-c149-4e57-966b-2dca2c041939",
   "metadata": {
    "id": "8f343c32-c149-4e57-966b-2dca2c041939"
   },
   "source": [
    "Define the add_course() method to add courses to a student's list. Inside the add_course() method, append the course to the courses list:"
   ]
  },
  {
   "cell_type": "code",
   "execution_count": null,
   "id": "8c3e72f2-b296-4bc3-a8dd-be40e485ddfc",
   "metadata": {
    "executionInfo": {
     "elapsed": 399,
     "status": "ok",
     "timestamp": 1708697161836,
     "user": {
      "displayName": "Ignacio Soteras",
      "userId": "02050793736257155229"
     },
     "user_tz": -60
    },
    "id": "8c3e72f2-b296-4bc3-a8dd-be40e485ddfc"
   },
   "outputs": [],
   "source": [
    "class Student:\n",
    "    def __init__(self, name, age):\n",
    "        self.name = name\n",
    "        self.age = age\n",
    "        self.courses = []\n",
    "\n",
    "    def add_course(self, course): # this is a method\n",
    "        self.courses.append(course)\n"
   ]
  },
  {
   "cell_type": "markdown",
   "id": "5de16c10-4f2e-4d17-bae0-07d41e08ca68",
   "metadata": {
    "id": "5de16c10-4f2e-4d17-bae0-07d41e08ca68"
   },
   "source": [
    "This method takes two parameters: self (again, a reference to the current instance of the class) and the course we want to add."
   ]
  },
  {
   "cell_type": "markdown",
   "id": "feb55b98-51e1-4fd5-a137-b5079c496a37",
   "metadata": {
    "id": "feb55b98-51e1-4fd5-a137-b5079c496a37",
    "lang": "en"
   },
   "source": [
    "**watch out** 👀\n",
    "If we modify a class and add attributes or methods, we have to recreate the object so that it is initialized with those attributes and has those methods."
   ]
  },
  {
   "cell_type": "markdown",
   "id": "9972cb63-6c8b-472c-b4d1-3deb2f5a00d9",
   "metadata": {
    "id": "9972cb63-6c8b-472c-b4d1-3deb2f5a00d9"
   },
   "source": [
    "We can define another method, display_info(), to display the student's information and enrolled courses:"
   ]
  },
  {
   "cell_type": "code",
   "execution_count": null,
   "id": "68842703-6b2d-47a3-8eb1-d267441d432f",
   "metadata": {
    "executionInfo": {
     "elapsed": 348,
     "status": "ok",
     "timestamp": 1708698061444,
     "user": {
      "displayName": "Ignacio Soteras",
      "userId": "02050793736257155229"
     },
     "user_tz": -60
    },
    "id": "68842703-6b2d-47a3-8eb1-d267441d432f"
   },
   "outputs": [],
   "source": [
    "class Student:\n",
    "    def __init__(self, name, age):\n",
    "\n",
    "        self.name = name\n",
    "        self.age = age\n",
    "        self.courses = []\n",
    "\n",
    "    def add_course(self, course): # this is a method of class Student\n",
    "        self.courses.append(course)\n",
    "\n",
    "    def display_info(self):\n",
    "        print(f\"Name: {self.name}\") # we access the class attribute with self.attribute\n",
    "        print(f\"Age: {self.age}\")\n",
    "        print(\"Courses Enrolled:\")\n",
    "        for course in self.courses:\n",
    "            print(f\"- {course}\")"
   ]
  },
  {
   "cell_type": "markdown",
   "id": "1a949377-5dea-4990-8609-0fc6318812ba",
   "metadata": {
    "id": "1a949377-5dea-4990-8609-0fc6318812ba"
   },
   "source": [
    "## Creating Objects (Instances)\n",
    "\n",
    "After defining the class, we can create objects (instances) based on the class by calling the class as if it were a function.\n",
    "During object creation, we pass values for the attributes defined in the __init__() method.\n",
    "Each object becomes a unique instance of the class, with its own attribute values.\n"
   ]
  },
  {
   "cell_type": "code",
   "execution_count": null,
   "id": "d1d7c657-2fa0-432c-a9f3-4c8a6e249433",
   "metadata": {
    "executionInfo": {
     "elapsed": 226,
     "status": "ok",
     "timestamp": 1708698079542,
     "user": {
      "displayName": "Ignacio Soteras",
      "userId": "02050793736257155229"
     },
     "user_tz": -60
    },
    "id": "d1d7c657-2fa0-432c-a9f3-4c8a6e249433"
   },
   "outputs": [],
   "source": [
    "# Creating Student objects\n",
    "student1 = Student(\"Alice\", 20)\n",
    "student2 = Student(\"Bob\", 22)"
   ]
  },
  {
   "cell_type": "markdown",
   "id": "014d38b1-9b05-428c-9d23-1af66a10a3d9",
   "metadata": {
    "id": "014d38b1-9b05-428c-9d23-1af66a10a3d9",
    "lang": "en"
   },
   "source": [
    "What did `self` do? Remember, *self: a reference to the current object / instance of the class, helps a class remember which object it is working with*. It indicates that the data we are entering here (\"Alice\", 20) is for the object we are creating (*student1*)."
   ]
  },
  {
   "cell_type": "code",
   "execution_count": null,
   "id": "42bb5ac9-9e21-470b-861d-fc587a066b4c",
   "metadata": {
    "colab": {
     "base_uri": "https://localhost:8080/"
    },
    "executionInfo": {
     "elapsed": 228,
     "status": "ok",
     "timestamp": 1708697339786,
     "user": {
      "displayName": "Ignacio Soteras",
      "userId": "02050793736257155229"
     },
     "user_tz": -60
    },
    "id": "42bb5ac9-9e21-470b-861d-fc587a066b4c",
    "outputId": "c0031593-449e-4967-c06a-aa187067cbf1"
   },
   "outputs": [],
   "source": [
    "print(type(student1))"
   ]
  },
  {
   "cell_type": "code",
   "execution_count": null,
   "id": "a6540038-76d8-42f3-be14-eeb50e87071d",
   "metadata": {
    "colab": {
     "base_uri": "https://localhost:8080/"
    },
    "executionInfo": {
     "elapsed": 239,
     "status": "ok",
     "timestamp": 1708697349888,
     "user": {
      "displayName": "Ignacio Soteras",
      "userId": "02050793736257155229"
     },
     "user_tz": -60
    },
    "id": "a6540038-76d8-42f3-be14-eeb50e87071d",
    "outputId": "1e5e4f4a-8ae2-405d-a72f-6c02f41025d9"
   },
   "outputs": [],
   "source": [
    "isinstance(student1, Student)"
   ]
  },
  {
   "cell_type": "code",
   "execution_count": null,
   "id": "f710086d-e8df-484e-b890-cd1e5c0e9032",
   "metadata": {
    "colab": {
     "base_uri": "https://localhost:8080/"
    },
    "executionInfo": {
     "elapsed": 254,
     "status": "ok",
     "timestamp": 1708697357716,
     "user": {
      "displayName": "Ignacio Soteras",
      "userId": "02050793736257155229"
     },
     "user_tz": -60
    },
    "id": "f710086d-e8df-484e-b890-cd1e5c0e9032",
    "outputId": "dfe1843e-e18c-4241-809f-9b8cdad7dd80"
   },
   "outputs": [],
   "source": [
    "dir(student1)"
   ]
  },
  {
   "cell_type": "markdown",
   "id": "fe2b3017-2e16-4108-8a4b-29033d4fc931",
   "metadata": {
    "id": "fe2b3017-2e16-4108-8a4b-29033d4fc931"
   },
   "source": [
    "## Accessing Attributes and Methods\n",
    "\n",
    "To access the attributes of an object, we use dot notation (object.attribute) to retrieve or modify its values.\n",
    "To call methods associated with an object, we use dot notation (object.method())."
   ]
  },
  {
   "cell_type": "code",
   "execution_count": null,
   "id": "da9333df-a1c6-4f4a-be75-2d118bf80e09",
   "metadata": {
    "colab": {
     "base_uri": "https://localhost:8080/",
     "height": 35
    },
    "executionInfo": {
     "elapsed": 9,
     "status": "ok",
     "timestamp": 1708698084255,
     "user": {
      "displayName": "Ignacio Soteras",
      "userId": "02050793736257155229"
     },
     "user_tz": -60
    },
    "id": "da9333df-a1c6-4f4a-be75-2d118bf80e09",
    "outputId": "315078c7-172f-4a2f-d297-7cfdc2a601e1"
   },
   "outputs": [],
   "source": [
    "student1.name # This is an attribute"
   ]
  },
  {
   "cell_type": "code",
   "execution_count": null,
   "id": "JzRaVXLCTZ50",
   "metadata": {
    "colab": {
     "base_uri": "https://localhost:8080/",
     "height": 141
    },
    "executionInfo": {
     "elapsed": 246,
     "status": "error",
     "timestamp": 1708698091803,
     "user": {
      "displayName": "Ignacio Soteras",
      "userId": "02050793736257155229"
     },
     "user_tz": -60
    },
    "id": "JzRaVXLCTZ50",
    "outputId": "a886a766-7bd4-451b-ba9c-58b242d02ebd"
   },
   "outputs": [],
   "source": [
    "student1.phone"
   ]
  },
  {
   "cell_type": "markdown",
   "id": "b9a72bf5-d1f7-4b5c-a58b-ebd03d79292c",
   "metadata": {
    "id": "b9a72bf5-d1f7-4b5c-a58b-ebd03d79292c"
   },
   "source": [
    "Use the add_course() method to add courses for each student:"
   ]
  },
  {
   "cell_type": "code",
   "execution_count": null,
   "id": "db4f689b-1aa5-4838-8564-38e40771cf9c",
   "metadata": {
    "executionInfo": {
     "elapsed": 287,
     "status": "ok",
     "timestamp": 1708698112274,
     "user": {
      "displayName": "Ignacio Soteras",
      "userId": "02050793736257155229"
     },
     "user_tz": -60
    },
    "id": "db4f689b-1aa5-4838-8564-38e40771cf9c"
   },
   "outputs": [],
   "source": [
    "# Adding courses for students\n",
    "student1.add_course(\"Mathematics\") # This is a method\n",
    "student1.add_course(\"History\")\n",
    "student2.add_course(\"Computer Science\")\n"
   ]
  },
  {
   "cell_type": "markdown",
   "id": "905ccd1a-aa3a-4be4-8701-249e9d0b75ec",
   "metadata": {
    "id": "905ccd1a-aa3a-4be4-8701-249e9d0b75ec"
   },
   "source": [
    "Finally, display the information for each student using the display_info() method:"
   ]
  },
  {
   "cell_type": "code",
   "execution_count": null,
   "id": "ab4dd5da-cf29-4392-afdf-f0ad9a158515",
   "metadata": {
    "colab": {
     "base_uri": "https://localhost:8080/"
    },
    "executionInfo": {
     "elapsed": 302,
     "status": "ok",
     "timestamp": 1708698125849,
     "user": {
      "displayName": "Ignacio Soteras",
      "userId": "02050793736257155229"
     },
     "user_tz": -60
    },
    "id": "ab4dd5da-cf29-4392-afdf-f0ad9a158515",
    "outputId": "d23c252d-3c74-41b5-c7bd-a4d13d74194a"
   },
   "outputs": [],
   "source": [
    "# Displaying information for students\n",
    "student1.display_info() # This is a method\n",
    "print(\"\\n\")\n",
    "student2.display_info()\n"
   ]
  },
  {
   "cell_type": "markdown",
   "id": "21ec560a-c307-4f7b-8217-6a243a85922e",
   "metadata": {
    "id": "21ec560a-c307-4f7b-8217-6a243a85922e"
   },
   "source": [
    "## More"
   ]
  },
  {
   "cell_type": "markdown",
   "id": "29f66b14-e339-4532-b2c6-c15e82569c28",
   "metadata": {
    "id": "29f66b14-e339-4532-b2c6-c15e82569c28",
    "lang": "en"
   },
   "source": [
    "### Default attributes\n",
    "\n",
    "We can provide default values for attributes to ensure that if no values are provided during the instance creation, the attributes will be initialized with these default values. This ensures that the object will still be properly initialized even if some attributes are not explicitly provided."
   ]
  },
  {
   "cell_type": "markdown",
   "id": "c13f626a-b1da-4dc3-b351-61ac3a7ef92c",
   "metadata": {
    "id": "c13f626a-b1da-4dc3-b351-61ac3a7ef92c"
   },
   "source": [
    "We will add a parameter *email* in the init function with a default value, save it as an attribute with `self.email = email` and print it in display_info."
   ]
  },
  {
   "cell_type": "code",
   "execution_count": null,
   "id": "08c5ac09-c8eb-40d0-97ab-eee8bd426544",
   "metadata": {
    "executionInfo": {
     "elapsed": 258,
     "status": "ok",
     "timestamp": 1708698557934,
     "user": {
      "displayName": "Ignacio Soteras",
      "userId": "02050793736257155229"
     },
     "user_tz": -60
    },
    "id": "08c5ac09-c8eb-40d0-97ab-eee8bd426544"
   },
   "outputs": [],
   "source": [
    "class Student:\n",
    "    def __init__(self, name, age, email=\"NA\"): # we add default value for email\n",
    "        self.name = name\n",
    "        self.age = age\n",
    "        self.courses = []\n",
    "        self.email = email # save it as an attribute\n",
    "\n",
    "    def add_course(self, course):\n",
    "        self.courses.append(course)\n",
    "\n",
    "    def display_info(self):\n",
    "        print(f\"Name: {self.name}\")\n",
    "        print(f\"Age: {self.age}\")\n",
    "        print(\"Courses Enrolled:\")\n",
    "        for course in self.courses:\n",
    "            print(f\"- {course}\")\n",
    "        print(f\"Email: {self.email}\")  # we print the email as well"
   ]
  },
  {
   "cell_type": "code",
   "execution_count": null,
   "id": "59bcd122-49a6-49c2-ac6f-3eacda1e9c15",
   "metadata": {
    "executionInfo": {
     "elapsed": 202,
     "status": "ok",
     "timestamp": 1708698560551,
     "user": {
      "displayName": "Ignacio Soteras",
      "userId": "02050793736257155229"
     },
     "user_tz": -60
    },
    "id": "59bcd122-49a6-49c2-ac6f-3eacda1e9c15"
   },
   "outputs": [],
   "source": [
    "student1 = Student(\"Alice\", 20, \"alice@gmail.com\")\n",
    "student2 = Student(\"Bob\", 22)"
   ]
  },
  {
   "cell_type": "code",
   "execution_count": null,
   "id": "9b54a9db-3c19-414c-9a89-7f99916a74c5",
   "metadata": {
    "colab": {
     "base_uri": "https://localhost:8080/"
    },
    "executionInfo": {
     "elapsed": 243,
     "status": "ok",
     "timestamp": 1708698236139,
     "user": {
      "displayName": "Ignacio Soteras",
      "userId": "02050793736257155229"
     },
     "user_tz": -60
    },
    "id": "9b54a9db-3c19-414c-9a89-7f99916a74c5",
    "outputId": "56b9580b-b232-419b-f3b5-b2eb163caf05"
   },
   "outputs": [],
   "source": [
    "# Displaying information for students\n",
    "student1.display_info() # This is a method\n",
    "print(\"\\n\")\n",
    "student2.display_info()"
   ]
  },
  {
   "cell_type": "markdown",
   "id": "ce4b803e-22b0-495e-bbdf-a46d5b7b8eb6",
   "metadata": {
    "id": "ce4b803e-22b0-495e-bbdf-a46d5b7b8eb6"
   },
   "source": [
    "### Instance vs. Class Attributes and Methods"
   ]
  },
  {
   "cell_type": "markdown",
   "id": "20185f20-f1e0-4114-a0db-b88d32a933d7",
   "metadata": {
    "id": "20185f20-f1e0-4114-a0db-b88d32a933d7"
   },
   "source": [
    "In Python, classes can have both instance attributes/methods and class attributes/methods.\n",
    "\n",
    "1. Instance Attributes and Methods:\n",
    "- Instance attributes are specific to each object (instance) of the class. They hold data unique to each instance.\n",
    "- Instance methods are functions defined inside the class, and they can access and modify instance attributes.\n",
    "- These are what we've seen until now.\n",
    "\n",
    "Example:\n",
    "\n",
    "```python\n",
    "class Dog:\n",
    "    def __init__(self, name, age):\n",
    "        self.name = name\n",
    "        self.age = age\n",
    "\n",
    "    def bark(self):\n",
    "        print(f\"{self.name} says: Woof woof!\")\n",
    "\n",
    "# Creating two Dog objects\n",
    "dog1 = Dog(\"Buddy\", 3)\n",
    "dog2 = Dog(\"Max\", 2)\n",
    "\n",
    "# Accessing instance attributes\n",
    "print(dog1.name)  # Output: Buddy\n",
    "print(dog2.age)   # Output: 2\n",
    "\n",
    "# Calling instance method\n",
    "dog1.bark()       # Output: Buddy says: Woof woof!\n",
    "```\n",
    "\n",
    "In this example, each Dog object (`dog1` and `dog2`) has its own `name` and `age` attributes. The `bark()` method can access and use these attributes to make each dog bark with its name.\n",
    "\n",
    "2. Class Attributes and Methods:\n",
    "\n",
    "- Class attributes are shared by all instances of the class. They store data common to all objects of the class.\n",
    "- Class methods are decorated with `@classmethod` and can access and modify class attributes.\n",
    "\n",
    "Example:\n",
    "\n",
    "```python\n",
    "class Circle:\n",
    "    pi = 3.14159\n",
    "\n",
    "    def __init__(self, radius):\n",
    "        self.radius = radius\n",
    "\n",
    "    @classmethod\n",
    "    def get_pi(cls):\n",
    "        return cls.pi\n",
    "\n",
    "# Creating Circle objects\n",
    "circle1 = Circle(5)\n",
    "circle2 = Circle(8)\n",
    "\n",
    "# Accessing class attribute\n",
    "print(circle1.pi)  # Output: 3.14159\n",
    "\n",
    "# Calling class method\n",
    "print(Circle.get_pi())  # Output: 3.14159\n",
    "```\n",
    "\n",
    "In this example, `pi` is a class attribute shared by all Circle objects. The `get_pi()` method is a class method that can access and return the value of `pi`. We call this method both using an instance (`circle1.get_pi()`) and the class itself (`Circle.get_pi()`), and both ways yield the same result."
   ]
  },
  {
   "cell_type": "markdown",
   "id": "b6506503-0520-41cd-a0e1-b84727291d23",
   "metadata": {
    "id": "b6506503-0520-41cd-a0e1-b84727291d23"
   },
   "source": [
    "## Check for understanding"
   ]
  },
  {
   "cell_type": "markdown",
   "id": "49d6be75-d86d-4ed9-b84c-7e9237fdb705",
   "metadata": {
    "id": "49d6be75-d86d-4ed9-b84c-7e9237fdb705",
    "lang": "en"
   },
   "source": [
    "### Easy exercise\n",
    "Kata --> https://www.codewars.com/kata/53f0f358b9cb376eca001079/train/python\n",
    "\n",
    "You can ignore the \"object\" in the code for now (`class Ball(object)`)"
   ]
  },
  {
   "cell_type": "code",
   "execution_count": null,
   "id": "ac93dffd-7602-4375-9ba1-fec25aad6e26",
   "metadata": {
    "id": "ac93dffd-7602-4375-9ba1-fec25aad6e26"
   },
   "outputs": [],
   "source": [
    "# your code here\n",
    "class Ball(object):\n",
    "    # your code goes here\n",
    "    def __init__(self, ball_type=\"regular\"):\n",
    "        self.ball_type = ball_type"
   ]
  },
  {
   "cell_type": "markdown",
   "id": "5b6e0973-1893-491c-9e21-0d3d0e5f7d23",
   "metadata": {
    "id": "5b6e0973-1893-491c-9e21-0d3d0e5f7d23"
   },
   "source": [
    "### Medium exercise"
   ]
  },
  {
   "cell_type": "markdown",
   "id": "48cea0f7-5914-4b8c-b92a-7685dbb6e615",
   "metadata": {
    "id": "48cea0f7-5914-4b8c-b92a-7685dbb6e615"
   },
   "source": [
    "Kata --> https://www.codewars.com/kata/55b75fcf67e558d3750000a3/train/python"
   ]
  },
  {
   "cell_type": "code",
   "execution_count": null,
   "id": "9759dfda-bb30-44ca-83e2-7add6799679c",
   "metadata": {
    "executionInfo": {
     "elapsed": 261,
     "status": "ok",
     "timestamp": 1708701565788,
     "user": {
      "displayName": "Ignacio Soteras",
      "userId": "02050793736257155229"
     },
     "user_tz": -60
    },
    "id": "9759dfda-bb30-44ca-83e2-7add6799679c"
   },
   "outputs": [],
   "source": [
    "# your code here\n",
    "class Block:\n",
    "    # Good Luck!\n",
    "    def __init__(self, array):\n",
    "        self.width = array[0]\n",
    "        self.length = array[1]\n",
    "        self.height = array[2]\n",
    "\n",
    "    def get_width(self):\n",
    "        return self.width\n",
    "\n",
    "    def get_length(self):\n",
    "        return self.length\n",
    "\n",
    "    def get_height(self):\n",
    "        return self.height\n",
    "\n",
    "    def get_volume(self):\n",
    "        return self.width * self.length * self.height\n",
    "\n",
    "    def get_surface_area(self):\n",
    "        a1 = 2 * (self.height * self.width)\n",
    "        a2 = 2 * (self.height * self.length )\n",
    "        a3 = 2 * (self.width * self.length )\n",
    "        return a1 + a2 + a3"
   ]
  },
  {
   "cell_type": "code",
   "execution_count": null,
   "id": "T1u5ihk3jNNO",
   "metadata": {
    "colab": {
     "base_uri": "https://localhost:8080/"
    },
    "executionInfo": {
     "elapsed": 261,
     "status": "ok",
     "timestamp": 1708701654599,
     "user": {
      "displayName": "Ignacio Soteras",
      "userId": "02050793736257155229"
     },
     "user_tz": -60
    },
    "id": "T1u5ihk3jNNO",
    "outputId": "44a535cf-1e5e-4889-be90-6d5229537225"
   },
   "outputs": [],
   "source": [
    "cube = Block([1,2,3])\n",
    "cube.get_surface_area()"
   ]
  },
  {
   "cell_type": "markdown",
   "id": "d7a54397-3cb2-468a-b915-71d9a3d65968",
   "metadata": {
    "id": "d7a54397-3cb2-468a-b915-71d9a3d65968",
    "lang": "en"
   },
   "source": [
    "# Summary"
   ]
  },
  {
   "cell_type": "markdown",
   "id": "e0727022-8e60-4975-b201-03efb4d31317",
   "metadata": {
    "id": "e0727022-8e60-4975-b201-03efb4d31317",
    "lang": "en"
   },
   "source": [
    "- **Class**: hink of the class as the cookie mold. With the class, we can generate instances or objects. For example: `def MyClass:`\n",
    "- **Object**: The cookie we generated. Each object has different characteristics but under the same pattern as the class. `my_object = MyClass(...)`\n",
    "- **Instance**: Same as object, it's a synonym :)\n",
    "- **Instance/Object Attributes**: The different ingredients of each object. They are defined as variables inside the __init__ function, using the values from the paramters of that function. Are saved as data when we instantiate an object by calling the class.\n",
    "- **Class attribute**: Variables that belong to the class and that will be the same in all objects.\n",
    "- **Method**: Functions that do things, associated to the class. We studied object/instance methods, if you want to look into class methods, look into [class methods](https://www.programiz.com/python-programming/methods/built-in/classmethod#:~:text=A%20class%20method%20is%20a,just%20deals%20with%20the%20parameters)."
   ]
  },
  {
   "cell_type": "markdown",
   "id": "b65c7487-6454-4e89-8076-8ca5d109fc16",
   "metadata": {
    "id": "b65c7487-6454-4e89-8076-8ca5d109fc16"
   },
   "source": [
    "# Extra: Inheritance"
   ]
  },
  {
   "cell_type": "markdown",
   "id": "3c5054e1-6311-4c79-867d-135de94e327c",
   "metadata": {
    "id": "3c5054e1-6311-4c79-867d-135de94e327c"
   },
   "source": [
    "\n",
    "![miniyoda](https://media.giphy.com/media/j0eRJzyW7XjMpu1Pqd/giphy.gif)"
   ]
  },
  {
   "cell_type": "markdown",
   "id": "f28a876a-d18f-4a29-8416-ae71f170c8af",
   "metadata": {
    "id": "f28a876a-d18f-4a29-8416-ae71f170c8af"
   },
   "source": [
    "In object-oriented programming, class inheritance allows us to create a new class based on an existing class, known as the base or **parent class**.\n",
    "\n",
    "The new class, called the derived or **child class**, inherits the attributes and methods of the parent class, allows us to override them, and can also have its own unique attributes and methods."
   ]
  },
  {
   "cell_type": "markdown",
   "id": "6c0c1265-ecee-4aa7-9e51-bf18a9f7172c",
   "metadata": {
    "id": "6c0c1265-ecee-4aa7-9e51-bf18a9f7172c",
    "lang": "en"
   },
   "source": [
    "The fundamental advantage that inheritance brings to programming is the ability to reuse code. Thus, a set of classes that share attributes and methods can inherit from a superclass where those methods and attributes are defined."
   ]
  },
  {
   "cell_type": "markdown",
   "id": "73ec8df6-49e4-487f-bf9a-0fac87c98aac",
   "metadata": {
    "id": "73ec8df6-49e4-487f-bf9a-0fac87c98aac"
   },
   "source": [
    "## Inheriting Methods"
   ]
  },
  {
   "cell_type": "markdown",
   "id": "4b10b9b1-1f21-4678-bf03-7d1309ea55cb",
   "metadata": {
    "id": "4b10b9b1-1f21-4678-bf03-7d1309ea55cb",
    "lang": "en"
   },
   "source": [
    "Lets look at some possibilities:\n",
    "\n",
    "- Method defined in the `parent`, but not in the `child`\n",
    "\n",
    "    In this case, the child will inherit the parent's method, it will work exactly the same and there is no need to override it.\n",
    "\n",
    "- Method defined in `Child`, but not in Parent\n",
    "\n",
    "    The method only belongs to the child. Inheritance is one way.\n",
    "\n",
    "- Method defined in \"both\".\n",
    "\n",
    "    The method written in the `Child` class will override the one previously defined in Parent.\n",
    "\n",
    "    However, if we want to use the original method and just add something else to it, we can always refer to the original (parent) method with `super()`."
   ]
  },
  {
   "cell_type": "markdown",
   "id": "48dfa812-620d-45a1-97db-f7cab9e9a8b6",
   "metadata": {
    "id": "48dfa812-620d-45a1-97db-f7cab9e9a8b6"
   },
   "source": [
    "## Super() method"
   ]
  },
  {
   "cell_type": "markdown",
   "id": "a00d4b91-4797-451b-bf6f-1202ec48773b",
   "metadata": {
    "id": "a00d4b91-4797-451b-bf6f-1202ec48773b"
   },
   "source": [
    "The `super()` function allows us to call any method of the parent class.\n",
    "\n",
    "Just remember to call the `super()` class on the new `Child class`to ensure all the attributes of the `Parent class` are properly initialized."
   ]
  },
  {
   "cell_type": "markdown",
   "id": "72a8eedc-9e7f-4494-b85c-69fa663a9a48",
   "metadata": {
    "id": "72a8eedc-9e7f-4494-b85c-69fa663a9a48"
   },
   "source": [
    "## Example\n",
    "\n",
    "Let's create a basic example using a Person class as the parent class and modify the previous Student class so it becomes the child class to demonstrate class inheritance:"
   ]
  },
  {
   "cell_type": "code",
   "execution_count": null,
   "id": "9fcfad5c-435b-48e2-8cd2-79b13f092328",
   "metadata": {
    "executionInfo": {
     "elapsed": 263,
     "status": "ok",
     "timestamp": 1708703117846,
     "user": {
      "displayName": "Ignacio Soteras",
      "userId": "02050793736257155229"
     },
     "user_tz": -60
    },
    "id": "9fcfad5c-435b-48e2-8cd2-79b13f092328"
   },
   "outputs": [],
   "source": [
    "# Parent class (base class)\n",
    "class Person:\n",
    "    def __init__(self, name, age):\n",
    "        self.name = name\n",
    "        self.age = age\n",
    "\n",
    "    def say_hello(self):\n",
    "        return f\"Hello, my name is {self.name}.\"\n",
    "\n",
    "    def say_goodbye(self):\n",
    "        return f\"Goodbye, my name is {self.name}.\""
   ]
  },
  {
   "cell_type": "code",
   "execution_count": null,
   "id": "944f0785-c31d-4b14-bdaa-cb1f23e777bf",
   "metadata": {
    "executionInfo": {
     "elapsed": 246,
     "status": "ok",
     "timestamp": 1708703291163,
     "user": {
      "displayName": "Ignacio Soteras",
      "userId": "02050793736257155229"
     },
     "user_tz": -60
    },
    "id": "944f0785-c31d-4b14-bdaa-cb1f23e777bf"
   },
   "outputs": [],
   "source": [
    "# Child class (derived class) inherits from Person\n",
    "class Student(Person): # Look here at (Person)\n",
    "    def __init__(self, name, age, email=\"NA\"):\n",
    "        super().__init__(name, age)  # Calling the constructor of the parent class\n",
    "        self.courses = []\n",
    "        self.email = email # Suppose its a student email\n",
    "\n",
    "    def say_hello(self):  # Overriding the say_hello() method of the parent class\n",
    "        return super().say_hello()+f\" and my student email is {self.email}.\"\n",
    "\n",
    "    # We don't override say_goodbye, we don't mention it here\n",
    "\n",
    "    def add_course(self, course):\n",
    "        self.courses.append(course)\n",
    "\n",
    "    def display_info(self):\n",
    "        print(f\"Name: {self.name}\")\n",
    "        print(f\"Age: {self.age}\")\n",
    "        print(\"Courses Enrolled:\")\n",
    "        for course in self.courses:\n",
    "            print(f\"- {course}\")\n",
    "        print(f\"Email: {self.email}\")  # we print the email as well\n"
   ]
  },
  {
   "cell_type": "code",
   "execution_count": null,
   "id": "07088cde-eb01-4efb-adb6-bde8abc8d2e2",
   "metadata": {
    "colab": {
     "base_uri": "https://localhost:8080/"
    },
    "executionInfo": {
     "elapsed": 269,
     "status": "ok",
     "timestamp": 1708703337096,
     "user": {
      "displayName": "Ignacio Soteras",
      "userId": "02050793736257155229"
     },
     "user_tz": -60
    },
    "id": "07088cde-eb01-4efb-adb6-bde8abc8d2e2",
    "outputId": "1d3c0232-fcd1-4e6c-d8e6-84f3194edd26"
   },
   "outputs": [],
   "source": [
    "# Creating objects of both classes\n",
    "person1 = Person(\"Alice\", 30)\n",
    "student1 = Student(\"Bob\", 20, \"bob@gmail.com\")\n",
    "\n",
    "# Calling methods from the parent and child classes\n",
    "print(person1.say_hello())   # uses parent say_hello\n",
    "print(student1.say_hello())  # uses child say_hello"
   ]
  },
  {
   "cell_type": "code",
   "execution_count": null,
   "id": "ca63420b-56b5-4eb5-a478-3a7972f1b165",
   "metadata": {
    "colab": {
     "base_uri": "https://localhost:8080/"
    },
    "executionInfo": {
     "elapsed": 1688,
     "status": "ok",
     "timestamp": 1708703347195,
     "user": {
      "displayName": "Ignacio Soteras",
      "userId": "02050793736257155229"
     },
     "user_tz": -60
    },
    "id": "ca63420b-56b5-4eb5-a478-3a7972f1b165",
    "outputId": "647788cc-bcd1-4aa5-d6b7-855464ea7c70"
   },
   "outputs": [],
   "source": [
    "print(person1.say_goodbye())   # uses parent say_goodbye\n",
    "print(student1.say_goodbye())  # uses parent say_goodbye"
   ]
  },
  {
   "cell_type": "code",
   "execution_count": null,
   "id": "93885849-0c9a-4893-bd6c-8b68080a3da7",
   "metadata": {
    "executionInfo": {
     "elapsed": 374,
     "status": "ok",
     "timestamp": 1708703356155,
     "user": {
      "displayName": "Ignacio Soteras",
      "userId": "02050793736257155229"
     },
     "user_tz": -60
    },
    "id": "93885849-0c9a-4893-bd6c-8b68080a3da7"
   },
   "outputs": [],
   "source": [
    "student1.add_course(\"Math\")"
   ]
  },
  {
   "cell_type": "code",
   "execution_count": null,
   "id": "5194e283-4e84-4f39-b72a-ce8f259a8516",
   "metadata": {
    "colab": {
     "base_uri": "https://localhost:8080/",
     "height": 141
    },
    "executionInfo": {
     "elapsed": 273,
     "status": "error",
     "timestamp": 1708703360643,
     "user": {
      "displayName": "Ignacio Soteras",
      "userId": "02050793736257155229"
     },
     "user_tz": -60
    },
    "id": "5194e283-4e84-4f39-b72a-ce8f259a8516",
    "outputId": "ef978d66-1bc4-402b-d5ac-9e628d6ce485"
   },
   "outputs": [],
   "source": [
    "person1.add_course(\"Math\") #This gives error as `add_course` is not defined in the Parent class (the Person class)"
   ]
  },
  {
   "cell_type": "markdown",
   "id": "870b29ae-50f4-436e-a28a-ec3a105c348e",
   "metadata": {
    "id": "870b29ae-50f4-436e-a28a-ec3a105c348e",
    "lang": "en"
   },
   "source": [
    "## Furthermaterials\n",
    "\n",
    "- Youtube Tutorial by [Corey Schafer](https://www.youtube.com/watch?v=ZDa-Z5JzLYM)\n",
    "- [Real Python](https://docs.hektorprofe.net/python/object-oriented-programming/classes-and-objects/)\n",
    "- [Interesting read](https://medium.com/@shaistha24/functional-programming-vs-object-oriented-programming-oop-which-is-better-82172e53a526) --> OOP vs Functional programming"
   ]
  },
  {
   "cell_type": "markdown",
   "id": "b09e7d4b-60dd-4052-b7f5-ab39ece2c293",
   "metadata": {
    "id": "b09e7d4b-60dd-4052-b7f5-ab39ece2c293",
    "lang": "en",
    "tags": []
   },
   "source": [
    "### Advanced Methods @classmethod @staticmethod\n",
    "* [Real Python - @classmethod/@stathicmethod](https://realpython.com/instance-class-and-static-methods-demystified/). Advanced Python with decorators (we'll mention them later)"
   ]
  }
 ],
 "metadata": {
  "colab": {
   "provenance": []
  },
  "kernelspec": {
   "display_name": "Python 3 (ipykernel)",
   "language": "python",
   "name": "python3"
  },
  "language_info": {
   "codemirror_mode": {
    "name": "ipython",
    "version": 3
   },
   "file_extension": ".py",
   "mimetype": "text/x-python",
   "name": "python",
   "nbconvert_exporter": "python",
   "pygments_lexer": "ipython3",
   "version": "3.11.8"
  },
  "toc": {
   "base_numbering": 1,
   "nav_menu": {},
   "number_sections": true,
   "sideBar": true,
   "skip_h1_title": false,
   "title_cell": "Table of Contents",
   "title_sidebar": "Contents",
   "toc_cell": true,
   "toc_position": {},
   "toc_section_display": true,
   "toc_window_display": false
  }
 },
 "nbformat": 4,
 "nbformat_minor": 5
}
