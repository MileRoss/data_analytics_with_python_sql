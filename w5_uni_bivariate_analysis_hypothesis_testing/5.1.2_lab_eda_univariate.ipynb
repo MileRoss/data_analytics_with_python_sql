{
 "cells": [
  {
   "cell_type": "markdown",
   "metadata": {},
   "source": [
    "## Lab - EDA Univariate Analysis: Diving into Amazon UK Product Insights\n",
    "\n",
    "**Objective**: Explore the product listing dynamics on Amazon UK to extract actionable business insights. By understanding the distribution, central tendencies, and relationships of various product attributes, businesses can make more informed decisions on product positioning, pricing strategies, and inventory management.\n",
    "\n",
    "**Dataset**: This lab utilizes the [Amazon UK product dataset](https://www.kaggle.com/datasets/asaniczka/uk-optimal-product-price-prediction/)\n",
    "which provides information on product categories, brands, prices, ratings, and more from from Amazon UK. You'll need to download it to start working with it."
   ]
  },
  {
   "cell_type": "code",
   "execution_count": null,
   "metadata": {},
   "outputs": [],
   "source": [
    "import pandas as pd\n",
    "import seaborn as sns\n",
    "import matplotlib.pyplot as plt\n",
    "\n",
    "df = pd.read_csv(\"amz_uk_price_prediction_dataset.csv\")\n",
    "df"
   ]
  },
  {
   "cell_type": "markdown",
   "metadata": {},
   "source": [
    "---\n",
    "### Part 1: Understanding Product Categories"
   ]
  },
  {
   "cell_type": "code",
   "execution_count": null,
   "metadata": {},
   "outputs": [],
   "source": [
    "# 1. Generate a frequency table for the product `category`.\n",
    "frequency_table = df[\"category\"].value_counts()\n",
    "frequency_table"
   ]
  },
  {
   "cell_type": "code",
   "execution_count": null,
   "metadata": {},
   "outputs": [],
   "source": [
    "# 2. Display the distribution of products across different categories using a bar chart. If you face problems understanding the chart, do it for a subset of top categories.\n",
    "\n",
    "subset = frequency_table[:5]\n",
    "\n",
    "barplot = sns.barplot(x=subset.values, \n",
    "                      y=subset.index,\n",
    "                      palette=\"Set1\", \n",
    "                      hue=subset.index,\n",
    "                      legend=\"full\")\n",
    "\n",
    "plt.legend(loc=\"lower right\")\n",
    "plt.show()"
   ]
  },
  {
   "cell_type": "code",
   "execution_count": null,
   "metadata": {},
   "outputs": [],
   "source": [
    "# 3. For a subset of top categories, visualize their proportions using a pie chart.\n",
    "\n",
    "plt.figure(figsize=(5, 5)) #increase figsize if overlapping info\n",
    "subset.plot.pie(autopct=\"%.1f%%\", startangle=15);\n",
    "plt.show()"
   ]
  },
  {
   "cell_type": "markdown",
   "metadata": {},
   "source": [
    "---\n",
    "### Part 2: Delving into Product Pricing"
   ]
  },
  {
   "cell_type": "code",
   "execution_count": null,
   "metadata": {},
   "outputs": [],
   "source": [
    "# 1. Measures of centrality show presence of a few extremely high prices because the mean price 89 is much higher than the median price 19.\n",
    "\n",
    "df[\"price\"].agg([\"mean\", \"median\"])"
   ]
  },
  {
   "cell_type": "code",
   "execution_count": null,
   "metadata": {},
   "outputs": [],
   "source": [
    "df[\"price\"].mode()"
   ]
  },
  {
   "cell_type": "code",
   "execution_count": null,
   "metadata": {},
   "outputs": [],
   "source": [
    "# 2. Measures of dispersion show a significant spread of prices. While the most common price is 9.99, some items go up to 119445 more than this.\n",
    "\n",
    "df[\"price\"].agg([\"var\", \"std\"])"
   ]
  },
  {
   "cell_type": "code",
   "execution_count": null,
   "metadata": {},
   "outputs": [],
   "source": [
    "# 3. Most products probably fall in the range from 0 to mode=9.9. This makes for a histogram hard to read.\n",
    "\n",
    "sns.histplot(df[\"price\"], \n",
    "             kde=True, # plotline\n",
    "             bins=30,  # more bins - more details\n",
    "             color=\"salmon\");"
   ]
  },
  {
   "cell_type": "code",
   "execution_count": null,
   "metadata": {},
   "outputs": [],
   "source": [
    "# 4. The viz solution can be to remove outliers and focus on the price belows the mean price\n",
    "\n",
    "subset = df[df[\"price\"] < df[\"price\"].mean()]\n",
    "sns.histplot(subset[\"price\"], kde=True, bins=30, color=\"salmon\")\n",
    "plt.show()"
   ]
  },
  {
   "cell_type": "code",
   "execution_count": null,
   "metadata": {},
   "outputs": [],
   "source": [
    "# 5. Boxplot shows 2 products that are priced significantly higher than the rest: around 80 and 100K.\n",
    "\n",
    "sns.boxplot(x=df[\"price\"], color=\"salmon\");"
   ]
  },
  {
   "cell_type": "markdown",
   "metadata": {},
   "source": [
    "---\n",
    "### Part 3: Unpacking Product Ratings"
   ]
  },
  {
   "cell_type": "code",
   "execution_count": null,
   "metadata": {},
   "outputs": [],
   "source": [
    "# 1. Measures of centrality show that most frequently customers give 0 stars when rating a product.\n",
    "\n",
    "df[\"stars\"].agg([\"mean\", \"median\"])"
   ]
  },
  {
   "cell_type": "code",
   "execution_count": null,
   "metadata": {},
   "outputs": [],
   "source": [
    "df[\"stars\"].mode()"
   ]
  },
  {
   "cell_type": "code",
   "execution_count": null,
   "metadata": {},
   "outputs": [],
   "source": [
    "# 2. Measures of dispersion show a wide range of ratings, from 0 to 4.4 stars.\n",
    "\n",
    "df[\"stars\"].agg([\"var\", \"std\"])"
   ]
  },
  {
   "cell_type": "code",
   "execution_count": null,
   "metadata": {},
   "outputs": [],
   "source": [
    "df[\"stars\"].describe()"
   ]
  },
  {
   "cell_type": "code",
   "execution_count": null,
   "metadata": {},
   "outputs": [],
   "source": [
    "# 3. Ratings are normally distributed, with skewness value of nearly 0.\n",
    "\n",
    "df[\"stars\"].skew()"
   ]
  },
  {
   "cell_type": "code",
   "execution_count": null,
   "metadata": {},
   "outputs": [],
   "source": [
    "# Kurtosis value -1.9 confirms uniform distribution of ratings.\n",
    "\n",
    "df[\"stars\"].kurtosis()"
   ]
  },
  {
   "cell_type": "code",
   "execution_count": null,
   "metadata": {},
   "outputs": [],
   "source": [
    "# 4. The histogram confirms that 0 stars is the most common and most frequent rating. It's interesting to note almost absence of 1-2-3 stars.\n",
    "\n",
    "sns.histplot(df[\"stars\"], \n",
    "             kde=True, # plotline\n",
    "             bins=30,  # more bins - more details\n",
    "             color=\"salmon\");"
   ]
  }
 ],
 "metadata": {
  "kernelspec": {
   "display_name": "base",
   "language": "python",
   "name": "python3"
  },
  "language_info": {
   "codemirror_mode": {
    "name": "ipython",
    "version": 3
   },
   "file_extension": ".py",
   "mimetype": "text/x-python",
   "name": "python",
   "nbconvert_exporter": "python",
   "pygments_lexer": "ipython3",
   "version": "3.11.8"
  }
 },
 "nbformat": 4,
 "nbformat_minor": 2
}
