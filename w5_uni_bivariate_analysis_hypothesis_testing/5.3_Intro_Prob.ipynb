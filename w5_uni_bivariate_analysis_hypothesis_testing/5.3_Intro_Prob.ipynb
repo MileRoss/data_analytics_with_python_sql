{
 "cells": [
  {
   "cell_type": "markdown",
   "id": "3e097eb7-fc44-4820-82d3-1559fd57c8d6",
   "metadata": {
    "id": "3e097eb7-fc44-4820-82d3-1559fd57c8d6",
    "tags": []
   },
   "source": [
    "# Intro to Probability\n"
   ]
  },
  {
   "cell_type": "markdown",
   "id": "486766fc-e62b-45eb-b4ff-38f17736093a",
   "metadata": {
    "id": "486766fc-e62b-45eb-b4ff-38f17736093a"
   },
   "source": [
    "Probability plays a vital role in data analytics by offering a mathematical foundation to measure uncertainty, enabling informed decision-making, and evaluating the chances of different outcomes. This is essential for conducting rigorous statistical analyses and developing accurate predictive models."
   ]
  },
  {
   "cell_type": "markdown",
   "id": "732a98ae-e26f-4dc9-979e-48e0bfaed814",
   "metadata": {
    "id": "732a98ae-e26f-4dc9-979e-48e0bfaed814"
   },
   "source": [
    "## Set Theory"
   ]
  },
  {
   "cell_type": "markdown",
   "id": "L-hjX-K-jLbb",
   "metadata": {
    "id": "L-hjX-K-jLbb"
   },
   "source": [
    "In set theory we represent the \"union\" of two sets A and B with $A \\cup B$, which represents all the members from both sets.\n",
    "\n",
    "In contrast, we name the \"intersection\" of two sets A and B with $A \\cap B$, which represent the \"common\" elements to both sets."
   ]
  },
  {
   "cell_type": "markdown",
   "id": "ceca26ba",
   "metadata": {
    "id": "ceca26ba"
   },
   "source": [
    "#### Example 1"
   ]
  },
  {
   "cell_type": "markdown",
   "id": "ac52fd5d",
   "metadata": {
    "id": "ac52fd5d"
   },
   "source": [
    "Set theory, an important part of mathematics, studies unique groups of elements. This lays the essential groundwork for understanding probability. Grasping sets is vital for exploring the world of probability."
   ]
  },
  {
   "cell_type": "markdown",
   "id": "a24a189e-9d1d-4d12-bc5c-33f50c4de1a0",
   "metadata": {
    "id": "a24a189e-9d1d-4d12-bc5c-33f50c4de1a0"
   },
   "source": [
    "- Lets consider two sets, A and B ,where:\n",
    "    - A represents Students IDs who passed Mathematics\n",
    "    - B representes Students IDs who passed English\n",
    "\n"
   ]
  },
  {
   "cell_type": "code",
   "execution_count": null,
   "id": "e249d4e2",
   "metadata": {
    "executionInfo": {
     "elapsed": 4,
     "status": "ok",
     "timestamp": 1710926616755,
     "user": {
      "displayName": "Ignacio Soteras",
      "userId": "02050793736257155229"
     },
     "user_tz": -60
    },
    "id": "e249d4e2"
   },
   "outputs": [],
   "source": [
    "A = {1001, 1002, 1004, 1005, 1006, 1008, 1010}\n",
    "B = {1003, 1004, 1005, 1006, 1007, 1008, 1009}"
   ]
  },
  {
   "cell_type": "code",
   "execution_count": null,
   "id": "4e903ba6",
   "metadata": {
    "colab": {
     "base_uri": "https://localhost:8080/"
    },
    "executionInfo": {
     "elapsed": 364,
     "status": "ok",
     "timestamp": 1710926675165,
     "user": {
      "displayName": "Ignacio Soteras",
      "userId": "02050793736257155229"
     },
     "user_tz": -60
    },
    "id": "4e903ba6",
    "outputId": "15f5b585-192e-4324-cbb5-c01d94783450"
   },
   "outputs": [],
   "source": [
    "#Students who passed math or English or both\n",
    "A.union(B)"
   ]
  },
  {
   "cell_type": "code",
   "execution_count": null,
   "id": "5de648c0",
   "metadata": {
    "colab": {
     "base_uri": "https://localhost:8080/"
    },
    "executionInfo": {
     "elapsed": 253,
     "status": "ok",
     "timestamp": 1710926786000,
     "user": {
      "displayName": "Ignacio Soteras",
      "userId": "02050793736257155229"
     },
     "user_tz": -60
    },
    "id": "5de648c0",
    "outputId": "720c8cf4-089a-47f8-c745-7cf854ccb831"
   },
   "outputs": [],
   "source": [
    "#Students who passed both subjects\n",
    "A.intersection(B)"
   ]
  },
  {
   "cell_type": "code",
   "execution_count": null,
   "id": "0e442607",
   "metadata": {
    "colab": {
     "base_uri": "https://localhost:8080/"
    },
    "executionInfo": {
     "elapsed": 262,
     "status": "ok",
     "timestamp": 1710926822125,
     "user": {
      "displayName": "Ignacio Soteras",
      "userId": "02050793736257155229"
     },
     "user_tz": -60
    },
    "id": "0e442607",
    "outputId": "f387c96d-8369-4471-a688-1abe494924d9"
   },
   "outputs": [],
   "source": [
    "#Students who passed math but not English\n",
    "A.difference(B)"
   ]
  },
  {
   "cell_type": "code",
   "execution_count": null,
   "id": "fcd59029",
   "metadata": {
    "colab": {
     "base_uri": "https://localhost:8080/"
    },
    "executionInfo": {
     "elapsed": 222,
     "status": "ok",
     "timestamp": 1710926885700,
     "user": {
      "displayName": "Ignacio Soteras",
      "userId": "02050793736257155229"
     },
     "user_tz": -60
    },
    "id": "fcd59029",
    "outputId": "f72c2204-7abb-49b8-9b61-da586a2441cb"
   },
   "outputs": [],
   "source": [
    "#Students who passed English but not math\n",
    "B.difference(A)"
   ]
  },
  {
   "cell_type": "markdown",
   "id": "c12ca5d3",
   "metadata": {
    "id": "c12ca5d3"
   },
   "source": [
    "## Probability"
   ]
  },
  {
   "cell_type": "markdown",
   "id": "gWEf_PChMVJC",
   "metadata": {
    "id": "gWEf_PChMVJC"
   },
   "source": [
    "How to **estimate** probabilities? (frequentist approach)\n",
    "\n",
    "$$P(x) = \\frac{nx}{total}$$\n",
    "\n",
    "Flips = 15\n",
    "Heads = 7\n",
    "Tails = 8\n",
    "\n",
    "$$P(H) = \\frac{7}{15}$$\n",
    "$$P(T) = \\frac{8}{15}$$\n",
    "$$P(H) \\ne P(T)$$"
   ]
  },
  {
   "cell_type": "markdown",
   "id": "12fe771f",
   "metadata": {
    "id": "12fe771f"
   },
   "source": [
    "### Example 2"
   ]
  },
  {
   "cell_type": "markdown",
   "id": "7fce1af3",
   "metadata": {
    "id": "7fce1af3"
   },
   "source": [
    "Drawing Cards"
   ]
  },
  {
   "cell_type": "markdown",
   "id": "e9816ebd",
   "metadata": {
    "id": "e9816ebd"
   },
   "source": [
    "- 1. What is the probability of drawing an Ace from a standard deck of 52 cards?\n",
    "- 2. What is the probability of drawing either a red card or a King from a standard deck of 52 cards?\n",
    "- 3. If you draw a card from a standard deck and it is red, what is the probability that it is a King?"
   ]
  },
  {
   "cell_type": "code",
   "execution_count": null,
   "id": "2db937e8",
   "metadata": {
    "colab": {
     "base_uri": "https://localhost:8080/"
    },
    "executionInfo": {
     "elapsed": 298,
     "status": "ok",
     "timestamp": 1710927494415,
     "user": {
      "displayName": "Ignacio Soteras",
      "userId": "02050793736257155229"
     },
     "user_tz": -60
    },
    "id": "2db937e8",
    "outputId": "7aeb8453-7f80-4549-f07f-ec8b511f99c5"
   },
   "outputs": [],
   "source": [
    "#1.\n",
    "# S = {all 52 cards}\n",
    "# A = {ace_spades, ace_hearts, ace_diamonds, aces_clubs}\n",
    "\n",
    "# P(Ace) = 4/52\n",
    "\n",
    "#A standard deck has 52 cards\n",
    "deck = 52\n",
    "\n",
    "#A standard deck has 4 aces\n",
    "aces = 4\n",
    "\n",
    "probability_aces = aces/deck\n",
    "\n",
    "print(f\"The probability of drawing an Ace is {probability_aces: .2f}\")"
   ]
  },
  {
   "cell_type": "code",
   "execution_count": null,
   "id": "ecac4476",
   "metadata": {
    "colab": {
     "base_uri": "https://localhost:8080/"
    },
    "executionInfo": {
     "elapsed": 239,
     "status": "ok",
     "timestamp": 1710927793973,
     "user": {
      "displayName": "Ignacio Soteras",
      "userId": "02050793736257155229"
     },
     "user_tz": -60
    },
    "id": "ecac4476",
    "outputId": "68af5b89-f5b7-4279-a842-a7ac9be13b3c"
   },
   "outputs": [],
   "source": [
    "#2. #P(Red) = 1/2; P(King) = 4/52\n",
    "#P(Red ∪ King) = P(Red) + P(King) - P(Red ∩ King) # We need to substract the intersection to avoid counting twice the same cards\n",
    "#P(Red ∪ King) = 26/52 + 4/52 - 2/52 # We have King of diamonds, and the King of hearts.\n",
    "p_red_or_king =   (26/52) + (4/52) - (2/52)\n",
    "\n",
    "print(f\"The probability of drawing a red or King card is {p_red_or_king: .2f}\")"
   ]
  },
  {
   "cell_type": "code",
   "execution_count": null,
   "id": "c336486f",
   "metadata": {
    "colab": {
     "base_uri": "https://localhost:8080/"
    },
    "executionInfo": {
     "elapsed": 659,
     "status": "ok",
     "timestamp": 1710927899964,
     "user": {
      "displayName": "Ignacio Soteras",
      "userId": "02050793736257155229"
     },
     "user_tz": -60
    },
    "id": "c336486f",
    "outputId": "c90c0381-9ad8-4ec9-8783-7aa4b60f6fce"
   },
   "outputs": [],
   "source": [
    "#3.\n",
    "# Among the red cards, what is the probability to select a King?\n",
    "#P(King|Red) = P(King ∩ Red) / P(Red)\n",
    "p_king_after_red = (2/52) / (26/52) # or simply 2/26\n",
    "print(f\"The probability of drawing a King, knowing it's red card is {p_king_after_red: .2f}\")"
   ]
  },
  {
   "cell_type": "markdown",
   "id": "b1e68487",
   "metadata": {
    "id": "b1e68487"
   },
   "source": [
    "### Example 3"
   ]
  },
  {
   "cell_type": "markdown",
   "id": "8ca888ce",
   "metadata": {
    "id": "8ca888ce"
   },
   "source": [
    "You are planning to go on a picnic today but the morning is cloudy, so it might rain? The following data about rainy days might help you make a decision:\n",
    "\n",
    "- Knowing that it is a rainy day, the probability of cloudy is 50%\n",
    "- The probability of any day (rainy or not) starting off cloudy is 40%\n",
    "- This month is usually dry so only 3 of 30 days (10%) tend to be rainy\n",
    "- What is the probability of rain, given the day started cloudy?"
   ]
  },
  {
   "cell_type": "markdown",
   "id": "TeGYkbdKQSzJ",
   "metadata": {
    "id": "TeGYkbdKQSzJ"
   },
   "source": [
    "**Baye's Theorem**\n",
    "\n",
    "$$P(x, y)=?$$\n",
    "\n",
    "$$P(x),P(y)$$\n",
    "\n",
    "$$P(x, y) = P(x)*P(y|x)$$\n",
    "$$P(x, y) = P(y)*P(x|y)$$\n",
    "\n",
    "$$P(x)*P(y|x) = P(y)*P(x|y)$$\n",
    "\n",
    "$$P(x|y) = \\frac{P(x)*P(y|x)}{P(y)}$$"
   ]
  },
  {
   "cell_type": "code",
   "execution_count": null,
   "id": "f99e9db6",
   "metadata": {
    "colab": {
     "base_uri": "https://localhost:8080/"
    },
    "executionInfo": {
     "elapsed": 546,
     "status": "ok",
     "timestamp": 1710928551854,
     "user": {
      "displayName": "Ignacio Soteras",
      "userId": "02050793736257155229"
     },
     "user_tz": -60
    },
    "id": "f99e9db6",
    "outputId": "0d642900-d0d1-4067-d227-b7410b5621a1"
   },
   "outputs": [],
   "source": [
    "# Bayes Theorem is going to be really usefull here if we have in consideration the available data\n",
    "\n",
    "# P(C|R) = 0.5\n",
    "# P(C) = 0.4\n",
    "# P(R) = 0.1\n",
    "\n",
    "# P(R|C) = P(R) * P(C|R) / P(C)\n",
    "\n",
    "p_cr = 0.5\n",
    "p_c = 0.4\n",
    "p_r = 0.1\n",
    "\n",
    "p_rc = (p_r * p_cr) / p_c\n",
    "\n",
    "print(f\"The probability that it's rainny when it's cloudy is {p_rc: .2f}\")"
   ]
  },
  {
   "cell_type": "markdown",
   "id": "f7590834",
   "metadata": {
    "id": "f7590834"
   },
   "source": [
    "## Probability Distributions"
   ]
  },
  {
   "cell_type": "markdown",
   "id": "4d7e21c0",
   "metadata": {
    "id": "4d7e21c0"
   },
   "source": [
    "#### Discrete"
   ]
  },
  {
   "cell_type": "markdown",
   "id": "5317de85",
   "metadata": {
    "id": "5317de85"
   },
   "source": [
    "##### **Binomial Distribution** - Probability of having k successes in n independent trials with individual success probability p."
   ]
  },
  {
   "cell_type": "markdown",
   "id": "H5c5QPAzm2J5",
   "metadata": {
    "id": "H5c5QPAzm2J5"
   },
   "source": [
    "The idea here is the following:\n",
    "\n",
    "We're dealing with an experiment that can only take **TWO** possible outcomes (no matter which ones, what matters it to have only two possible values). Then, we wonder what is the probability that if we repeat the experiment \"n\" times, we will get \"k\" succefull events.\n",
    "\n",
    "Examples:\n",
    "\n",
    "* Flipping a coin, we can have heads \"H\" or tails \"T\".\n",
    "* Online transactions, it can be fraudulent \"F\" or not \"N\".\n",
    "\n",
    "What we consider \"successful\" event can be any of the two outcomes.\n",
    "On the other hand, the individual probabilites doesn't matter here. The coin can be fair or not, online transactions are mostly not fraudulent.\n",
    "\n",
    "Example:\n",
    "- Before the vaccines were released by companies, the government had to contact some suppliers in order to vaccinate the entire population when the vaccines were ready. So, imagine that each company had a probability of developing the vaccine of 40%.\n",
    "- Each supplier has the capacity to develop 10,000 vaccines.\n",
    "- The population that needs to be administered the vaccine is 30,000 people\n",
    "\n",
    "**How many suppliers should the government contract?**\n",
    "\n",
    "Let's say the governament contracts with 10 labs.\n",
    "Is this enough to vacinate this 30,000 people?"
   ]
  },
  {
   "cell_type": "code",
   "execution_count": null,
   "id": "e3224f54",
   "metadata": {
    "colab": {
     "base_uri": "https://localhost:8080/"
    },
    "executionInfo": {
     "elapsed": 257,
     "status": "ok",
     "timestamp": 1710929160042,
     "user": {
      "displayName": "Ignacio Soteras",
      "userId": "02050793736257155229"
     },
     "user_tz": -60
    },
    "id": "e3224f54",
    "outputId": "bb4d2ac5-e43d-4831-dfc4-ea5678c4f6e5"
   },
   "outputs": [],
   "source": [
    "from scipy.stats import binom\n",
    "\n",
    "n = 10\n",
    "p = 0.40\n",
    "binom_dist = binom(n,p)\n",
    "\n",
    "# If each lab can provide 10K vaccines and we have 30K people, we will need to contact at least 30K/10K = 3 or more successful labs.\n",
    "# Let's see what is the probability to contact 3 successful labs.\n",
    "print(f\"The probability to have 3 successful contacts when we reach 10 labs is: {binom_dist.pmf(3): .2f}\")\n",
    "\n",
    "# However, if we have 3 or more (in any amount) successful contacts will also be safe. Lets compute what is the probability of\n",
    "# finding 4 successful labs if we contact 10.\n",
    "print(f\"The probability to have 4 successful contacts when we reach 10 labs is: {binom_dist.pmf(4): .2f}\")\n",
    "\n",
    "# finding 5 successful labs if we contact 10.\n",
    "print(f\"The probability to have 5 successful contacts when we reach 10 labs is: {binom_dist.pmf(5): .2f}\")\n",
    "\n",
    "#1- binom_dist.cdf(2)"
   ]
  },
  {
   "cell_type": "code",
   "execution_count": null,
   "id": "a3c9d2ac",
   "metadata": {},
   "outputs": [],
   "source": [
    "# Calculate and store the probabilities for exactly 3, 4, and 5 successes\n",
    "probabilities = [binom_dist.pmf(k) for k in range(3, 6)]\n",
    "\n",
    "# Print the results\n",
    "for k, prob in zip(range(3, 6), probabilities):\n",
    "    print(f\"The probability of having exactly {k} successful contacts when attempting 10 times is: {prob:.2f}\")"
   ]
  },
  {
   "cell_type": "code",
   "execution_count": null,
   "id": "c4956dbd",
   "metadata": {},
   "outputs": [],
   "source": [
    "import pandas as pd\n",
    "\n",
    "# Generate and display probabilities in a table format\n",
    "k_values = range(3, 6)\n",
    "probabilities = [binom_dist.pmf(k) for k in k_values]\n",
    "df = pd.DataFrame({'k': k_values, 'Probability': probabilities})\n",
    "print(df)"
   ]
  },
  {
   "cell_type": "markdown",
   "id": "55Eks8_qs_6k",
   "metadata": {
    "id": "55Eks8_qs_6k"
   },
   "source": [
    "In this problem we don't care how many successful contacts we have as long as we hit 3 or more. Therefore, we're looking for:\n",
    "\n",
    "$$P(k \\ge 3, n, p) = \\sum_{k=3}^{10}P(k, n, p) = P(3, 10, 0.4) + P(4, 10, 0.4) + P(5, 10, 0.4) +...+ P(10, 10, 0.4)$$\n",
    "\n",
    "This is called the \"cumulative probability\". We need to add the individual probabilities because we can reach our goal in several ways: with 3 successful contacts, with 4, 5,...and so on.\n",
    "\n",
    "This probability can be also computed as the 1 - probability of having less than 2 sucessful contacts: ie:\n",
    "\n",
    "$$ 1 - P(k < 3, n, p) = \\sum_{k=0}^{2}P(k, n, p)= P(0, 10, 0.4) + P(1, 10, 0.4) + P(2, 10, 0.4)$$"
   ]
  },
  {
   "cell_type": "code",
   "execution_count": null,
   "id": "P4tsftzTvu-M",
   "metadata": {
    "colab": {
     "base_uri": "https://localhost:8080/"
    },
    "executionInfo": {
     "elapsed": 259,
     "status": "ok",
     "timestamp": 1710929518864,
     "user": {
      "displayName": "Ignacio Soteras",
      "userId": "02050793736257155229"
     },
     "user_tz": -60
    },
    "id": "P4tsftzTvu-M",
    "outputId": "aa456cc4-abba-49bc-c307-2c9d865bdded"
   },
   "outputs": [],
   "source": [
    "print(f\"The probability to have 3 or more successful contacts when we reach 10 labs is: {1 - binom.cdf(2, n, p): .2f}\")"
   ]
  },
  {
   "cell_type": "markdown",
   "id": "DwBIrsVuvnQn",
   "metadata": {
    "id": "DwBIrsVuvnQn"
   },
   "source": [
    "If instead of contacting 10 labs, we contact 15..."
   ]
  },
  {
   "cell_type": "code",
   "execution_count": null,
   "id": "68d9e324",
   "metadata": {
    "colab": {
     "base_uri": "https://localhost:8080/"
    },
    "executionInfo": {
     "elapsed": 302,
     "status": "ok",
     "timestamp": 1710929725398,
     "user": {
      "displayName": "Ignacio Soteras",
      "userId": "02050793736257155229"
     },
     "user_tz": -60
    },
    "id": "68d9e324",
    "outputId": "b8d6923c-3cb5-4574-eae8-3efccf6cf78d"
   },
   "outputs": [],
   "source": [
    "n = 15\n",
    "p = 0.40\n",
    "binom_dist = binom(n,p)\n",
    "1- binom_dist.cdf(2)"
   ]
  },
  {
   "cell_type": "code",
   "execution_count": null,
   "id": "mGGBzkmyboTO",
   "metadata": {
    "colab": {
     "base_uri": "https://localhost:8080/",
     "height": 430
    },
    "executionInfo": {
     "elapsed": 242,
     "status": "ok",
     "timestamp": 1710931847557,
     "user": {
      "displayName": "Ignacio Soteras",
      "userId": "02050793736257155229"
     },
     "user_tz": -60
    },
    "id": "mGGBzkmyboTO",
    "outputId": "4e35545e-9a8c-4308-fa3b-2817d59ebf07"
   },
   "outputs": [],
   "source": [
    "import matplotlib.pyplot as plt\n",
    "import seaborn as sns\n",
    "\n",
    "sns.barplot(x=[i for i in range(n+1)], y=[binom_dist.pmf(i) for i in range(n + 1)]);"
   ]
  },
  {
   "cell_type": "code",
   "execution_count": null,
   "id": "07559caf",
   "metadata": {},
   "outputs": [],
   "source": [
    "sns.barplot(x=[i for i in range(n + 1)], y=[1 - binom_dist.cdf(i - 1) for i in range(n + 1)]);\n",
    "plt.xlabel(\"Number of Successful Contacts (k)\")\n",
    "plt.ylabel(\"Cumulative Probability of k or More Successes\")\n",
    "plt.show()\n"
   ]
  },
  {
   "cell_type": "markdown",
   "id": "d2583807",
   "metadata": {
    "id": "d2583807"
   },
   "source": [
    "We can say that if we contract 15 labs, the probability of three or more labs being successful in the development of the vaccine is now 0.97.\n",
    "- Is this enough? Of course, the more labs we contract, the better. However, there are costs associated with contracting labs that we need to take into consideration"
   ]
  },
  {
   "cell_type": "markdown",
   "id": "2bf9bd6e",
   "metadata": {
    "id": "2bf9bd6e"
   },
   "source": [
    "##### **Geometric Distribution**"
   ]
  },
  {
   "cell_type": "markdown",
   "id": "e44fddc7",
   "metadata": {
    "id": "e44fddc7"
   },
   "source": [
    "Suppose you are applying for jobs, and the probability of receiving an interview invitation for each job application is p = 0.20.\n",
    "Calculate the probability of getting an interview invitation on the third job application."
   ]
  },
  {
   "cell_type": "code",
   "execution_count": null,
   "id": "1db739b4",
   "metadata": {
    "colab": {
     "base_uri": "https://localhost:8080/"
    },
    "executionInfo": {
     "elapsed": 309,
     "status": "ok",
     "timestamp": 1710931930771,
     "user": {
      "displayName": "Ignacio Soteras",
      "userId": "02050793736257155229"
     },
     "user_tz": -60
    },
    "id": "1db739b4",
    "outputId": "d2e326ea-91e2-4ce3-b68f-54c179f8ad94"
   },
   "outputs": [],
   "source": [
    "from scipy.stats import geom\n",
    "\n",
    "p = 0.20\n",
    "k = 3\n",
    "geom_dist = geom(p)\n",
    "\n",
    "print(f\"The probability to get an interview invitation exactly on the 3rd job application is {geom_dist.pmf(3): .2f}\")"
   ]
  },
  {
   "cell_type": "code",
   "execution_count": null,
   "id": "1-GbVTE-gygN",
   "metadata": {
    "colab": {
     "base_uri": "https://localhost:8080/",
     "height": 430
    },
    "executionInfo": {
     "elapsed": 670,
     "status": "ok",
     "timestamp": 1710932366492,
     "user": {
      "displayName": "Ignacio Soteras",
      "userId": "02050793736257155229"
     },
     "user_tz": -60
    },
    "id": "1-GbVTE-gygN",
    "outputId": "be673e49-487e-4292-98d7-f40b8ecdcaed"
   },
   "outputs": [],
   "source": [
    "n=10\n",
    "p=0.2\n",
    "sns.barplot(x=[i for i in range(n+1)], y=[ geom_dist.pmf(k) for k in range(n+1)]);"
   ]
  },
  {
   "cell_type": "markdown",
   "id": "ba4244d5",
   "metadata": {
    "id": "ba4244d5"
   },
   "source": [
    "What is the probability that they need to submit at least 5 job applications before receiving their first job offer?"
   ]
  },
  {
   "cell_type": "code",
   "execution_count": null,
   "id": "28207e3f",
   "metadata": {
    "colab": {
     "base_uri": "https://localhost:8080/"
    },
    "executionInfo": {
     "elapsed": 435,
     "status": "ok",
     "timestamp": 1710931972298,
     "user": {
      "displayName": "Ignacio Soteras",
      "userId": "02050793736257155229"
     },
     "user_tz": -60
    },
    "id": "28207e3f",
    "outputId": "11adf4a2-d5c3-4090-898b-52b7be8721fa"
   },
   "outputs": [],
   "source": [
    "print(f\"The probability to get an interview invitation after the 5th job application is {1 - geom_dist.cdf(4): .2f}\")"
   ]
  },
  {
   "cell_type": "markdown",
   "id": "394a9a4e",
   "metadata": {
    "id": "394a9a4e"
   },
   "source": [
    "##### **Poisson Distribution**"
   ]
  },
  {
   "cell_type": "markdown",
   "id": "iyE-jzVKhUbW",
   "metadata": {
    "id": "iyE-jzVKhUbW"
   },
   "source": [
    "It's used when we're looking for counting events in  given period of time."
   ]
  },
  {
   "cell_type": "markdown",
   "id": "99bd05ab",
   "metadata": {
    "id": "99bd05ab"
   },
   "source": [
    "Suppose that on average, there are 2 accidents per day at a certain intersection.\n",
    "\n",
    "- What is the probability that there will be no accidents at the intersection tomorrow?"
   ]
  },
  {
   "cell_type": "code",
   "execution_count": null,
   "id": "73409979",
   "metadata": {
    "colab": {
     "base_uri": "https://localhost:8080/"
    },
    "executionInfo": {
     "elapsed": 268,
     "status": "ok",
     "timestamp": 1710932555968,
     "user": {
      "displayName": "Ignacio Soteras",
      "userId": "02050793736257155229"
     },
     "user_tz": -60
    },
    "id": "73409979",
    "outputId": "ca58e3c8-8297-45ef-a08f-49706705db90"
   },
   "outputs": [],
   "source": [
    "from scipy.stats import poisson\n",
    "\n",
    "mu = 2 # average\n",
    "poisson_dist = poisson(mu)\n",
    "\n",
    "print(f\"The probability that tomorrow we dont observe an accident is {poisson_dist.pmf(0): .2f}\")"
   ]
  },
  {
   "cell_type": "markdown",
   "id": "bcdf5550",
   "metadata": {
    "id": "bcdf5550"
   },
   "source": [
    "- What is the probability that there will be at least 5 accidents at the intersection tomorrow?"
   ]
  },
  {
   "cell_type": "code",
   "execution_count": null,
   "id": "08348bbf",
   "metadata": {
    "colab": {
     "base_uri": "https://localhost:8080/"
    },
    "executionInfo": {
     "elapsed": 332,
     "status": "ok",
     "timestamp": 1710932784115,
     "user": {
      "displayName": "Ignacio Soteras",
      "userId": "02050793736257155229"
     },
     "user_tz": -60
    },
    "id": "08348bbf",
    "outputId": "ba525080-4955-4ac4-9edd-94067d0895fd"
   },
   "outputs": [],
   "source": [
    "print(f\"The probability that tomorrow we observe 5 or more accidents is {1 - poisson_dist.cdf(4): .2f}\")"
   ]
  },
  {
   "cell_type": "code",
   "execution_count": null,
   "id": "3c6bb881",
   "metadata": {},
   "outputs": [],
   "source": [
    "k_values = range(0, k + 5)  # 5 is arbitrary\n",
    "sns.barplot(x=k_values, y=[poisson_dist.pmf(i) for i in k_values]);"
   ]
  },
  {
   "cell_type": "markdown",
   "id": "9b333bb5",
   "metadata": {
    "id": "9b333bb5"
   },
   "source": [
    "#### Continuous"
   ]
  },
  {
   "cell_type": "markdown",
   "id": "0002f6e5",
   "metadata": {
    "id": "0002f6e5"
   },
   "source": [
    "##### **Exponencial Distribution**"
   ]
  },
  {
   "cell_type": "markdown",
   "id": "fa1f1cdc",
   "metadata": {
    "id": "fa1f1cdc"
   },
   "source": [
    "Suppose the time (in minutes) between two consecutive arrivals at a bus stop is 10min.\n",
    "\n",
    "- Calculate the probability that the time between arrivals is less than 8 minutes."
   ]
  },
  {
   "cell_type": "code",
   "execution_count": null,
   "id": "5f316e6b-4536-4d86-870b-64f7b4c6b8ca",
   "metadata": {},
   "outputs": [],
   "source": [
    "import numpy as np\n",
    "from scipy.stats import expon\n",
    "import seaborn as sns\n",
    "\n",
    "# Lambda is the rate parameter, which is the inverse of the mean\n",
    "lambda_rate = 0.1  # If the mean time between arrivals is 10 minutes, lambda is 1/10 per minute.\n",
    "expon_dist = expon(scale=1/lambda_rate)  # Scale parameter is the inverse of lambda\n",
    "\n",
    "# Calculate the probability that the time until the first event is less than 8 minutes\n",
    "time = 8\n",
    "prob_less_than_time = expon_dist.cdf(time)  # CDF for the time\n",
    "prob_less_than_time\n",
    "\n",
    "time_values = np.linspace(0, 8, 100)  # Replace 'time * x' with the range you want to visualize\n",
    "sns.lineplot(x=time_values, y=expon_dist.cdf(time_values))"
   ]
  },
  {
   "cell_type": "markdown",
   "id": "8e6ddcc4",
   "metadata": {
    "id": "8e6ddcc4"
   },
   "source": [
    "- Calculate the probability that the time between arrivals is more than 15 minutes."
   ]
  },
  {
   "cell_type": "code",
   "execution_count": null,
   "id": "ee249bef",
   "metadata": {
    "colab": {
     "base_uri": "https://localhost:8080/"
    },
    "executionInfo": {
     "elapsed": 306,
     "status": "ok",
     "timestamp": 1710933005327,
     "user": {
      "displayName": "Ignacio Soteras",
      "userId": "02050793736257155229"
     },
     "user_tz": -60
    },
    "id": "ee249bef",
    "outputId": "8daa57f0-c4f3-470e-ca60-a01e76a80d0e"
   },
   "outputs": [],
   "source": [
    "print(f\"The probability that the time between arrivals is more than 15 minutes is {1 - lambda_inv.cdf(15): .2f}\")"
   ]
  },
  {
   "cell_type": "markdown",
   "id": "9767b232",
   "metadata": {
    "id": "9767b232"
   },
   "source": [
    "##### **Normal (Gaussian) Distribution**"
   ]
  },
  {
   "cell_type": "markdown",
   "id": "a783ec13",
   "metadata": {
    "id": "a783ec13"
   },
   "source": [
    "Suppose the heights of a population of students follow a normal distribution with a mean (μ) of 175 cm and a standard deviation (σ) of 7.5 cm .\n",
    "\n",
    "- What is the probability that a randomly selected student is taller than 182 cm?"
   ]
  },
  {
   "cell_type": "code",
   "execution_count": null,
   "id": "2415ec88",
   "metadata": {
    "colab": {
     "base_uri": "https://localhost:8080/"
    },
    "executionInfo": {
     "elapsed": 275,
     "status": "ok",
     "timestamp": 1710933145002,
     "user": {
      "displayName": "Ignacio Soteras",
      "userId": "02050793736257155229"
     },
     "user_tz": -60
    },
    "id": "2415ec88",
    "outputId": "4b3c5ed7-2098-44b1-c673-84be2592da11"
   },
   "outputs": [],
   "source": [
    "from scipy.stats import norm\n",
    "\n",
    "mean = 175\n",
    "std = 7.5\n",
    "\n",
    "norm_dist = norm(loc = mean, scale = std)\n",
    "print(f\"The probability of the student's height being greater than 182 cm is {1 - norm_dist.cdf(182): .2f}\")\n"
   ]
  },
  {
   "cell_type": "markdown",
   "id": "7715950c",
   "metadata": {
    "id": "7715950c"
   },
   "source": [
    "- What is the probability that the height of a randomly selected student is between 170cm and 175cm?"
   ]
  },
  {
   "cell_type": "markdown",
   "id": "yYsYTLh7kFPj",
   "metadata": {
    "id": "yYsYTLh7kFPj"
   },
   "source": [
    "$$P(170 <= h <= 175)=? = P(h < 175) - P(h < 170) =  CDF(175) - CDF(170)$$"
   ]
  },
  {
   "cell_type": "code",
   "execution_count": null,
   "id": "f6a7657b",
   "metadata": {
    "colab": {
     "base_uri": "https://localhost:8080/"
    },
    "executionInfo": {
     "elapsed": 250,
     "status": "ok",
     "timestamp": 1710933339274,
     "user": {
      "displayName": "Ignacio Soteras",
      "userId": "02050793736257155229"
     },
     "user_tz": -60
    },
    "id": "f6a7657b",
    "outputId": "b31048b9-a955-4b1d-c688-1559af42cf0a"
   },
   "outputs": [],
   "source": [
    "print(f\"The probability of the student's height being between 170 cm and 175 cm is {norm_dist.cdf(175) - norm_dist.cdf(170): .2f}\")\n"
   ]
  },
  {
   "cell_type": "markdown",
   "id": "8aNl95kwk2e-",
   "metadata": {
    "id": "8aNl95kwk2e-"
   },
   "source": [
    "The CDF(x) is the sum of all the probabilities from smallest value to x.\n",
    "\n",
    "1 = CDF(x) + \"remains\""
   ]
  }
 ],
 "metadata": {
  "colab": {
   "provenance": []
  },
  "kernelspec": {
   "display_name": "base",
   "language": "python",
   "name": "python3"
  },
  "language_info": {
   "codemirror_mode": {
    "name": "ipython",
    "version": 3
   },
   "file_extension": ".py",
   "mimetype": "text/x-python",
   "name": "python",
   "nbconvert_exporter": "python",
   "pygments_lexer": "ipython3",
   "version": "3.11.8"
  }
 },
 "nbformat": 4,
 "nbformat_minor": 5
}
