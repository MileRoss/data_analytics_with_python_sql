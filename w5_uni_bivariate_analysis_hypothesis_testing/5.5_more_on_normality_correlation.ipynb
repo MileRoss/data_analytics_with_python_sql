{
 "cells": [
  {
   "cell_type": "markdown",
   "id": "ce5d173b-52f1-45be-a4c9-4ffe1e482b86",
   "metadata": {
    "id": "ce5d173b-52f1-45be-a4c9-4ffe1e482b86",
    "tags": []
   },
   "source": [
    "# Hypothesis Testing in Exploratory Data Analysis (EDA): Correlations and Normality\n",
    "Let's look at how we use hypothesis testing to investigate areas that we examined in Exploratory Data Analysis (EDA) lessons. \n",
    "\n",
    "Hypothesis testing enables us to statistically evaluate relationships between variables and scrutinize their distributions with a more analytical approach.\n",
    "\n",
    "We'll start by applying hypothesis testing to relationships between variables, and then, we'll delve into examining distributions (specifically normality).\n",
    "\n",
    "We'll use the housing price dataset."
   ]
  },
  {
   "cell_type": "code",
   "execution_count": null,
   "id": "15753599-d05e-4fc7-b8b3-e9989a61c99d",
   "metadata": {
    "executionInfo": {
     "elapsed": 2001,
     "status": "ok",
     "timestamp": 1711100334414,
     "user": {
      "displayName": "Ignacio Soteras",
      "userId": "02050793736257155229"
     },
     "user_tz": -60
    },
    "id": "15753599-d05e-4fc7-b8b3-e9989a61c99d"
   },
   "outputs": [],
   "source": [
    "import pandas as pd\n",
    "import scipy.stats as st\n",
    "\n",
    "# Load the housing price dataset\n",
    "df = pd.read_csv(\"https://raw.githubusercontent.com/data-bootcamp-v4/data/main/housing_price_eda.csv\")"
   ]
  },
  {
   "cell_type": "markdown",
   "id": "861bc01f-cf1f-46e8-80f4-7ebe50255b9d",
   "metadata": {
    "id": "861bc01f-cf1f-46e8-80f4-7ebe50255b9d"
   },
   "source": [
    "# Correlation\n",
    "During EDA, we often have certain presumptions about the data. For example, we might hypothesize that houses with larger 'LotArea' have higher 'SalePrice'. Hypothesis testing allows us to test these assumptions rigorously.\n",
    "\n",
    "To statistically test the relationship, we use correlation tests like Pearson's correlation test. The **null hypothesis is that there is no relationship between the two variables.**"
   ]
  },
  {
   "cell_type": "code",
   "execution_count": null,
   "id": "9ba51b72-4f27-44ba-bc37-3c3da4a8a5e8",
   "metadata": {
    "colab": {
     "base_uri": "https://localhost:8080/"
    },
    "executionInfo": {
     "elapsed": 229,
     "status": "ok",
     "timestamp": 1711100422171,
     "user": {
      "displayName": "Ignacio Soteras",
      "userId": "02050793736257155229"
     },
     "user_tz": -60
    },
    "id": "9ba51b72-4f27-44ba-bc37-3c3da4a8a5e8",
    "outputId": "5aeb7b30-a41f-4c10-c66e-33ec22d5245f"
   },
   "outputs": [],
   "source": [
    "from scipy.stats import pearsonr\n",
    "\n",
    "# Pearson's correlation test between 'LotArea' and 'SalePrice'\n",
    "correlation_coef, p_value = pearsonr(df['LotArea'], df['SalePrice'])\n",
    "print(\"Correlation Coefficient:\", correlation_coef)\n",
    "print(\"P-value:\", p_value)"
   ]
  },
  {
   "cell_type": "markdown",
   "id": "5c5115ab-2ef7-4a85-9436-0f599f2c1860",
   "metadata": {
    "id": "5c5115ab-2ef7-4a85-9436-0f599f2c1860"
   },
   "source": [
    "## Interpreting the Results\n",
    "1. **Correlation Coefficient (0.26)**: This value measures the strength and direction of the linear relationship between the two variables. It ranges from -1 to 1, where:\n",
    "   - **-1** indicates a perfect negative linear correlation.\n",
    "   - **0** indicates no linear correlation.\n",
    "   - **1** indicates a perfect positive linear correlation.\n",
    "\n",
    "   A coefficient of **0.26** suggests a weak positive linear relationship between 'LotArea' and 'SalePrice'. This means that as 'LotArea' increases, 'SalePrice' tends to increase as well, but the relationship is not very strong.\n",
    "\n",
    "2. **P-value (1.12e-24)**: The p-value helps us determine the significance of our results. It tests the null hypothesis that there is no correlation between the two variables.\n",
    "   - A p-value less than 0.05 (common threshold for significance) indicates strong evidence against the null hypothesis, leading us to reject it.\n",
    "   - A p-value greater than 0.05 suggests weak evidence against the null hypothesis, so we fail to reject it.\n",
    "\n",
    "   In your case, the p-value is extremely small, far less than 0.05, which indicates very strong evidence against the null hypothesis. This means that the observed correlation between 'LotArea' and 'SalePrice' is statistically significant, and it's highly unlikely that this result is due to random chance.\n",
    "\n",
    "**Conclusion**: There is a statistically significant, though weak, positive linear relationship between 'LotArea' and 'SalePrice' in your dataset.\n",
    "\n",
    "**However, remember that correlation does not imply causation.**"
   ]
  },
  {
   "cell_type": "markdown",
   "id": "df0b0789-c1c7-48f7-be3e-8e1ec04298a2",
   "metadata": {
    "id": "df0b0789-c1c7-48f7-be3e-8e1ec04298a2"
   },
   "source": [
    "# Normal Distribution\n",
    "Many statistical techniques assume that data is normally distributed. Checking for normality and applying necessary transformations to make data more \"normal\" can be crucial for the success of these techniques.\n",
    "Applications of Normality Tests (or other ways of checking for normality):\n",
    "\n",
    "1. **Assumption Testing**: Normality tests are employed to **assess the assumption of normality in various statistical techniques, such as t-tests, analysis of variance (ANOVA), linear regression, and others**. Violations of normality assumptions may require alternative approaches or data transformations.\n",
    "\n",
    "2. **Data Exploration**: Normality tests help analysts understand the distributional properties of the data they are working with. This information can **guide the selection of appropriate statistical methods and provide insights into the nature of the variables**.\n",
    "\n",
    "We'll be using the housing price datasets. Let's check the normality of the 'SalePrice',  'LotArea' and '1stFlrSF' columns and try a transformation if needed."
   ]
  },
  {
   "cell_type": "code",
   "execution_count": null,
   "id": "b41af2b6-a163-43ce-b4bc-655f7241797b",
   "metadata": {
    "executionInfo": {
     "elapsed": 597,
     "status": "ok",
     "timestamp": 1711100819692,
     "user": {
      "displayName": "Ignacio Soteras",
      "userId": "02050793736257155229"
     },
     "user_tz": -60
    },
    "id": "b41af2b6-a163-43ce-b4bc-655f7241797b"
   },
   "outputs": [],
   "source": [
    "import matplotlib.pyplot as plt\n",
    "import seaborn as sns\n",
    "import numpy as np\n",
    "\n",
    "%matplotlib inline"
   ]
  },
  {
   "cell_type": "markdown",
   "id": "f47243c6-c6b1-4b16-91a2-4224c9ccf78c",
   "metadata": {
    "id": "f47243c6-c6b1-4b16-91a2-4224c9ccf78c"
   },
   "source": [
    "## Checking if data is normally distributed\n",
    "Checking for normality can be done both visually (using histograms and Q-Q plots) and statistically using tests like the Kolmogorov-Smirnov (K-S) test, Shapiro-Wilk test, among others.\n",
    "\n",
    "**Visual Inspection:**\n",
    "- **Histogram**: A bell-shaped curve in a histogram is indicative of a normal distribution.\n",
    "- **Q-Q Plot**: In this plot, the quantiles of your data are plotted against the quantiles of a normal distribution. If the data is normally distributed, the points should roughly lie on the y=x line.\n",
    "- **Box Plots**: The symmetry of a box plot can give hints about data normality.\n",
    "\n",
    "**Statistical Tests:**\n",
    "\n",
    "- **Shapiro-Wilk Test**: This is a popular test for normality.\n",
    "A low p-value (typically p<0.05) indicates that the data is not normally distributed.\n",
    "- **Kolmogorov-Smirnov Test**: This test compares the cumulative distribution of your data to a normal distribution. Again, a low p-value suggests non-normality.\n",
    "\n",
    "**Descriptive Statistics:**\n",
    "- **Skewness and Kurtosis**: Skewness measures the asymmetry of the data distribution, while kurtosis measures the \"tailedness\". For a normal distribution, skewness should be close to 0 (indicating symmetry), and kurtosis should be close to 3. Should be used in conjunction with other methods.\n",
    "\n",
    "### Histogram and Q-Q plot\n",
    "\n",
    "We'll visualize the distribution using a histogram and also use a Q-Q plot, which plots the quantiles of our data against the quantiles of a normal distribution."
   ]
  },
  {
   "cell_type": "markdown",
   "id": "f4a4b83d-191f-424f-a953-598f30d6f01d",
   "metadata": {
    "id": "f4a4b83d-191f-424f-a953-598f30d6f01d"
   },
   "source": [
    "#### SalePrice"
   ]
  },
  {
   "cell_type": "code",
   "execution_count": null,
   "id": "d1f4afe6-bab5-4368-a954-e7a30f3185e7",
   "metadata": {
    "colab": {
     "base_uri": "https://localhost:8080/",
     "height": 449
    },
    "executionInfo": {
     "elapsed": 1107,
     "status": "ok",
     "timestamp": 1711101229483,
     "user": {
      "displayName": "Ignacio Soteras",
      "userId": "02050793736257155229"
     },
     "user_tz": -60
    },
    "id": "d1f4afe6-bab5-4368-a954-e7a30f3185e7",
    "outputId": "d228e70f-411a-4a2f-968f-b2b833ec7703"
   },
   "outputs": [],
   "source": [
    "# Plotting histogram for 'SalePrice'\n",
    "sns.histplot(df['SalePrice'], kde=True, bins=30, color=\"salmon\");"
   ]
  },
  {
   "cell_type": "code",
   "execution_count": null,
   "id": "4af1e31f-f1ea-4cb6-8c65-45d734e03cb4",
   "metadata": {
    "colab": {
     "base_uri": "https://localhost:8080/",
     "height": 472
    },
    "executionInfo": {
     "elapsed": 1152,
     "status": "ok",
     "timestamp": 1711101275180,
     "user": {
      "displayName": "Ignacio Soteras",
      "userId": "02050793736257155229"
     },
     "user_tz": -60
    },
    "id": "4af1e31f-f1ea-4cb6-8c65-45d734e03cb4",
    "outputId": "6b0058d5-21c4-4adc-c762-9970df7d7e0d"
   },
   "outputs": [],
   "source": [
    "# Q-Q plot for 'SalePrice'\n",
    "from scipy import stats\n",
    "\n",
    "stats.probplot(df['SalePrice'], plot=plt)\n",
    "plt.show()"
   ]
  },
  {
   "cell_type": "markdown",
   "id": "89bcae18-d5b5-411a-a786-132b9a38e79e",
   "metadata": {
    "id": "89bcae18-d5b5-411a-a786-132b9a38e79e"
   },
   "source": [
    "#### LotArea"
   ]
  },
  {
   "cell_type": "code",
   "execution_count": null,
   "id": "1e6d556f-9bff-4be1-be37-57168e55ade6",
   "metadata": {
    "colab": {
     "base_uri": "https://localhost:8080/",
     "height": 449
    },
    "executionInfo": {
     "elapsed": 918,
     "status": "ok",
     "timestamp": 1711101511497,
     "user": {
      "displayName": "Ignacio Soteras",
      "userId": "02050793736257155229"
     },
     "user_tz": -60
    },
    "id": "1e6d556f-9bff-4be1-be37-57168e55ade6",
    "outputId": "f45d2ec6-e5d0-484d-828c-5bdaf26402c2"
   },
   "outputs": [],
   "source": [
    "# Plotting histogram for 'LotArea'\n",
    "sns.histplot(df['LotArea'], kde=True, bins=30, color=\"salmon\");"
   ]
  },
  {
   "cell_type": "code",
   "execution_count": null,
   "id": "e1c422cd-8805-46b4-9883-f4a31ac5332b",
   "metadata": {
    "colab": {
     "base_uri": "https://localhost:8080/",
     "height": 541
    },
    "executionInfo": {
     "elapsed": 904,
     "status": "ok",
     "timestamp": 1711101528143,
     "user": {
      "displayName": "Ignacio Soteras",
      "userId": "02050793736257155229"
     },
     "user_tz": -60
    },
    "id": "e1c422cd-8805-46b4-9883-f4a31ac5332b",
    "outputId": "02872d05-6311-4464-cd8f-ba45b73e4479"
   },
   "outputs": [],
   "source": [
    "# Q-Q plot for 'LotArea'\n",
    "from scipy import stats\n",
    "\n",
    "stats.probplot(df['LotArea'], plot=plt)"
   ]
  },
  {
   "cell_type": "markdown",
   "id": "59f6bd88-d01e-4c49-98d0-4c84bc3ac5f8",
   "metadata": {
    "id": "59f6bd88-d01e-4c49-98d0-4c84bc3ac5f8"
   },
   "source": [
    "#### 1stFlrSF"
   ]
  },
  {
   "cell_type": "code",
   "execution_count": null,
   "id": "eacffb8c-ba82-4e2c-a00d-7864640f39f9",
   "metadata": {
    "colab": {
     "base_uri": "https://localhost:8080/",
     "height": 449
    },
    "executionInfo": {
     "elapsed": 929,
     "status": "ok",
     "timestamp": 1711101610094,
     "user": {
      "displayName": "Ignacio Soteras",
      "userId": "02050793736257155229"
     },
     "user_tz": -60
    },
    "id": "eacffb8c-ba82-4e2c-a00d-7864640f39f9",
    "outputId": "cee89b6a-485c-47a3-abe8-fb28f994be09"
   },
   "outputs": [],
   "source": [
    "# Plotting histogram for '1stFlrSF'\n",
    "sns.histplot(df['1stFlrSF'], kde=True, bins=30, color=\"salmon\");"
   ]
  },
  {
   "cell_type": "code",
   "execution_count": null,
   "id": "6af64876-14b3-4ce6-964f-0e2c02356441",
   "metadata": {
    "colab": {
     "base_uri": "https://localhost:8080/",
     "height": 541
    },
    "executionInfo": {
     "elapsed": 794,
     "status": "ok",
     "timestamp": 1711101637238,
     "user": {
      "displayName": "Ignacio Soteras",
      "userId": "02050793736257155229"
     },
     "user_tz": -60
    },
    "id": "6af64876-14b3-4ce6-964f-0e2c02356441",
    "outputId": "d1986f71-48ce-45c9-e532-691dd43ff30f"
   },
   "outputs": [],
   "source": [
    "# Q-Q plot for 'SalePrice'\n",
    "\n",
    "stats.probplot(df['1stFlrSF'], plot=plt)"
   ]
  },
  {
   "cell_type": "markdown",
   "id": "963bc0b8-9be5-46c6-9faa-02dcd804856f",
   "metadata": {
    "id": "963bc0b8-9be5-46c6-9faa-02dcd804856f"
   },
   "source": [
    "### Hypothesis Testing\n",
    "Perform hypothesis tests on variables like 'SalePrice', 'LotArea' and '1stFlrSF' to explore their distribution.\n",
    "#### Kolmogorov-Smirnov (K-S) Test:\n",
    "The K-S test is a non-parametric test that compares the cumulative distribution function of the sample data to that of a specified theoretical distribution (like the normal distribution). The null hypothesis of the test is that the sample data follows the specified distribution.\n",
    "\n",
    "By conducting the Kolmogorov-Smirnov test, we can gain insights into the distributional properties of the variable and determine if it follows a normal distribution or not."
   ]
  },
  {
   "cell_type": "markdown",
   "id": "02e687e9-2eb9-4218-8a92-d6e83e167128",
   "metadata": {
    "id": "02e687e9-2eb9-4218-8a92-d6e83e167128"
   },
   "source": [
    "##### SalePrice"
   ]
  },
  {
   "cell_type": "code",
   "execution_count": null,
   "id": "9f5d4bc3-2f83-4481-ae6c-e6a2745c42d8",
   "metadata": {
    "colab": {
     "base_uri": "https://localhost:8080/"
    },
    "executionInfo": {
     "elapsed": 271,
     "status": "ok",
     "timestamp": 1711102131760,
     "user": {
      "displayName": "Ignacio Soteras",
      "userId": "02050793736257155229"
     },
     "user_tz": -60
    },
    "id": "9f5d4bc3-2f83-4481-ae6c-e6a2745c42d8",
    "outputId": "2f64edb7-7bcf-4a09-d2b9-5f278a1cdb6e"
   },
   "outputs": [],
   "source": [
    "# Conducting the Kolmogorov-Smirnov test for normality on 'SalePrice'\n",
    "# First, we need to standardize the data to have mean 0 and variance 1 since we're comparing against a standard normal distribution\n",
    "standardized_saleprice = (df['SalePrice'] - df['SalePrice'].mean()) / df['SalePrice'].std(ddof=1)\n",
    "ks_test_statistic, ks_p_value = stats.kstest(standardized_saleprice, 'norm', args=(0, 1))\n",
    "\n",
    "ks_test_statistic, ks_p_value"
   ]
  },
  {
   "cell_type": "code",
   "execution_count": null,
   "id": "5a0dc1f5-a85b-4007-b23b-2aff1f531e4f",
   "metadata": {
    "colab": {
     "base_uri": "https://localhost:8080/"
    },
    "executionInfo": {
     "elapsed": 247,
     "status": "ok",
     "timestamp": 1711102147729,
     "user": {
      "displayName": "Ignacio Soteras",
      "userId": "02050793736257155229"
     },
     "user_tz": -60
    },
    "id": "5a0dc1f5-a85b-4007-b23b-2aff1f531e4f",
    "outputId": "a77faafa-791a-4887-e569-0b85dcaf9f9b"
   },
   "outputs": [],
   "source": [
    "# print the test result\n",
    "if ks_p_value < 0.05:\n",
    "    print('The test results indicate that the distribution of prices is significantly different from a normal distribution.')\n",
    "else:\n",
    "    print('The test results indicate that the distribution of prices is not significantly different from a normal distribution.')"
   ]
  },
  {
   "cell_type": "markdown",
   "id": "ccfa5a8d-e91f-4655-8832-7585f6e0ebc2",
   "metadata": {
    "id": "ccfa5a8d-e91f-4655-8832-7585f6e0ebc2"
   },
   "source": [
    "Interpretation:\n",
    "\n",
    "The null hypothesis of the K-S test is that the data follows a specified distribution (in this case, the standard normal distribution). \n",
    "\n",
    "The obtained p-value is much smaller than typical significance levels (e.g., 0.05). \n",
    "\n",
    "Thus, based on the K-S test, we reject the null hypothesis and infer that the 'SalePrice' data does not follow a normal distribution."
   ]
  },
  {
   "cell_type": "markdown",
   "id": "26f50edb-4cc2-4496-b178-bdc578fcf7c4",
   "metadata": {
    "id": "26f50edb-4cc2-4496-b178-bdc578fcf7c4"
   },
   "source": [
    "##### LotArea"
   ]
  },
  {
   "cell_type": "code",
   "execution_count": null,
   "id": "d29ca38d-7bf2-4c54-bca8-393a033dff25",
   "metadata": {
    "colab": {
     "base_uri": "https://localhost:8080/"
    },
    "executionInfo": {
     "elapsed": 250,
     "status": "ok",
     "timestamp": 1711102451996,
     "user": {
      "displayName": "Ignacio Soteras",
      "userId": "02050793736257155229"
     },
     "user_tz": -60
    },
    "id": "d29ca38d-7bf2-4c54-bca8-393a033dff25",
    "outputId": "02c631ea-021d-4aa0-d459-178949fb3e08"
   },
   "outputs": [],
   "source": [
    "# Conducting the Kolmogorov-Smirnov test for normality on 'LotArea'\n",
    "standardized_LotArea = (df['LotArea'] - df['LotArea'].mean()) / df['LotArea'].std(ddof=1)\n",
    "ks_test_statistic, ks_p_value = stats.kstest(standardized_LotArea, 'norm')\n",
    "\n",
    "print(f\"The value of the statistic is {ks_test_statistic: .2f}, and the p_value is {ks_p_value: .2f}\")\n",
    "\n",
    "# print the test result\n",
    "if ks_p_value < 0.05:\n",
    "    print('The test results indicate that the distribution of LotArea is significantly different from a normal distribution.')\n",
    "else:\n",
    "    print('The test results indicate that the distribution of LotArea is not significantly different from a normal distribution.')"
   ]
  },
  {
   "cell_type": "markdown",
   "id": "b9d6bcd7-5422-4801-8efd-73b2fa11edb5",
   "metadata": {
    "id": "b9d6bcd7-5422-4801-8efd-73b2fa11edb5"
   },
   "source": [
    "##### 1stFlrSF"
   ]
  },
  {
   "cell_type": "code",
   "execution_count": null,
   "id": "d1c100a5-4a55-47c5-bf62-6820e88967a2",
   "metadata": {
    "colab": {
     "base_uri": "https://localhost:8080/"
    },
    "executionInfo": {
     "elapsed": 309,
     "status": "ok",
     "timestamp": 1711041504270,
     "user": {
      "displayName": "Ignacio Soteras",
      "userId": "02050793736257155229"
     },
     "user_tz": -60
    },
    "id": "d1c100a5-4a55-47c5-bf62-6820e88967a2",
    "outputId": "eeb12a57-a194-45ff-d2d3-f889143662a3"
   },
   "outputs": [],
   "source": [
    "# Conducting the Kolmogorov-Smirnov test for normality on '1stFlrSF'\n",
    "standardized_1stFlrSF = (df['1stFlrSF'] - df['1stFlrSF'].mean()) / df['1stFlrSF'].std(ddof=1)\n",
    "ks_test_statistic, ks_p_value = stats.kstest(standardized_1stFlrSF, 'norm')\n",
    "\n",
    "print(f\"The value of the statistic is {ks_test_statistic: .2f}, and the p_value is {ks_p_value: .2f}\")\n",
    "\n",
    "# print the test result\n",
    "if ks_p_value < 0.05:\n",
    "    print('The test results indicate that the distribution of 1stFlrSF is significantly different from a normal distribution.')\n",
    "else:\n",
    "    print('The test results indicate that the distribution of 1stFlrSF is not significantly different from a normal distribution.')"
   ]
  },
  {
   "cell_type": "markdown",
   "id": "d506680a-e4cc-43ff-9b5e-eea33148a370",
   "metadata": {
    "id": "d506680a-e4cc-43ff-9b5e-eea33148a370"
   },
   "source": [
    "#### Shapiro-Wilk Test\n",
    "\n",
    "The Shapiro-Wilk test is another popular method to check for normality. Its null hypothesis is that the data follows a normal distribution. The Shapiro-Wilk test is known to be more appropriate for smaller sample sizes compared to the K-S test.\n",
    "\n",
    "We only need to perform one test, but we will show how the Shapiro-Wilk Test works anyways with SalePrice."
   ]
  },
  {
   "cell_type": "code",
   "execution_count": null,
   "id": "68746701-337b-41f1-99ef-6ac762f8550b",
   "metadata": {
    "colab": {
     "base_uri": "https://localhost:8080/"
    },
    "executionInfo": {
     "elapsed": 205,
     "status": "ok",
     "timestamp": 1711102533487,
     "user": {
      "displayName": "Ignacio Soteras",
      "userId": "02050793736257155229"
     },
     "user_tz": -60
    },
    "id": "68746701-337b-41f1-99ef-6ac762f8550b",
    "outputId": "4ee9921a-21c1-4804-83ba-c6210802121a"
   },
   "outputs": [],
   "source": [
    "# Conducting the Shapiro-Wilk test for normality on 'SalePrice'\n",
    "shapiro_test_statistic, shapiro_p_value = stats.shapiro(df['SalePrice'])\n",
    "\n",
    "shapiro_test_statistic, shapiro_p_value"
   ]
  },
  {
   "cell_type": "code",
   "execution_count": null,
   "id": "abd387ec-c926-4145-9aee-3b142f48ae2f",
   "metadata": {
    "colab": {
     "base_uri": "https://localhost:8080/"
    },
    "executionInfo": {
     "elapsed": 384,
     "status": "ok",
     "timestamp": 1711102545009,
     "user": {
      "displayName": "Ignacio Soteras",
      "userId": "02050793736257155229"
     },
     "user_tz": -60
    },
    "id": "abd387ec-c926-4145-9aee-3b142f48ae2f",
    "outputId": "47cd72ab-be08-4e0d-fa28-7b7522470fa3"
   },
   "outputs": [],
   "source": [
    "# print the test result\n",
    "if shapiro_p_value < 0.05:\n",
    "    print('The test results indicate that the distribution of prices is significantly different from a normal distribution.')\n",
    "else:\n",
    "    print('The test results indicate that the distribution of prices is not significantly different from a normal distribution.')"
   ]
  },
  {
   "cell_type": "markdown",
   "id": "f03d4fe6-def4-4276-91c4-caa92f3ff3fe",
   "metadata": {
    "id": "f03d4fe6-def4-4276-91c4-caa92f3ff3fe"
   },
   "source": [
    "Interpretation:\n",
    "The null hypothesis of the Shapiro-Wilk test is that the data follows a normal distribution. Here, the p-value is much smaller than a typical significance level (e.g., 0.05). Therefore, we reject the null hypothesis and conclude that the 'SalePrice' data does not follow a normal distribution.\n",
    "\n",
    "In cases where normality is an assumption for further analysis, transformations or other techniques might be necessary to make the data more \"normal\".\n",
    "\n",
    "Both the Shapiro-Wilk and K-S tests yielded similar conclusions regarding the non-normality of the 'SalePrice' data. In practice, it's beneficial to consider both visual (plots) and statistical (tests) methods to check for normality. If discrepancies arise between different methods, further investigations and considerations might be necessary."
   ]
  },
  {
   "cell_type": "markdown",
   "id": "e182cb4b-623d-406c-80e6-494e11a964da",
   "metadata": {
    "id": "e182cb4b-623d-406c-80e6-494e11a964da"
   },
   "source": [
    "## Transforming Data to Be Normally Distributed\n",
    "Transforming data to be approximately normal can aid in statistical analysis and modeling. There are several data transformations that we can try. The best one, leading to a normal distribution, depends on the original data.\n",
    "\n",
    "**Log Transformation:**\n",
    "- Useful for data that shows exponential growth, like population or financial data.\n",
    "- Use when data is right-skewed.\n",
    "\n",
    "**Square Root Transformation:**\n",
    "- Moderates the impact of extreme values.\n",
    "- Suitable for data with mild skewness.\n",
    "\n",
    "**Box-Cox Transformation:**\n",
    "- Requires positive data values.\n",
    "- Automatically determines the best power transformation.\n",
    "\n",
    "**Yeoh-Johnson Transformation**\n",
    "- Can handle negative values\n",
    "- Automatically determines the best power transformation.\n"
   ]
  },
  {
   "cell_type": "markdown",
   "id": "deddd6b6-aaa9-411c-bee4-c03c28fc150b",
   "metadata": {
    "id": "deddd6b6-aaa9-411c-bee4-c03c28fc150b"
   },
   "source": [
    "#### Logaritmic Transformation\n",
    "If the 'SalePrice' distribution seems non-normal, a common technique is to apply a logarithmic transformation to the data to make it more normal."
   ]
  },
  {
   "cell_type": "code",
   "execution_count": null,
   "id": "f3b6854e-20f0-42fd-92aa-f5c23352c08f",
   "metadata": {
    "colab": {
     "base_uri": "https://localhost:8080/",
     "height": 449
    },
    "executionInfo": {
     "elapsed": 777,
     "status": "ok",
     "timestamp": 1711102957126,
     "user": {
      "displayName": "Ignacio Soteras",
      "userId": "02050793736257155229"
     },
     "user_tz": -60
    },
    "id": "f3b6854e-20f0-42fd-92aa-f5c23352c08f",
    "outputId": "b5dddcf8-1297-454f-edd5-d12961626b04"
   },
   "outputs": [],
   "source": [
    "# Applying log transformation to 'SalePrice' and standardizing it\n",
    "log_transformed_saleprice = np.log1p(df['SalePrice']) # log1p(x) = ln(1 + x); np.log() = ln()\n",
    "standardized_log_saleprice = (log_transformed_saleprice - log_transformed_saleprice.mean()) / log_transformed_saleprice.std(ddof=1)\n",
    "\n",
    "# Plotting histogram for transformed 'SalePrice'\n",
    "sns.histplot(standardized_log_saleprice, kde=True, bins=50, color=\"skyblue\");"
   ]
  },
  {
   "cell_type": "markdown",
   "id": "b21d5b02-d98c-4402-961e-e57d00fa9260",
   "metadata": {
    "id": "b21d5b02-d98c-4402-961e-e57d00fa9260"
   },
   "source": [
    "#### Square Root Transformation\n",
    "'1stFlrSF' could be a candidate for the Square Root transformation given its mild to moderate skewness."
   ]
  },
  {
   "cell_type": "code",
   "execution_count": null,
   "id": "efa0812a-eae4-4b5f-8272-65fb6f95f513",
   "metadata": {
    "colab": {
     "base_uri": "https://localhost:8080/",
     "height": 504
    },
    "executionInfo": {
     "elapsed": 771,
     "status": "ok",
     "timestamp": 1711103463668,
     "user": {
      "displayName": "Ignacio Soteras",
      "userId": "02050793736257155229"
     },
     "user_tz": -60
    },
    "id": "efa0812a-eae4-4b5f-8272-65fb6f95f513",
    "outputId": "c5f506c7-8738-4aa0-fe09-ae318e65ed85"
   },
   "outputs": [],
   "source": [
    "# Applying Square Root transformation to '1stFlrSF'\n",
    "df['1stFlrSF_Sqrt'] = np.sqrt(df['1stFlrSF'])\n",
    "\n",
    "# Plotting the transformed distributions\n",
    "plt.figure(figsize=(10,5))\n",
    "\n",
    "# Square Root transformed '1stFlrSF'\n",
    "sns.histplot(df['1stFlrSF_Sqrt'], kde=True)\n",
    "plt.title('Square Root Transformed 1stFlrSF')"
   ]
  },
  {
   "cell_type": "markdown",
   "id": "5bab69ec-6d0f-4da3-a717-984c72921f7d",
   "metadata": {
    "id": "5bab69ec-6d0f-4da3-a717-984c72921f7d"
   },
   "source": [
    "The Square Root transformed '1stFlrSF' appears more normally distributed, but is still right skewed."
   ]
  },
  {
   "cell_type": "markdown",
   "id": "79cf0006-4a36-46ed-aefa-8e5f88501a9b",
   "metadata": {
    "id": "79cf0006-4a36-46ed-aefa-8e5f88501a9b"
   },
   "source": [
    "#### Box-Cox Transformation\n",
    "'LotArea' seems like a good candidate for the Box-Cox transformation due to its high skewness and positive values."
   ]
  },
  {
   "cell_type": "code",
   "execution_count": null,
   "id": "aViLwM4slHjw",
   "metadata": {
    "colab": {
     "base_uri": "https://localhost:8080/",
     "height": 504
    },
    "executionInfo": {
     "elapsed": 804,
     "status": "ok",
     "timestamp": 1711103509029,
     "user": {
      "displayName": "Ignacio Soteras",
      "userId": "02050793736257155229"
     },
     "user_tz": -60
    },
    "id": "aViLwM4slHjw",
    "outputId": "0187a3bd-a399-484b-e6b4-74f2176b2929"
   },
   "outputs": [],
   "source": [
    "# Applying the Box-Cox transformation to 'LotArea'\n",
    "df['LotArea_boxcox'], _ = st.boxcox(df['LotArea'])\n",
    "\n",
    "# Plotting the transformed distributions\n",
    "plt.figure(figsize=(10,5))\n",
    "\n",
    "# Square Root transformed '1stFlrSF'\n",
    "sns.histplot(df['LotArea_boxcox'], kde=True)\n",
    "plt.title('Box-Cox Transformed LotArea')"
   ]
  },
  {
   "cell_type": "markdown",
   "id": "KQHToqRmmT4G",
   "metadata": {
    "id": "KQHToqRmmT4G"
   },
   "source": [
    "#### Yeoh-Johnson Transformation\n",
    "\n"
   ]
  },
  {
   "cell_type": "code",
   "execution_count": null,
   "id": "Pc4_CYpKmbWG",
   "metadata": {
    "colab": {
     "base_uri": "https://localhost:8080/",
     "height": 504
    },
    "executionInfo": {
     "elapsed": 1074,
     "status": "ok",
     "timestamp": 1711103546910,
     "user": {
      "displayName": "Ignacio Soteras",
      "userId": "02050793736257155229"
     },
     "user_tz": -60
    },
    "id": "Pc4_CYpKmbWG",
    "outputId": "240df448-484f-4c9e-9d96-5f930e62b749"
   },
   "outputs": [],
   "source": [
    "# Applying the Yeoh-Johnson transformation to 'LotArea'\n",
    "df['LotArea_Yeoh_Johnson'], _ = stats.yeojohnson(df['LotArea'])\n",
    "\n",
    "# Plotting the transformed distributions\n",
    "plt.figure(figsize=(10,5))\n",
    "\n",
    "# Square Root transformed '1stFlrSF'\n",
    "sns.histplot(df['LotArea_Yeoh_Johnson'], kde=True)\n",
    "plt.title('Yeoh-Johnson Transformed LotArea')"
   ]
  },
  {
   "cell_type": "markdown",
   "id": "AjPlYiC0nAps",
   "metadata": {
    "id": "AjPlYiC0nAps"
   },
   "source": [
    "Here, we can't see a significant difference between the Yeoh-Johnson and the Box-Cox. Why? Because the Box-Cox, and Yeoh-Johnson transformations are the same when all the values to be transformed are positive."
   ]
  },
  {
   "cell_type": "markdown",
   "id": "7d4f0dd3-d2f5-4130-84a2-84e20518a45c",
   "metadata": {
    "id": "7d4f0dd3-d2f5-4130-84a2-84e20518a45c"
   },
   "source": [
    "## After Transformation\n",
    "- **Re-assess Distribution:** After applying a transformation, visually assess the distribution again using histograms and Q-Q plots.\n",
    "- **Statistical Testing:** Shapiro-Wilk or Kolmogorov-Smirnov tests can be used to statistically assess normality.\n",
    "Remember to reverse transformations (when needed) for interpretation.\n",
    "\n",
    "Always consider the underlying reasons for any non-normality, as transformations might not always be the best solution.\n",
    "\n",
    "Let's do it just for SalePrice."
   ]
  },
  {
   "cell_type": "code",
   "execution_count": null,
   "id": "46441ddd-cd90-4be4-8e61-ed803a669554",
   "metadata": {
    "colab": {
     "base_uri": "https://localhost:8080/",
     "height": 472
    },
    "executionInfo": {
     "elapsed": 667,
     "status": "ok",
     "timestamp": 1711104420116,
     "user": {
      "displayName": "Ignacio Soteras",
      "userId": "02050793736257155229"
     },
     "user_tz": -60
    },
    "id": "46441ddd-cd90-4be4-8e61-ed803a669554",
    "outputId": "ec0695de-8d1b-43c7-85f2-a6733cf2b6c9"
   },
   "outputs": [],
   "source": [
    "# Q-Q plot for transformed 'SalePrice'\n",
    "stats.probplot(standardized_log_saleprice, plot=plt);"
   ]
  },
  {
   "cell_type": "markdown",
   "id": "b6bb33b7-12d9-4df0-a498-bc940a34ae32",
   "metadata": {
    "id": "b6bb33b7-12d9-4df0-a498-bc940a34ae32"
   },
   "source": [
    "Let's also check with Kolmogorov-Smirnov (K-S) Test."
   ]
  },
  {
   "cell_type": "code",
   "execution_count": null,
   "id": "3cdfedd7-2204-4ec7-b499-fd0d98f5b8b9",
   "metadata": {
    "colab": {
     "base_uri": "https://localhost:8080/"
    },
    "executionInfo": {
     "elapsed": 5,
     "status": "ok",
     "timestamp": 1711104467903,
     "user": {
      "displayName": "Ignacio Soteras",
      "userId": "02050793736257155229"
     },
     "user_tz": -60
    },
    "id": "3cdfedd7-2204-4ec7-b499-fd0d98f5b8b9",
    "outputId": "52bf656c-ac44-40d1-ea68-53024d1f6181"
   },
   "outputs": [],
   "source": [
    "# Conducting the Kolmogorov-Smirnov test on the log-transformed and standardized 'SalePrice'\n",
    "ks_test_statistic_after_transformation, ks_p_value_after_transformation = stats.kstest(standardized_log_saleprice, 'norm')\n",
    "\n",
    "ks_test_statistic_after_transformation, ks_p_value_after_transformation\n",
    "\n",
    "# ks_p_value_after_transformation < 0.05. The test results indicate that the distribution of prices is significantly different from a normal distribution."
   ]
  },
  {
   "cell_type": "markdown",
   "id": "e6087896-5019-4bc8-88f1-dad547b9a75f",
   "metadata": {
    "id": "e6087896-5019-4bc8-88f1-dad547b9a75f"
   },
   "source": [
    "### Insights\n",
    "The initial histograms and Q-Q plots can help assess the skewness and kurtosis of the 'SalePrice' distribution. If the data is not following the line in the Q-Q plot well, it indicates deviations from normality. After the logarithmic transformation, the histogram and Q-Q plot should ideally show a distribution closer to normal. If the transformed data lies closer to the line in the Q-Q plot, it suggests that the log transformation was successful in making the data more normally distributed.\n",
    "\n",
    "After applying the logarithmic transformation to the 'SalePrice' data and subsequently standardizing it, we conducted the K-S test again. The p-value is 0.0147, which is still less than a typical significance level (e.g., 0.05). Therefore, we would reject the null hypothesis of the K-S test, which suggests that the log-transformed 'SalePrice' data does not perfectly follow a standard normal distribution.\n",
    "\n",
    "However, it's important to note that the p-value after transformation is notably larger than before the transformation, implying that the log transformation brought the distribution closer to normality. Furthermore, in practical applications, achieving a \"perfectly normal\" distribution isn't always necessary. The goal is often to get \"close enough\" to normality to meet the assumptions of specific statistical methods.\n",
    "\n",
    "Given this result, one might deem the log transformation as beneficial and sufficient for many analytical methods that assume normality."
   ]
  },
  {
   "cell_type": "markdown",
   "id": "71ca614f-799f-46d6-9dba-631bd84b679d",
   "metadata": {
    "id": "71ca614f-799f-46d6-9dba-631bd84b679d"
   },
   "source": [
    "## 💡 Check for understanding\n",
    "- Do the after transformation checks for `LotArea` and `1stFlrSF`\n",
    "- Choose another numerical continuous variable from the dataset and check if it's normally distributed. If it's not, try transforming it so it becomes normally distributed, and check for normality again. Explain why you chose that variable and your results."
   ]
  },
  {
   "cell_type": "code",
   "execution_count": null,
   "id": "MHKhVO4C29dC",
   "metadata": {
    "colab": {
     "base_uri": "https://localhost:8080/"
    },
    "executionInfo": {
     "elapsed": 238,
     "status": "ok",
     "timestamp": 1711106032708,
     "user": {
      "displayName": "Ignacio Soteras",
      "userId": "02050793736257155229"
     },
     "user_tz": -60
    },
    "id": "MHKhVO4C29dC",
    "outputId": "95bc71f7-cf94-462a-f7eb-db67cb9ed005"
   },
   "outputs": [],
   "source": [
    "lotarea_boxcox = (df['LotArea_boxcox'] - df['LotArea_boxcox'].mean()) / df['LotArea_boxcox'].std(ddof=1)\n",
    "\n",
    "ks_test_statistic_after_transformation, ks_p_value_after_transformation = stats.kstest(lotarea_boxcox, 'norm')\n",
    "\n",
    "ks_test_statistic_after_transformation, ks_p_value_after_transformation"
   ]
  },
  {
   "cell_type": "code",
   "execution_count": null,
   "id": "SPMEKQXx3m_m",
   "metadata": {
    "colab": {
     "base_uri": "https://localhost:8080/"
    },
    "executionInfo": {
     "elapsed": 230,
     "status": "ok",
     "timestamp": 1711106160998,
     "user": {
      "displayName": "Ignacio Soteras",
      "userId": "02050793736257155229"
     },
     "user_tz": -60
    },
    "id": "SPMEKQXx3m_m",
    "outputId": "57fa2472-012a-46f8-ec83-4b2730b40d80"
   },
   "outputs": [],
   "source": [
    "df['1stFlrSF_boxcox'], _ = st.boxcox(df['1stFlrSF'])\n",
    "\n",
    "firstfloor_boxcox = (df['1stFlrSF_boxcox'] - df['1stFlrSF_boxcox'].mean()) / df['1stFlrSF_boxcox'].std(ddof=1)\n",
    "\n",
    "ks_test_statistic_after_transformation, ks_p_value_after_transformation = stats.kstest(firstfloor_boxcox, 'norm')\n",
    "\n",
    "ks_test_statistic_after_transformation, ks_p_value_after_transformation"
   ]
  },
  {
   "cell_type": "markdown",
   "id": "de72b014-82d5-49c7-8509-a7ad231c0829",
   "metadata": {
    "id": "de72b014-82d5-49c7-8509-a7ad231c0829"
   },
   "source": [
    "## Note: Central Limit Theorem\n",
    "The CLT states that, regardless of the shape of the underlying population, the sampling distribution of the mean will approximate a normal distribution as the sample size grows larger (n > 30), assuming all samples are identical in size and are randomly sampled.\n",
    "\n",
    "1. **Large Sample Size & Individual Data Points**: Even with a large sample, the distribution of individual data points could still be non-normal. For instance, a dataset with millions of data points could still be heavily skewed or have extreme kurtosis.\n",
    "  \n",
    "2. **Large Sample Size & Averages of Samples**: If you're taking multiple samples from a population and calculating their averages, the distribution of those averages tends to be normal due to the CLT, even if the underlying population is not normal.\n",
    "\n",
    "3. **Practical Implications**: While the CLT is powerful, remember that many statistical tests and methods assume that the individual data points (not their means) are normally distributed. So, you can't bypass these assumptions simply because you have a large dataset."
   ]
  }
 ],
 "metadata": {
  "colab": {
   "provenance": []
  },
  "kernelspec": {
   "display_name": "base",
   "language": "python",
   "name": "python3"
  },
  "language_info": {
   "codemirror_mode": {
    "name": "ipython",
    "version": 3
   },
   "file_extension": ".py",
   "mimetype": "text/x-python",
   "name": "python",
   "nbconvert_exporter": "python",
   "pygments_lexer": "ipython3",
   "version": "3.11.8"
  }
 },
 "nbformat": 4,
 "nbformat_minor": 5
}
