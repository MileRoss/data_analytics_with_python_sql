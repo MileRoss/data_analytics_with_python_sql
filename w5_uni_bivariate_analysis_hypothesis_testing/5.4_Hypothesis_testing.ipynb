{
 "cells": [
  {
   "cell_type": "markdown",
   "metadata": {
    "id": "JnTD8xksFOHm"
   },
   "source": [
    "# CLT & Hypothesis Testing"
   ]
  },
  {
   "cell_type": "code",
   "execution_count": null,
   "metadata": {
    "executionInfo": {
     "elapsed": 3727,
     "status": "ok",
     "timestamp": 1711012708876,
     "user": {
      "displayName": "Ignacio Soteras",
      "userId": "02050793736257155229"
     },
     "user_tz": -60
    },
    "id": "X21A0REXFOHu"
   },
   "outputs": [],
   "source": [
    "#Libraries\n",
    "import pandas as pd\n",
    "import numpy as np\n",
    "import matplotlib.pyplot as plt\n",
    "import scipy.stats as stats"
   ]
  },
  {
   "cell_type": "markdown",
   "metadata": {
    "id": "xPmFTerzFOHw"
   },
   "source": [
    "**Central Limit Theorem**"
   ]
  },
  {
   "cell_type": "markdown",
   "metadata": {
    "id": "COAqPlSgFOHw"
   },
   "source": [
    "Central Limit Theorem claims that, no matter the shape of the population distribution, the mean of a large number of sample means will always be equal to the population mean.\n",
    "\n",
    "In other words, let's imagine that we collect lot of big enough samples $(n \\ge 30)$ and we compute the mean of each sample:\n",
    "\n",
    "$$sample_{1} =\\{x_{11}, x_{12},...,x_{1n}\\}\\\\\n",
    "sample_{2} =\\{x_{21}, x_{22},...,x_{2n}\\}\\\\\n",
    "sample_{3} =\\{x_{31}, x_{32},...,x_{3n}\\}\\\\\n",
    "...$$\n",
    "\n",
    "$$\\bar{x}_{1} = mean(sample_{1})\\\\\n",
    "\\bar{x}_{2} = mean(sample_{2})\\\\\n",
    "\\bar{x}_{3} = mean(sample_{3})\\\\\n",
    "...$$\n",
    "\n",
    "What the Central Limit Theorem tells us is that if we compute the mean of those means $\\bar{x_{i}}$, it will be equal to the population mean:\n",
    "\n",
    "$$\\bar{x} = mean(\\bar{x}_{1},\\bar{x}_{2},\\bar{x}_{3},...,\\bar{x}_{m}) = populationmean=\\mu$$"
   ]
  },
  {
   "cell_type": "markdown",
   "metadata": {
    "id": "bwqOUPTUFOHx"
   },
   "source": [
    "In order to demonstrate the workings of the Central Limit Theorem, let's first create a population dataset. This simulated population will serve as a basis for later comparison with sampling distributions, showcasing how CLT facilitates accurate inferences even when only samples, rather than the entire population, are analyzed."
   ]
  },
  {
   "cell_type": "code",
   "execution_count": null,
   "metadata": {
    "colab": {
     "base_uri": "https://localhost:8080/"
    },
    "executionInfo": {
     "elapsed": 253,
     "status": "ok",
     "timestamp": 1711014027890,
     "user": {
      "displayName": "Ignacio Soteras",
      "userId": "02050793736257155229"
     },
     "user_tz": -60
    },
    "id": "i0xBNnM9FOHx",
    "outputId": "cd8031f0-7de5-4f5c-b5e0-f4f2bf40d412"
   },
   "outputs": [],
   "source": [
    "#Let's create a POPULATION of heights\n",
    "\n",
    "np.random.seed(17)\n",
    "# We will select values from a uniform distribution ie: all the values have the same likehood to be selected.\n",
    "heights = np.random.uniform(low=155, high=200, size=100000)\n",
    "\n",
    "heights"
   ]
  },
  {
   "cell_type": "code",
   "execution_count": null,
   "metadata": {
    "colab": {
     "base_uri": "https://localhost:8080/",
     "height": 430
    },
    "executionInfo": {
     "elapsed": 708,
     "status": "ok",
     "timestamp": 1711014047259,
     "user": {
      "displayName": "Ignacio Soteras",
      "userId": "02050793736257155229"
     },
     "user_tz": -60
    },
    "id": "_zMjNwgcFOHy",
    "outputId": "5cecaff0-130d-4b48-e13f-1133915fb8b5"
   },
   "outputs": [],
   "source": [
    "plt.hist(heights)\n",
    "plt.show()"
   ]
  },
  {
   "cell_type": "code",
   "execution_count": null,
   "metadata": {
    "colab": {
     "base_uri": "https://localhost:8080/"
    },
    "executionInfo": {
     "elapsed": 261,
     "status": "ok",
     "timestamp": 1711014150110,
     "user": {
      "displayName": "Ignacio Soteras",
      "userId": "02050793736257155229"
     },
     "user_tz": -60
    },
    "id": "VmzMo-44FOH0",
    "outputId": "afcf3d87-4ca4-49ca-aa4a-3a59bf857a40"
   },
   "outputs": [],
   "source": [
    "print(f\"The population mean height is {heights.mean(): .2f}\")"
   ]
  },
  {
   "cell_type": "markdown",
   "metadata": {
    "id": "7ZbD3VNFFOH1"
   },
   "source": [
    "Now lets take some samples from the population"
   ]
  },
  {
   "cell_type": "code",
   "execution_count": null,
   "metadata": {
    "executionInfo": {
     "elapsed": 239,
     "status": "ok",
     "timestamp": 1711014477069,
     "user": {
      "displayName": "Ignacio Soteras",
      "userId": "02050793736257155229"
     },
     "user_tz": -60
    },
    "id": "EccdGHnrFOH1"
   },
   "outputs": [],
   "source": [
    "#collecting 100 samples of 100 observations each and get the mean of each sample\n",
    "number_of_samples = 100\n",
    "sample_size = 100\n",
    "heights_samples = [np.mean(np.random.choice(heights, sample_size))for k in range(number_of_samples)]"
   ]
  },
  {
   "cell_type": "markdown",
   "metadata": {
    "id": "T9A3Tp2iFOH1"
   },
   "source": [
    "Let's now plot the sampling distribution"
   ]
  },
  {
   "cell_type": "code",
   "execution_count": null,
   "metadata": {
    "colab": {
     "base_uri": "https://localhost:8080/",
     "height": 447
    },
    "executionInfo": {
     "elapsed": 926,
     "status": "ok",
     "timestamp": 1711014491355,
     "user": {
      "displayName": "Ignacio Soteras",
      "userId": "02050793736257155229"
     },
     "user_tz": -60
    },
    "id": "u4YBXu95FOH2",
    "outputId": "dc3e0098-11d1-49b4-a97b-b27e97349cca"
   },
   "outputs": [],
   "source": [
    "plt.hist(heights_samples)\n",
    "plt.show()\n",
    "print(f\"The mean of the sampling distribution is {np.mean(heights_samples): .2f}\")"
   ]
  },
  {
   "cell_type": "markdown",
   "metadata": {
    "id": "5vymiK2mFOH2"
   },
   "source": [
    "As shown in this example, irrespectively of the shape of the population distribution, **the mean of the sampling distribution is almost equal to the population mean** and follows a normal distribution.\n",
    "\n",
    "The standard deviation of the sampling distribution can also be manipulated (by increasing sample size) and we calculate it with the following expression:\n",
    "\n"
   ]
  },
  {
   "cell_type": "markdown",
   "metadata": {
    "id": "B0oUMUe6FOH2"
   },
   "source": [
    "$$\\sigma_{\\bar{x}}=\\frac{σ}{\\sqrt{n}}$$"
   ]
  },
  {
   "cell_type": "markdown",
   "metadata": {
    "id": "fQTKx-skFOH3"
   },
   "source": [
    "This formula implies that if we have a big sample size, the standard deviation of the sampling distribution will decrease. Let's observe it with some examples"
   ]
  },
  {
   "cell_type": "code",
   "execution_count": null,
   "metadata": {
    "colab": {
     "base_uri": "https://localhost:8080/",
     "height": 465
    },
    "executionInfo": {
     "elapsed": 664,
     "status": "ok",
     "timestamp": 1711015454207,
     "user": {
      "displayName": "Ignacio Soteras",
      "userId": "02050793736257155229"
     },
     "user_tz": -60
    },
    "id": "PXHg_6udFOH3",
    "outputId": "61af4cfb-1f72-449e-bcc6-f21da94ab2ee"
   },
   "outputs": [],
   "source": [
    "#Generate small samples\n",
    "heights_samples_10 = [np.mean(np.random.choice(heights, 10))for _ in range(100)]\n",
    "\n",
    "#Generate bigger samples\n",
    "heights_samples_100 = [np.mean(np.random.choice(heights, 100))for _ in range(100)]\n",
    "\n",
    "_, charts = plt.subplots(nrows = 1, ncols=2, sharex=True, sharey=True, figsize=(10,5))\n",
    "charts[0].set_title(\"Sampling Distribution with n=10\", fontsize=10)\n",
    "charts[0].hist(heights_samples_10)\n",
    "\n",
    "charts[1].set_title(\"Sampling Distribution with n=100\", fontsize=10)\n",
    "charts[1].hist(heights_samples_100)\n",
    "plt.show()"
   ]
  },
  {
   "cell_type": "markdown",
   "metadata": {
    "id": "srExEoKyFOH3"
   },
   "source": [
    "As shown in the sampling distributions plots above, larger samples sizes help us control **variation due to sample**."
   ]
  },
  {
   "cell_type": "markdown",
   "metadata": {
    "id": "873WmxgUFOH3"
   },
   "source": [
    "# Hypothesis Testing"
   ]
  },
  {
   "cell_type": "markdown",
   "metadata": {
    "id": "I7CJVS-iFOH4"
   },
   "source": [
    "### One Sample T-test"
   ]
  },
  {
   "cell_type": "code",
   "execution_count": null,
   "metadata": {
    "colab": {
     "base_uri": "https://localhost:8080/",
     "height": 241
    },
    "executionInfo": {
     "elapsed": 270,
     "status": "ok",
     "timestamp": 1711015581403,
     "user": {
      "displayName": "Ignacio Soteras",
      "userId": "02050793736257155229"
     },
     "user_tz": -60
    },
    "id": "g38v8VlwFOH4",
    "outputId": "8770e244-a8de-4b33-b3ba-8365fd7485da"
   },
   "outputs": [],
   "source": [
    "#Load the data\n",
    "\n",
    "df = pd.read_csv(\"https://raw.githubusercontent.com/data-bootcamp-v4/data/main/titanic_train.csv\")\n",
    "df.head()"
   ]
  },
  {
   "cell_type": "code",
   "execution_count": null,
   "metadata": {
    "colab": {
     "base_uri": "https://localhost:8080/"
    },
    "executionInfo": {
     "elapsed": 349,
     "status": "ok",
     "timestamp": 1711015590219,
     "user": {
      "displayName": "Ignacio Soteras",
      "userId": "02050793736257155229"
     },
     "user_tz": -60
    },
    "id": "M-hGlHSqFOH4",
    "outputId": "75452304-d9fc-4aa0-bed1-e5393ba49447"
   },
   "outputs": [],
   "source": [
    "df.shape"
   ]
  },
  {
   "cell_type": "markdown",
   "metadata": {
    "id": "2tbqo4-nFOH5"
   },
   "source": [
    "**Let's check if 1st class ticket prices, traditionally thought to be $65, actually align with historical data through statistical testing.**\n",
    "\n",
    "First we are breaking it down step by step"
   ]
  },
  {
   "cell_type": "markdown",
   "metadata": {
    "id": "fSRp7c-qFOH5"
   },
   "source": [
    "##### Set Hypothesis"
   ]
  },
  {
   "cell_type": "code",
   "execution_count": null,
   "metadata": {
    "executionInfo": {
     "elapsed": 271,
     "status": "ok",
     "timestamp": 1710954343403,
     "user": {
      "displayName": "Ignacio Soteras",
      "userId": "02050793736257155229"
     },
     "user_tz": -60
    },
    "id": "4v6nnkpjFOH5"
   },
   "outputs": [],
   "source": [
    "#Set the hypothesis\n",
    "\n",
    "#H0: mu 1st class_prices = 65\n",
    "#H1: mu 1st class_prices!= 65"
   ]
  },
  {
   "cell_type": "markdown",
   "metadata": {
    "id": "rgaSQud8etpA"
   },
   "source": [
    "$$H_{0}: \\mu_{firstclass} = 65\\\\\n",
    "H_{1/a}: \\mu_{firstclass} \\ne 65$$"
   ]
  },
  {
   "cell_type": "markdown",
   "metadata": {
    "id": "_bEVeRnKFOH5"
   },
   "source": [
    "##### Choose significance level\n",
    "\n",
    "The significance level is the **threshold** to compare our p_value against it. If our p_value < alpha, then we reject the H0, otherwise, we accept it.\n",
    "\n",
    "$$p-value = P(Data| H_{0}=True)$$"
   ]
  },
  {
   "cell_type": "code",
   "execution_count": null,
   "metadata": {
    "executionInfo": {
     "elapsed": 276,
     "status": "ok",
     "timestamp": 1711015749699,
     "user": {
      "displayName": "Ignacio Soteras",
      "userId": "02050793736257155229"
     },
     "user_tz": -60
    },
    "id": "jlOen5jcFOH6"
   },
   "outputs": [],
   "source": [
    "alpha = 0.05"
   ]
  },
  {
   "cell_type": "markdown",
   "metadata": {
    "id": "8-ICP5rSFOH6"
   },
   "source": [
    "##### Collect data"
   ]
  },
  {
   "cell_type": "code",
   "execution_count": null,
   "metadata": {
    "executionInfo": {
     "elapsed": 316,
     "status": "ok",
     "timestamp": 1711015933374,
     "user": {
      "displayName": "Ignacio Soteras",
      "userId": "02050793736257155229"
     },
     "user_tz": -60
    },
    "id": "xD0l8K2hFOH6"
   },
   "outputs": [],
   "source": [
    "first_class = df[df[\"Pclass\"]==1][\"Fare\"]"
   ]
  },
  {
   "cell_type": "markdown",
   "metadata": {
    "id": "7Plz_qTkFOH6"
   },
   "source": [
    "##### Compute Test Statistic\n",
    "\n",
    "For this kind of test, the statistic is given by the following formula:\n",
    "\n",
    "$$t = \\frac{(mean - \\mu)}{\\frac{\\sigma_{x}}{\\sqrt{n}}}$$"
   ]
  },
  {
   "cell_type": "markdown",
   "metadata": {
    "id": "pMZijgneghQd"
   },
   "source": [
    "$$sample-std = \\sigma_{x} = \\sqrt{\\sum_{i}\\frac{(x_{i}-\\bar{x})^{2}}{(n-1)}}$$\n",
    "\n",
    "$$population-std = \\sigma = \\sqrt{\\sum_{i}\\frac{(x_{i}-\\mu)^{2}}{n}}$$\n",
    "\n",
    "$$\\bar{x} \\ne \\mu; \\bar{x}\\approx \\mu$$"
   ]
  },
  {
   "cell_type": "code",
   "execution_count": null,
   "metadata": {
    "colab": {
     "base_uri": "https://localhost:8080/"
    },
    "executionInfo": {
     "elapsed": 318,
     "status": "ok",
     "timestamp": 1711016725550,
     "user": {
      "displayName": "Ignacio Soteras",
      "userId": "02050793736257155229"
     },
     "user_tz": -60
    },
    "id": "O_Xmc1jvFOH7",
    "outputId": "2e5917f6-6589-4004-9491-37229b34fe23"
   },
   "outputs": [],
   "source": [
    "#In order to calculate test statistic we need\n",
    "\n",
    "#sample mean\n",
    "mean = first_class.mean()\n",
    "\n",
    "#standard deviation of sample\n",
    "s = first_class.std(ddof=1) # We need to use ddof=1 because we're working with a sample and not the whole population\n",
    "\n",
    "#sample size\n",
    "n = len(first_class)\n",
    "\n",
    "#hypothesized population mean\n",
    "mu = 65\n",
    "\n",
    "t_statistic = (mean - mu)/(s/np.sqrt(n))\n",
    "\n",
    "print(f\"The value of the t_statistic is {t_statistic: .2f}\")"
   ]
  },
  {
   "cell_type": "markdown",
   "metadata": {
    "id": "6nnB4rC1FOH7"
   },
   "source": [
    "##### Determine p_value"
   ]
  },
  {
   "cell_type": "markdown",
   "metadata": {
    "id": "U3ahTXNKFOH8"
   },
   "source": [
    "- In two-tailed test we can obtain the p_value using --> st.t.sf(abs(stat), n-1)*2\n",
    "\n",
    "- In one-tailed test we can obtain the p_value using --> st.t.sf(abs(stat), n-1)"
   ]
  },
  {
   "cell_type": "code",
   "execution_count": null,
   "metadata": {
    "colab": {
     "base_uri": "https://localhost:8080/"
    },
    "executionInfo": {
     "elapsed": 272,
     "status": "ok",
     "timestamp": 1711018655441,
     "user": {
      "displayName": "Ignacio Soteras",
      "userId": "02050793736257155229"
     },
     "user_tz": -60
    },
    "id": "C08VuClOp1z4",
    "outputId": "dd985554-2f2e-4712-e56b-07d493508369"
   },
   "outputs": [],
   "source": [
    "2 * (1-st.t.cdf(t_statistic, n-1))"
   ]
  },
  {
   "cell_type": "code",
   "execution_count": null,
   "metadata": {
    "colab": {
     "base_uri": "https://localhost:8080/"
    },
    "executionInfo": {
     "elapsed": 273,
     "status": "ok",
     "timestamp": 1711017990061,
     "user": {
      "displayName": "Ignacio Soteras",
      "userId": "02050793736257155229"
     },
     "user_tz": -60
    },
    "id": "o7gpPhiPFOH8",
    "outputId": "6bcbe187-9ac1-40e0-ee6f-a91c60d175c5"
   },
   "outputs": [],
   "source": [
    "# number_of_degrees_of_freedom = sample_size -1\n",
    "p_value = st.t.sf(abs(t_statistic), n-1)*2\n",
    "p_value"
   ]
  },
  {
   "cell_type": "markdown",
   "metadata": {
    "id": "K1UK8IChFOH9"
   },
   "source": [
    "##### Decision-making"
   ]
  },
  {
   "cell_type": "code",
   "execution_count": null,
   "metadata": {
    "colab": {
     "base_uri": "https://localhost:8080/"
    },
    "executionInfo": {
     "elapsed": 237,
     "status": "ok",
     "timestamp": 1711018016290,
     "user": {
      "displayName": "Ignacio Soteras",
      "userId": "02050793736257155229"
     },
     "user_tz": -60
    },
    "id": "ZNYzZJEjFOH9",
    "outputId": "3b911492-8014-4c62-bd33-876b7145a581"
   },
   "outputs": [],
   "source": [
    "if p_value > alpha:\n",
    "    print(\"We are not able to reject the null hypothesis\")\n",
    "else:\n",
    "    print(\"We reject the null hypotesis\")"
   ]
  },
  {
   "cell_type": "markdown",
   "metadata": {
    "id": "KFyNM5yaFOH9"
   },
   "source": [
    "In this case because the p_value is lower our significance level, we can indeed reject the null hypothesis that claims 1st class tickets costs on average 60$."
   ]
  },
  {
   "cell_type": "markdown",
   "metadata": {
    "id": "fPjzzWa3FOH-"
   },
   "source": [
    "**Python way**"
   ]
  },
  {
   "cell_type": "code",
   "execution_count": null,
   "metadata": {
    "colab": {
     "base_uri": "https://localhost:8080/"
    },
    "executionInfo": {
     "elapsed": 284,
     "status": "ok",
     "timestamp": 1711020313416,
     "user": {
      "displayName": "Ignacio Soteras",
      "userId": "02050793736257155229"
     },
     "user_tz": -60
    },
    "id": "svb4ldN6FOH-",
    "outputId": "040fc29b-89e1-4d1a-c5f3-a84c771ef4f3"
   },
   "outputs": [],
   "source": [
    "st.ttest_1samp(first_class, 65)"
   ]
  },
  {
   "cell_type": "markdown",
   "metadata": {
    "id": "k623zxPnFOH-"
   },
   "source": [
    "**What if we believe that prices are more expensive than 65$ ?**"
   ]
  },
  {
   "cell_type": "code",
   "execution_count": null,
   "metadata": {
    "id": "Pa8iVQcjFOID"
   },
   "outputs": [],
   "source": [
    "#Set hypothesis\n",
    "\n",
    "#H0: mu 1st class_prices <= 65\n",
    "#H1: mu 1st class_prices > 65\n",
    "\n",
    "#with alpha = 0.05"
   ]
  },
  {
   "cell_type": "markdown",
   "metadata": {
    "id": "uEoyy3mpwuIp"
   },
   "source": [
    "$$H_{0}: mean \\le 65\\\\\n",
    "H{1/a}: mean \\gt 65$$"
   ]
  },
  {
   "cell_type": "code",
   "execution_count": null,
   "metadata": {
    "id": "Hw7eO4ckFOIE",
    "outputId": "3d886892-f8b8-453e-ff7f-21fd513f009d"
   },
   "outputs": [],
   "source": [
    "st.ttest_1samp(first_class, 65, alternative = \"greater\")"
   ]
  },
  {
   "cell_type": "markdown",
   "metadata": {
    "id": "XFKZG8xdFOIE"
   },
   "source": [
    "We also reject the null hypothesis that claimed 1st class prices on average equal or lower than 65.\n",
    "\n",
    "We can say we obtained enough evidence to reject the null hypothesis"
   ]
  },
  {
   "cell_type": "markdown",
   "metadata": {
    "id": "4fT44uaqFOIE"
   },
   "source": [
    "### Two Sample T-test"
   ]
  },
  {
   "cell_type": "code",
   "execution_count": null,
   "metadata": {
    "colab": {
     "base_uri": "https://localhost:8080/",
     "height": 241
    },
    "executionInfo": {
     "elapsed": 397,
     "status": "ok",
     "timestamp": 1711021152626,
     "user": {
      "displayName": "Ignacio Soteras",
      "userId": "02050793736257155229"
     },
     "user_tz": -60
    },
    "id": "3ZaHqu1-FOIE",
    "outputId": "085dcb11-a802-4dba-dde4-219d16135674"
   },
   "outputs": [],
   "source": [
    "#Load the data - we are going to use titanic dataset\n",
    "\n",
    "df = pd.read_csv(\"https://raw.githubusercontent.com/data-bootcamp-v4/data/main/titanic_train.csv\")\n",
    "df.head()"
   ]
  },
  {
   "cell_type": "markdown",
   "metadata": {
    "id": "5Zd3wGVJFOIE"
   },
   "source": [
    "We want to test if the average ticket price is the same for males and females"
   ]
  },
  {
   "cell_type": "code",
   "execution_count": null,
   "metadata": {
    "executionInfo": {
     "elapsed": 334,
     "status": "ok",
     "timestamp": 1711021295887,
     "user": {
      "displayName": "Ignacio Soteras",
      "userId": "02050793736257155229"
     },
     "user_tz": -60
    },
    "id": "oYCcJea2FOIG"
   },
   "outputs": [],
   "source": [
    "df_female = df[df[\"Sex\"]==\"female\"][\"Fare\"]\n",
    "df_male = df[df[\"Sex\"]==\"male\"][\"Fare\"]"
   ]
  },
  {
   "cell_type": "code",
   "execution_count": null,
   "metadata": {
    "id": "R2ttcGKmFOIG"
   },
   "outputs": [],
   "source": [
    "#Set the hypothesis\n",
    "\n",
    "#H0: mu_price male = mu_price female\n",
    "#H1: mu_price male != mu_price female\n",
    "\n",
    "#significance level = 0.05"
   ]
  },
  {
   "cell_type": "markdown",
   "metadata": {
    "id": "HVpCZBG40RyY"
   },
   "source": [
    "$$H_{0}: mean_{males} = mean_{females}\\\\\n",
    "H_{1/a}: mean_{meales} \\ne mean_{females}$$"
   ]
  },
  {
   "cell_type": "markdown",
   "metadata": {
    "id": "fdcLV9AH1V2i"
   },
   "source": [
    "$$H_{0}: mean_{males} - mean_{females} = 0\\\\\n",
    "H_{1/a}: mean_{meales} - mean_{females} \\ne 0$$"
   ]
  },
  {
   "cell_type": "code",
   "execution_count": null,
   "metadata": {
    "colab": {
     "base_uri": "https://localhost:8080/"
    },
    "executionInfo": {
     "elapsed": 268,
     "status": "ok",
     "timestamp": 1711021417316,
     "user": {
      "displayName": "Ignacio Soteras",
      "userId": "02050793736257155229"
     },
     "user_tz": -60
    },
    "id": "Goi25oIdFOIH",
    "outputId": "4cdda1ab-a6f3-4307-fecf-32e5a230e8b4"
   },
   "outputs": [],
   "source": [
    "st.ttest_ind(df_male,df_female, equal_var=False)"
   ]
  },
  {
   "cell_type": "markdown",
   "metadata": {
    "id": "Pxx0ttRvFOIH"
   },
   "source": [
    "Because p_value is lower than significance level, we reject the null hypothesis, this means that prices, on average, paid by males and females is indeed diferent"
   ]
  },
  {
   "cell_type": "markdown",
   "metadata": {
    "id": "hS0CDeCeFOIH"
   },
   "source": [
    "### Paired Sample T-test"
   ]
  },
  {
   "cell_type": "markdown",
   "metadata": {
    "id": "Z6oJjg3hFOIH"
   },
   "source": [
    "We aim to assess the effectiveness of a medical drug in controlling blood pressure.\n",
    "\n",
    " We have obtained readings of individuals' blood pressure both before and after taking the drug"
   ]
  },
  {
   "cell_type": "code",
   "execution_count": null,
   "metadata": {
    "colab": {
     "base_uri": "https://localhost:8080/",
     "height": 423
    },
    "executionInfo": {
     "elapsed": 531,
     "status": "ok",
     "timestamp": 1711021690563,
     "user": {
      "displayName": "Ignacio Soteras",
      "userId": "02050793736257155229"
     },
     "user_tz": -60
    },
    "id": "JzkZOi1mFOIH",
    "outputId": "88c2bed2-7cb7-435a-cda3-755faf96c2f2"
   },
   "outputs": [],
   "source": [
    "#Load data\n",
    "\n",
    "df = pd.read_csv(r\"https://raw.githubusercontent.com/data-bootcamp-v4/data/main/blood_pressure.csv\")\n",
    "df"
   ]
  },
  {
   "cell_type": "code",
   "execution_count": null,
   "metadata": {
    "executionInfo": {
     "elapsed": 237,
     "status": "ok",
     "timestamp": 1711021825840,
     "user": {
      "displayName": "Ignacio Soteras",
      "userId": "02050793736257155229"
     },
     "user_tz": -60
    },
    "id": "N1mQWM76FOIH"
   },
   "outputs": [],
   "source": [
    "#Set hypothesis\n",
    "\n",
    "#H0: mu before = mu after\n",
    "#H1: mu before != mu after\n",
    "\n",
    "#Significance level -> 0.05\n",
    "alpha = 0.05"
   ]
  },
  {
   "cell_type": "markdown",
   "metadata": {
    "id": "jtb7V5ET2FAF"
   },
   "source": [
    "$$H_{0}: mean_{before} = mean_{after}\\\\\n",
    "H_{1/a}: mean_{before} \\ne mean_{after}$$\n",
    "\n",
    "$$H_{0}: mean_{before} - mean_{after} = 0\\\\\n",
    "H_{1/a}: mean_{before} - mean_{after} \\ne 0$$"
   ]
  },
  {
   "cell_type": "code",
   "execution_count": null,
   "metadata": {
    "executionInfo": {
     "elapsed": 2,
     "status": "ok",
     "timestamp": 1711021926158,
     "user": {
      "displayName": "Ignacio Soteras",
      "userId": "02050793736257155229"
     },
     "user_tz": -60
    },
    "id": "9UzRP7biFOII"
   },
   "outputs": [],
   "source": [
    "t_statistic, p_value = st.ttest_rel(df[\"before\"], df[\"after\"])"
   ]
  },
  {
   "cell_type": "code",
   "execution_count": null,
   "metadata": {
    "colab": {
     "base_uri": "https://localhost:8080/"
    },
    "executionInfo": {
     "elapsed": 4,
     "status": "ok",
     "timestamp": 1711021940693,
     "user": {
      "displayName": "Ignacio Soteras",
      "userId": "02050793736257155229"
     },
     "user_tz": -60
    },
    "id": "nX5REXwW2svi",
    "outputId": "0cb8ebcb-0bc7-4a09-f1d1-0b254a2568ec"
   },
   "outputs": [],
   "source": [
    "t_statistic"
   ]
  },
  {
   "cell_type": "code",
   "execution_count": null,
   "metadata": {
    "colab": {
     "base_uri": "https://localhost:8080/"
    },
    "executionInfo": {
     "elapsed": 222,
     "status": "ok",
     "timestamp": 1711021962709,
     "user": {
      "displayName": "Ignacio Soteras",
      "userId": "02050793736257155229"
     },
     "user_tz": -60
    },
    "id": "Ksv1mecr2x4t",
    "outputId": "292d5092-54b8-40d8-9571-2e6d9f414cff"
   },
   "outputs": [],
   "source": [
    "p_value"
   ]
  },
  {
   "cell_type": "code",
   "execution_count": null,
   "metadata": {
    "colab": {
     "base_uri": "https://localhost:8080/"
    },
    "executionInfo": {
     "elapsed": 268,
     "status": "ok",
     "timestamp": 1711021931069,
     "user": {
      "displayName": "Ignacio Soteras",
      "userId": "02050793736257155229"
     },
     "user_tz": -60
    },
    "id": "4zvq0-BJFOII",
    "outputId": "22a78ea7-39e6-4c91-ae89-d27cf8b77427"
   },
   "outputs": [],
   "source": [
    "if p_value > alpha:\n",
    "    print(\"We are not able to reject the null hypothesis\")\n",
    "else:\n",
    "    print(\"We reject the null hypothesis\")"
   ]
  },
  {
   "cell_type": "markdown",
   "metadata": {
    "id": "k-Hib2rrFOII"
   },
   "source": [
    "We reject the null hypothesis, therefore we can conclude the average blood pressure before and after taking the drug is not equal"
   ]
  },
  {
   "cell_type": "markdown",
   "metadata": {
    "id": "PYORFACCFOII"
   },
   "source": [
    "### ANOVA"
   ]
  },
  {
   "cell_type": "code",
   "execution_count": null,
   "metadata": {
    "colab": {
     "base_uri": "https://localhost:8080/",
     "height": 330
    },
    "executionInfo": {
     "elapsed": 1162,
     "status": "ok",
     "timestamp": 1711022018878,
     "user": {
      "displayName": "Ignacio Soteras",
      "userId": "02050793736257155229"
     },
     "user_tz": -60
    },
    "id": "f410Kcz-FOIJ",
    "outputId": "e252a24c-6df8-4070-cc21-943be973748d"
   },
   "outputs": [],
   "source": [
    "#Load the data\n",
    "\n",
    "df = pd.read_csv(\"https://raw.githubusercontent.com/data-bootcamp-v4/data/main/data_science_salaries.csv\")\n",
    "df.head()"
   ]
  },
  {
   "cell_type": "markdown",
   "metadata": {
    "id": "q-W24N94FOIJ"
   },
   "source": [
    "Curious about salaries of data scientists, we're checking if company size will have an impact on people's salaries.\n",
    "\n",
    "In order to procede with the test we must acknowledge that we have 3 differents groups"
   ]
  },
  {
   "cell_type": "code",
   "execution_count": null,
   "metadata": {
    "colab": {
     "base_uri": "https://localhost:8080/"
    },
    "executionInfo": {
     "elapsed": 279,
     "status": "ok",
     "timestamp": 1711022047911,
     "user": {
      "displayName": "Ignacio Soteras",
      "userId": "02050793736257155229"
     },
     "user_tz": -60
    },
    "id": "_ql-k4GjFOIJ",
    "outputId": "86228801-98c9-4cbb-b02d-ce0b59e98cb0"
   },
   "outputs": [],
   "source": [
    "df[\"company_size\"].unique()"
   ]
  },
  {
   "cell_type": "code",
   "execution_count": null,
   "metadata": {
    "executionInfo": {
     "elapsed": 288,
     "status": "ok",
     "timestamp": 1711022120010,
     "user": {
      "displayName": "Ignacio Soteras",
      "userId": "02050793736257155229"
     },
     "user_tz": -60
    },
    "id": "0a9xpcUWFOIK"
   },
   "outputs": [],
   "source": [
    "df_small = df[(df[\"company_size\"]==\"Small\") & (df[\"job_title\"]==\"Data Scientist\")][\"salary_in_usd\"]\n",
    "df_medium = df[(df[\"company_size\"]==\"Medium\") & (df[\"job_title\"]==\"Data Scientist\")][\"salary_in_usd\"]\n",
    "df_large = df[(df[\"company_size\"]==\"Large\") & (df[\"job_title\"]==\"Data Scientist\")][\"salary_in_usd\"]"
   ]
  },
  {
   "cell_type": "markdown",
   "metadata": {
    "id": "YDbwaxA93ch6"
   },
   "source": [
    "$$H_{0}: mean_{small} = mean_{medium} = mean_{large}\\\\\n",
    "H_{1/a}: mean_{small} \\ne mean_{medium} \\ne mean_{large}$$"
   ]
  },
  {
   "cell_type": "code",
   "execution_count": null,
   "metadata": {
    "colab": {
     "base_uri": "https://localhost:8080/"
    },
    "executionInfo": {
     "elapsed": 250,
     "status": "ok",
     "timestamp": 1711022248988,
     "user": {
      "displayName": "Ignacio Soteras",
      "userId": "02050793736257155229"
     },
     "user_tz": -60
    },
    "id": "rws6RqRnFOIK",
    "outputId": "c5d1c831-642a-4958-d2c2-67f84be4feb2"
   },
   "outputs": [],
   "source": [
    "#Set the hypothesis\n",
    "\n",
    "#H0: mu df_small = mu df_medium = mu df_large\n",
    "#H1: mu df_small != mu df_medium != mu df_large\n",
    "\n",
    "#Lets choose significance level of 5%\n",
    "alpha = 0.05\n",
    "\n",
    "st.f_oneway(df_small, df_medium, df_large)"
   ]
  },
  {
   "cell_type": "markdown",
   "metadata": {
    "id": "h9rgtD5PFOIK"
   },
   "source": [
    "With such a small p_value, we once again, can reject the null hypothesis, therefore the company size will indeed have an impact of data scientists salary"
   ]
  }
 ],
 "metadata": {
  "colab": {
   "provenance": []
  },
  "kernelspec": {
   "display_name": "base",
   "language": "python",
   "name": "python3"
  },
  "language_info": {
   "codemirror_mode": {
    "name": "ipython",
    "version": 3
   },
   "file_extension": ".py",
   "mimetype": "text/x-python",
   "name": "python",
   "nbconvert_exporter": "python",
   "pygments_lexer": "ipython3",
   "version": "3.11.8"
  }
 },
 "nbformat": 4,
 "nbformat_minor": 4
}
