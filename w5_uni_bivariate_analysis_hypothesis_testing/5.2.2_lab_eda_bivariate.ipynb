{
 "cells": [
  {
   "cell_type": "markdown",
   "metadata": {},
   "source": [
    "## Lab - EDA Bivariate Analysis: Diving into Amazon UK Product Insights Part II\n",
    "\n",
    "**Objective**: Delve into the dynamics of product pricing on Amazon UK to uncover insights that can inform business strategies and decision-making.\n",
    "\n",
    "**Dataset**: This lab utilizes the [Amazon UK product dataset](https://www.kaggle.com/datasets/asaniczka/uk-optimal-product-price-prediction/)\n",
    "which provides information on product categories, brands, prices, ratings, and more from from Amazon UK. You'll need to download it to start working with it."
   ]
  },
  {
   "cell_type": "code",
   "execution_count": null,
   "metadata": {},
   "outputs": [],
   "source": [
    "import pandas as pd\n",
    "import seaborn as sns\n",
    "import matplotlib.pyplot as plt\n",
    "import scipy.stats as stats\n",
    "\n",
    "df = pd.read_csv(\"amz_uk_price_prediction_dataset.csv\")"
   ]
  },
  {
   "cell_type": "markdown",
   "metadata": {},
   "source": [
    "---\n",
    "### Part 1: Analyzing Best-Seller Trends Across Product Categories"
   ]
  },
  {
   "cell_type": "code",
   "execution_count": null,
   "metadata": {},
   "outputs": [],
   "source": [
    "#  Create a crosstab between the product `category` and the `isBestSeller` status. Are there categories where being a best-seller is more prevalent?\n",
    "# Hint: one option is to calculate the proportion of best-sellers for each category and then sort the categories based on this proportion in descending order.\n",
    "\n",
    "crosstab_proportions = pd.crosstab(df[\"category\"], df[\"isBestSeller\"], normalize=\"index\").sort_values(by=True, ascending=False)\n",
    "crosstab_proportions\n",
    "# There are no categories where being a best-seller is more prevalent. \"Grocery\" category has the highest proportion of best-selling products, and this proportion is less than 6%"
   ]
  },
  {
   "cell_type": "code",
   "execution_count": null,
   "metadata": {},
   "outputs": [],
   "source": [
    "# Conduct a Chi-square test to determine if the best-seller distribution is independent of the product category.\n",
    "from scipy.stats import chi2_contingency\n",
    "\n",
    "crosstab = pd.crosstab(df[\"isBestSeller\"], df[\"category\"])\n",
    "chi2_statistic, chi2_p_value, _, _ = chi2_contingency(crosstab)\n",
    "chi2_statistic, chi2_p_value\n",
    "\n",
    "# chi2_statistic = 36540 implies a large discrepancy between observed and expected values, that the observed data deviate substantially from what we would expect if the variables were independent.\n",
    "# chi2_p_value=0.0 suggests strong evidence against the null hypothesis, and implies an association between the categories."
   ]
  },
  {
   "cell_type": "code",
   "execution_count": null,
   "metadata": {},
   "outputs": [],
   "source": [
    "# Compute Cramér's V to understand the strength of association between best-seller status and category.\n",
    "from scipy.stats.contingency import association\n",
    "association(crosstab, method=\"cramer\")\n",
    "\n",
    "# Cramér's V value = 0.12 implies a weak association between the 2 categories."
   ]
  },
  {
   "cell_type": "code",
   "execution_count": null,
   "metadata": {},
   "outputs": [],
   "source": [
    "# Visualize the relationship between product categories and the best-seller status using a stacked bar chart.\n",
    "crosstab_proportions = pd.crosstab(df[\"category\"], df[\"isBestSeller\"], normalize=\"index\").sort_values(by=True, ascending=False)\n",
    "sorted_crosstab = crosstab_proportions.sort_values(by=True, ascending=True).tail(10) # Top 10 based on proportion of best-sellers\n",
    "sorted_crosstab.plot(kind=\"barh\", stacked=True);"
   ]
  },
  {
   "cell_type": "markdown",
   "metadata": {},
   "source": [
    "---\n",
    "### Part 2: Exploring Product Prices and Ratings Across Categories and Brands"
   ]
  },
  {
   "cell_type": "code",
   "execution_count": null,
   "metadata": {},
   "outputs": [],
   "source": [
    "# Use a violin plot to visualize the distribution of `price` across different product `categories`. Filter out the top 5 categories based on count for better visualization.\n",
    "\n",
    "top5 = df.groupby(\"category\")[\"price\"].count().sort_values(ascending=False).head(5).index\n",
    "top5 = df[df[\"category\"].isin(top5)]\n",
    "sns.violinplot(data=top5, x=\"price\", y=\"category\", palette=\"bright\",  hue=\"category\");"
   ]
  },
  {
   "cell_type": "code",
   "execution_count": null,
   "metadata": {},
   "outputs": [],
   "source": [
    "# Which product category tends to have the highest median price? Don't filter here by top categories.\n",
    "df.groupby(\"category\")[\"price\"].median().sort_values(ascending=False).head(1)"
   ]
  },
  {
   "cell_type": "code",
   "execution_count": null,
   "metadata": {},
   "outputs": [],
   "source": [
    "# Create a bar chart comparing the average price of products for the top 5 product categories (based on count).\n",
    "sns.barplot(data=top5, x=\"price\", y=\"category\", palette=\"bright\", hue=\"category\");"
   ]
  },
  {
   "cell_type": "code",
   "execution_count": null,
   "metadata": {},
   "outputs": [],
   "source": [
    "# Which product category commands the highest average price? Don't filter here by top categories.\n",
    "df.groupby(\"category\")[\"price\"].mean().sort_values(ascending=False).head(1)"
   ]
  },
  {
   "cell_type": "code",
   "execution_count": null,
   "metadata": {},
   "outputs": [],
   "source": [
    "# Visualize the distribution of product `ratings` based on their `category` using side-by-side box plots. Filter out the top 5 categories based on count for better visualization.\n",
    "\n",
    "top_5_ratings = df.groupby(\"category\")[\"stars\"].count().sort_values(ascending=False).head(5).index\n",
    "top_5_ratings = df[df[\"category\"].isin(top_5_ratings)]\n",
    "sns.boxplot(data=top_5_ratings, x=\"stars\", y=\"category\", palette=\"bright\", hue=\"category\");"
   ]
  },
  {
   "cell_type": "code",
   "execution_count": null,
   "metadata": {},
   "outputs": [],
   "source": [
    "# Which category tends to receive the highest median rating from customers? Don't filter here by top categories.\n",
    "df.groupby(\"category\")[\"stars\"].median().sort_values(ascending=False).head(1)"
   ]
  },
  {
   "cell_type": "markdown",
   "metadata": {},
   "source": [
    "---\n",
    "### Part 3: Investigating the Interplay Between Product Prices and Ratings"
   ]
  },
  {
   "cell_type": "code",
   "execution_count": null,
   "metadata": {},
   "outputs": [],
   "source": [
    "# Calculate the correlation coefficient between `price` and `stars`. Is there a significant correlation between product price and its rating?\n",
    "correlation = df[\"price\"].corr(df[\"stars\"])\n",
    "spearman = df[\"price\"].corr(df[\"stars\"], method=\"spearman\")\n",
    "correlation, spearman\n",
    "\n",
    "# Both Pearson and Spearman correlation coefficients (-0.12, -0.13) imply weak negative linear and weak negative monotonic association. "
   ]
  },
  {
   "cell_type": "code",
   "execution_count": null,
   "metadata": {},
   "outputs": [],
   "source": [
    "# Use a scatter plot to visualize the relationship between product rating and price. What patterns can you observe?\n",
    "sns.scatterplot(data = df, x = \"stars\", y = \"price\");"
   ]
  },
  {
   "cell_type": "markdown",
   "metadata": {},
   "source": [
    "Patterns observed:\n",
    "- majority of products are priced 0-20K, with 2 outliers (80K, 100K)\n",
    "- most of the ratings are 4-5 stars, and it's strange that the 2 very expensive products (80K, 100K) have 0 stars (maybe innacurate data?),\n",
    "- correlation between price and rating seems to not exist."
   ]
  },
  {
   "cell_type": "code",
   "execution_count": null,
   "metadata": {},
   "outputs": [],
   "source": [
    "#  QQ plot shows that product prices typically don't follow a normal distribution.\n",
    "import statsmodels.api as sm\n",
    "sm.qqplot(df[\"price\"], line=\"45\");"
   ]
  },
  {
   "cell_type": "code",
   "execution_count": null,
   "metadata": {},
   "outputs": [],
   "source": [
    "# Use a correlation heatmap to visualize correlations between all numerical variables.\n",
    "plt.figure(figsize=(8, 5))\n",
    "correlation_matrix = df.select_dtypes(\"number\").corr()  # Compute the correlation matrix\n",
    "sns.heatmap(correlation_matrix, annot=True, annot_kws={\"size\": 10}, cmap=\"coolwarm\")\n",
    "plt.show()"
   ]
  },
  {
   "cell_type": "markdown",
   "metadata": {},
   "source": [
    "---\n",
    "### Bonus\n",
    "Remove outliers in product prices and repeat the Part 2, Part 3. What are your insights?"
   ]
  },
  {
   "cell_type": "code",
   "execution_count": null,
   "metadata": {},
   "outputs": [],
   "source": [
    "# Remove outliers in product prices.\n",
    "def tukeys_test_outliers_delete(data):\n",
    "    data = data.copy()  # Create a copy to avoid the SettingWithCopyWarning\n",
    "    Q1 = data.quantile(0.25)\n",
    "    Q3 = data.quantile(0.75)\n",
    "    IQR = Q3 - Q1\n",
    "    \n",
    "    # Define bounds for the outliers\n",
    "    lower_bound = Q1 - 1.5 * IQR\n",
    "    upper_bound = Q3 + 1.5 * IQR\n",
    "    \n",
    "    # Keep only the values that are within the lower and upper bounds\n",
    "    data = data[(data >= lower_bound) & (data <= upper_bound)]\n",
    "\n",
    "    return data\n",
    "\n",
    "df[\"price\"] = tukeys_test_outliers_delete(df[\"price\"])"
   ]
  },
  {
   "cell_type": "markdown",
   "metadata": {},
   "source": [
    "---\n",
    "### Part 2: Exploring Product Prices and Ratings Across Categories and Brands"
   ]
  },
  {
   "cell_type": "code",
   "execution_count": null,
   "metadata": {},
   "outputs": [],
   "source": [
    "# Violin plot is much more comprehensible and the top 5 categories are not same as the top 5 with outliers.\n",
    "top5 = df.groupby(\"category\")[\"price\"].count().sort_values(ascending=False).head(5).index\n",
    "top5 = df[df[\"category\"].isin(top5)]\n",
    "sns.violinplot(data=top5, x=\"price\", y=\"category\", palette=\"bright\",  hue=\"category\");"
   ]
  },
  {
   "cell_type": "code",
   "execution_count": null,
   "metadata": {},
   "outputs": [],
   "source": [
    "# The highest median price used to be \"Laptops 1042.725\". It's changed to \"Desktop PCs 74.0\".\n",
    "df.groupby(\"category\")[\"price\"].median().sort_values(ascending=False).head(1)"
   ]
  },
  {
   "cell_type": "code",
   "execution_count": null,
   "metadata": {},
   "outputs": [],
   "source": [
    "sns.barplot(data=top5, x=\"price\", y=\"category\", palette=\"bright\", hue=\"category\");"
   ]
  },
  {
   "cell_type": "code",
   "execution_count": null,
   "metadata": {},
   "outputs": [],
   "source": [
    "# The highest average price used to be \"Laptops 1087.987827\". Now it's \"Motherboards 68.772432\".\n",
    "df.groupby(\"category\")[\"price\"].mean().sort_values(ascending=False).head(1)"
   ]
  },
  {
   "cell_type": "code",
   "execution_count": null,
   "metadata": {},
   "outputs": [],
   "source": [
    "# Box plots didn't change because [\"Category\", \"Stars\"] aren't affected by the outliers removal.\n",
    "\n",
    "top_5_ratings = df.groupby(\"category\")[\"stars\"].count().sort_values(ascending=False).head(5).index\n",
    "top_5_ratings = df[df[\"category\"].isin(top_5_ratings)]\n",
    "sns.boxplot(data=top_5_ratings, x=\"stars\", y=\"category\", palette=\"bright\", hue=\"category\");"
   ]
  },
  {
   "cell_type": "code",
   "execution_count": null,
   "metadata": {},
   "outputs": [],
   "source": [
    "df.groupby(\"category\")[\"stars\"].median().sort_values(ascending=False).head(1)"
   ]
  },
  {
   "cell_type": "markdown",
   "metadata": {},
   "source": [
    "---\n",
    "### Part 3: Investigating the Interplay Between Product Prices and Ratings"
   ]
  },
  {
   "cell_type": "code",
   "execution_count": null,
   "metadata": {},
   "outputs": [],
   "source": [
    "# Calculate the correlation coefficient between `price` and `stars`. Is there a significant correlation between product price and its rating?\n",
    "correlation = df[\"price\"].corr(df[\"stars\"])\n",
    "spearman = df[\"price\"].corr(df[\"stars\"], method=\"spearman\")\n",
    "correlation, spearman\n",
    "\n",
    "# Both Pearson and Spearman correlation coefficients (-0.07, -0.06) increased a little bit after removing the price outliers (-0.12, -0.13)."
   ]
  },
  {
   "cell_type": "code",
   "execution_count": null,
   "metadata": {},
   "outputs": [],
   "source": [
    "# Scatterplot now doesn't give an observable pattern.\n",
    "sns.scatterplot(data = df, x = \"stars\", y = \"price\");"
   ]
  },
  {
   "cell_type": "code",
   "execution_count": null,
   "metadata": {},
   "outputs": [],
   "source": [
    "#  QQ plot still shows that product prices typically don't follow a normal distribution.\n",
    "import statsmodels.api as sm\n",
    "sm.qqplot(df[\"price\"], line=\"45\");"
   ]
  },
  {
   "cell_type": "code",
   "execution_count": null,
   "metadata": {},
   "outputs": [],
   "source": [
    "# Correlation heatmap still shows very weak correlations.\n",
    "plt.figure(figsize=(8, 5))\n",
    "correlation_matrix = df.select_dtypes(\"number\").corr()  # Compute the correlation matrix\n",
    "sns.heatmap(correlation_matrix, annot=True, annot_kws={\"size\": 10}, cmap=\"coolwarm\")\n",
    "plt.show()"
   ]
  }
 ],
 "metadata": {
  "kernelspec": {
   "display_name": "base",
   "language": "python",
   "name": "python3"
  },
  "language_info": {
   "codemirror_mode": {
    "name": "ipython",
    "version": 3
   },
   "file_extension": ".py",
   "mimetype": "text/x-python",
   "name": "python",
   "nbconvert_exporter": "python",
   "pygments_lexer": "ipython3",
   "version": "3.11.8"
  }
 },
 "nbformat": 4,
 "nbformat_minor": 2
}
