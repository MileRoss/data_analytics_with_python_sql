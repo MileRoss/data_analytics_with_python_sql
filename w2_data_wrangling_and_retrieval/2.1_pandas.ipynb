{
 "cells": [
  {
   "cell_type": "markdown",
   "metadata": {
    "id": "fWbJhn0BSOPQ"
   },
   "source": [
    "# Short intro to NumPy"
   ]
  },
  {
   "cell_type": "markdown",
   "metadata": {
    "id": "mR8-_HdQSOPQ"
   },
   "source": [
    "Let's start by mentioning NumPy as Pandas builds on top of NumPy.\n",
    "\n",
    "NumPy is a powerful library for numerical computing in Python. It provides support for large, multi-dimensional arrays and matrices, along with an extensive collection of mathematical functions to operate on these arrays efficiently."
   ]
  },
  {
   "cell_type": "code",
   "execution_count": null,
   "metadata": {
    "colab": {
     "base_uri": "https://localhost:8080/"
    },
    "executionInfo": {
     "elapsed": 370,
     "status": "ok",
     "timestamp": 1708952446521,
     "user": {
      "displayName": "Ignacio Soteras",
      "userId": "02050793736257155229"
     },
     "user_tz": -60
    },
    "id": "aX1Pti4fSOPQ",
    "outputId": "871037f8-ccd3-4a27-bbb2-82e511455daa"
   },
   "outputs": [],
   "source": [
    "# To use a library:\n",
    "#\n",
    "# 1-The library must installed in our computer.\n",
    "#\n",
    "# 2-Import the library or some functions from the library.\n",
    "#\n",
    "# import library_name\n",
    "# import library_name as alias\n",
    "# from library import function, class,...\n",
    "#\n",
    "import numpy as np\n",
    "\n",
    "# Creating a NumPy array\n",
    "arr = np.array([1, 2, 3, 4, 5])\n",
    "\n",
    "# Performing operations on the array\n",
    "result = arr * 2\n",
    "print(result)  # Output: [2 4 6 8 10]\n"
   ]
  },
  {
   "cell_type": "code",
   "execution_count": null,
   "metadata": {
    "colab": {
     "base_uri": "https://localhost:8080/"
    },
    "executionInfo": {
     "elapsed": 10,
     "status": "ok",
     "timestamp": 1708952446901,
     "user": {
      "displayName": "Ignacio Soteras",
      "userId": "02050793736257155229"
     },
     "user_tz": -60
    },
    "id": "xkKhyw_rhS7r",
    "outputId": "572e2f8e-343a-4d98-aa1e-40bcbe916ab6"
   },
   "outputs": [],
   "source": [
    "# other ways to do it\n",
    "\n",
    "# loops\n",
    "my_list = [1,2,3,4,5]\n",
    "for i in range(len(my_list)):\n",
    "    my_list[i] = my_list[i]*2\n",
    "\n",
    "# map\n",
    "list(map(lambda x: x*2, my_list))\n",
    "\n",
    "# list comprehension\n",
    "[x*2 for x in my_list]"
   ]
  },
  {
   "cell_type": "code",
   "execution_count": null,
   "metadata": {
    "colab": {
     "base_uri": "https://localhost:8080/"
    },
    "executionInfo": {
     "elapsed": 6,
     "status": "ok",
     "timestamp": 1708952446902,
     "user": {
      "displayName": "Ignacio Soteras",
      "userId": "02050793736257155229"
     },
     "user_tz": -60
    },
    "id": "u_o3bJ8QjVzG",
    "outputId": "f7b09e39-7f63-4abb-978b-dbe116729f60"
   },
   "outputs": [],
   "source": [
    "#how to do this for a dict\n",
    "\n",
    "my_dict = {\"a\":1, \"b\":2, \"c\":3}\n",
    "\n",
    "for key in my_dict.keys():\n",
    "    my_dict[key] = my_dict[key] * 2\n",
    "\n",
    "for key, value in my_dict.items():\n",
    "    my_dict[key] = value * 2\n",
    "\n",
    "{key: value*2 for key, value in my_dict.items()}"
   ]
  },
  {
   "cell_type": "markdown",
   "metadata": {
    "id": "7HbdwshLSOPR"
   },
   "source": [
    "# Introduction to Pandas Library\n",
    "\n",
    "`pandas` is a powerful library designed for working with tabulated and tagged data, making it ideal for handling spreadsheets, SQL tables, and more. It revolves around two main data structures: `Series` and `DataFrames`.\n",
    "\n",
    "## Key Features of Pandas\n",
    "\n",
    "- Robust data import/export: `pandas` provides efficient tools to read and write data from various file formats like CSV, XLS, SQL, and HDF5.\n",
    "- Data manipulation: With `pandas`, you can easily filter, add, or delete data, enabling seamless data processing.\n",
    "- High-performance and versatility: It combines the performance of `numpy` arrays with the ability to handle tabulated data efficiently.\n",
    "\n",
    "To import the necessary modules from the `pandas` library, we use the following syntax:"
   ]
  },
  {
   "cell_type": "code",
   "execution_count": null,
   "metadata": {
    "executionInfo": {
     "elapsed": 4,
     "status": "ok",
     "timestamp": 1708952446902,
     "user": {
      "displayName": "Ignacio Soteras",
      "userId": "02050793736257155229"
     },
     "user_tz": -60
    },
    "id": "xdtml8oKSOPR",
    "tags": []
   },
   "outputs": [],
   "source": [
    "import pandas as pd  # 'pd' is an alias for pandas"
   ]
  },
  {
   "cell_type": "markdown",
   "metadata": {
    "id": "klhkRlxuSOPS"
   },
   "source": [
    "![](https://github.com/data-bootcamp-v4/lessons/blob/main/img/pandas.svg?raw=true)"
   ]
  },
  {
   "cell_type": "markdown",
   "metadata": {
    "id": "V1-KoC0SSOPS"
   },
   "source": [
    "## DataFrames and Series in Pandas\n",
    "\n",
    "In `pandas`, a `Series` is a one-dimensional array of data with associated labels called the *index*. If no index is specified, it generates an ordered sequence of integers.\n",
    "\n",
    "```python\n",
    "# Creating a Series\n",
    "s = pd.Series(data, index=index)\n",
    "```\n",
    "\n",
    "On the other hand, a `DataFrame` is a two-dimensional data structure that stores data in tabular form, with labeled rows and columns. Each row represents an observation, and each column represents a variable. `DataFrame` can handle heterogeneous data with different types (numeric, string, boolean, etc.). It also includes variable names, types, and methods to access and modify the data.\n",
    "\n",
    "```python\n",
    "# Creating a DataFrame\n",
    "df = pd.DataFrame(data, ...)\n",
    "```\n"
   ]
  },
  {
   "cell_type": "markdown",
   "metadata": {
    "id": "bKWEbOOuSOPS"
   },
   "source": [
    "---\n",
    "# Series in Pandas\n",
    "\n",
    "## Creating Series\n"
   ]
  },
  {
   "cell_type": "markdown",
   "metadata": {
    "id": "mL_y3QP5SOPT"
   },
   "source": [
    "### From a list"
   ]
  },
  {
   "cell_type": "markdown",
   "metadata": {
    "id": "1VnmKYddSOPT"
   },
   "source": [
    "Create a Series with default indexes from a list"
   ]
  },
  {
   "cell_type": "code",
   "execution_count": null,
   "metadata": {
    "colab": {
     "base_uri": "https://localhost:8080/"
    },
    "executionInfo": {
     "elapsed": 408,
     "status": "ok",
     "timestamp": 1708952447306,
     "user": {
      "displayName": "Ignacio Soteras",
      "userId": "02050793736257155229"
     },
     "user_tz": -60
    },
    "id": "L_CoXValSOPT",
    "outputId": "ff40e087-7fed-405d-e19e-6bacb55424dc",
    "tags": []
   },
   "outputs": [],
   "source": [
    "l = [1980, 2020, 2001, 1999]\n",
    "series = pd.Series(l)\n",
    "series #we can see dtype int which means the series has integers"
   ]
  },
  {
   "cell_type": "code",
   "execution_count": null,
   "metadata": {
    "colab": {
     "base_uri": "https://localhost:8080/"
    },
    "executionInfo": {
     "elapsed": 35,
     "status": "ok",
     "timestamp": 1708952447306,
     "user": {
      "displayName": "Ignacio Soteras",
      "userId": "02050793736257155229"
     },
     "user_tz": -60
    },
    "id": "q88tJBxGma4f",
    "outputId": "303c4e96-5217-4359-8367-578f74b9991e"
   },
   "outputs": [],
   "source": [
    "# To know the version of a library\n",
    "print(f\"The version of numpy is: {np.__version__}\")\n",
    "print(f\"The version of pandas is: {pd.__version__}\")"
   ]
  },
  {
   "cell_type": "code",
   "execution_count": null,
   "metadata": {
    "colab": {
     "base_uri": "https://localhost:8080/",
     "height": 204
    },
    "executionInfo": {
     "elapsed": 32,
     "status": "ok",
     "timestamp": 1708952447307,
     "user": {
      "displayName": "Ignacio Soteras",
      "userId": "02050793736257155229"
     },
     "user_tz": -60
    },
    "id": "_PpD61-4SOPU",
    "outputId": "e880cf69-5e36-4c85-af24-347fd956d05a",
    "tags": []
   },
   "outputs": [],
   "source": [
    "type(series) #but careful, its still a pandas series"
   ]
  },
  {
   "cell_type": "code",
   "execution_count": null,
   "metadata": {
    "colab": {
     "base_uri": "https://localhost:8080/"
    },
    "executionInfo": {
     "elapsed": 30,
     "status": "ok",
     "timestamp": 1708952447307,
     "user": {
      "displayName": "Ignacio Soteras",
      "userId": "02050793736257155229"
     },
     "user_tz": -60
    },
    "id": "bRDLizA9SOPU",
    "outputId": "8b02a7d6-b9e4-40d5-bd0b-215eb719f2fb"
   },
   "outputs": [],
   "source": [
    "series.dtype #this gives me the type of the elements inside the series\n",
    "# this is an attribute (remember our lesson about classes)"
   ]
  },
  {
   "cell_type": "markdown",
   "metadata": {
    "id": "XKTDghk5SOPU"
   },
   "source": [
    "The `Series` have two attributes:` values` and `index`. The first is a `numpy array` that stores the data, and the second is an object that contains the indexes."
   ]
  },
  {
   "cell_type": "code",
   "execution_count": null,
   "metadata": {
    "colab": {
     "base_uri": "https://localhost:8080/"
    },
    "executionInfo": {
     "elapsed": 27,
     "status": "ok",
     "timestamp": 1708952447307,
     "user": {
      "displayName": "Ignacio Soteras",
      "userId": "02050793736257155229"
     },
     "user_tz": -60
    },
    "id": "35NaJi4lSOPU",
    "outputId": "0404785e-d45e-4dd7-97f1-283ea7adcc10"
   },
   "outputs": [],
   "source": [
    "series.values"
   ]
  },
  {
   "cell_type": "code",
   "execution_count": null,
   "metadata": {
    "colab": {
     "base_uri": "https://localhost:8080/"
    },
    "executionInfo": {
     "elapsed": 25,
     "status": "ok",
     "timestamp": 1708952447307,
     "user": {
      "displayName": "Ignacio Soteras",
      "userId": "02050793736257155229"
     },
     "user_tz": -60
    },
    "id": "ZJ6useAeSOPU",
    "outputId": "ca017b08-a398-4883-ec9a-6a248d27cab0"
   },
   "outputs": [],
   "source": [
    "series.index"
   ]
  },
  {
   "cell_type": "markdown",
   "metadata": {
    "id": "jGGjwJpeSOPV"
   },
   "source": [
    "In Pandas, `Series.items()` is a method used to iterate over the elements of a Pandas Series. It returns an iterator that yields the index-label and corresponding value pairs of the Series."
   ]
  },
  {
   "cell_type": "code",
   "execution_count": null,
   "metadata": {
    "colab": {
     "base_uri": "https://localhost:8080/"
    },
    "executionInfo": {
     "elapsed": 24,
     "status": "ok",
     "timestamp": 1708952447307,
     "user": {
      "displayName": "Ignacio Soteras",
      "userId": "02050793736257155229"
     },
     "user_tz": -60
    },
    "id": "ooqMcGM4qdkG",
    "outputId": "e5205642-170e-4002-9e6f-bdd5be1b4149"
   },
   "outputs": [],
   "source": [
    "for key in series.keys():\n",
    "    print(key)"
   ]
  },
  {
   "cell_type": "code",
   "execution_count": null,
   "metadata": {
    "colab": {
     "base_uri": "https://localhost:8080/"
    },
    "executionInfo": {
     "elapsed": 23,
     "status": "ok",
     "timestamp": 1708952447308,
     "user": {
      "displayName": "Ignacio Soteras",
      "userId": "02050793736257155229"
     },
     "user_tz": -60
    },
    "id": "gZs0m3OkSOPV",
    "outputId": "251b3154-3798-4454-fdd3-89329b83abf8"
   },
   "outputs": [],
   "source": [
    "#items has tuples (index,value) so i need to iterate with two variables if i want the values separated,\n",
    "#if not, i get the tuple in each iteration\n",
    "for i in series.index:\n",
    "    print(i)\n",
    "\n",
    "#for key, value in series.items():\n",
    "#    print(key, value)"
   ]
  },
  {
   "cell_type": "code",
   "execution_count": null,
   "metadata": {
    "colab": {
     "base_uri": "https://localhost:8080/"
    },
    "executionInfo": {
     "elapsed": 21,
     "status": "ok",
     "timestamp": 1708952447309,
     "user": {
      "displayName": "Ignacio Soteras",
      "userId": "02050793736257155229"
     },
     "user_tz": -60
    },
    "id": "cVWKntj9SOPV",
    "outputId": "2ec708c4-dca0-4f4e-c865-2fe1d7716807",
    "tags": []
   },
   "outputs": [],
   "source": [
    "for i, v in series.items() :\n",
    "    print(\"index \", i)\n",
    "    print(\"value \", v)"
   ]
  },
  {
   "cell_type": "markdown",
   "metadata": {
    "id": "qoXx1Rr0SOPV"
   },
   "source": [
    "### From a list with index"
   ]
  },
  {
   "cell_type": "markdown",
   "metadata": {
    "id": "Q84AKLrkSOPV"
   },
   "source": [
    "When creating a `Series`, you can explicitly define an `array` index and pass it as an argument."
   ]
  },
  {
   "cell_type": "markdown",
   "metadata": {
    "id": "mtxxu9riSOPV"
   },
   "source": [
    "\n",
    "Creating series with defined indexes"
   ]
  },
  {
   "cell_type": "code",
   "execution_count": null,
   "metadata": {
    "colab": {
     "base_uri": "https://localhost:8080/"
    },
    "executionInfo": {
     "elapsed": 19,
     "status": "ok",
     "timestamp": 1708952447309,
     "user": {
      "displayName": "Ignacio Soteras",
      "userId": "02050793736257155229"
     },
     "user_tz": -60
    },
    "id": "4_DTS7IoSOPW",
    "outputId": "d0121984-d7c8-432a-dc36-1db02188fc14",
    "tags": []
   },
   "outputs": [],
   "source": [
    "# create a new series with same values as before, and as indexes, names\n",
    "# values [1980, 2020, 2001, 1999]\n",
    "# index \"deb\",\"d\",\"martha\", \"martin\"\n",
    "new_series = pd.Series([1980, 2020, 2001, 1999],\n",
    "                       index = [\"deb\",\"d\",\"martha\", \"martin\"])\n",
    "new_series"
   ]
  },
  {
   "cell_type": "markdown",
   "metadata": {
    "id": "vNsPOrrtSOPX"
   },
   "source": [
    "### From a dictionary"
   ]
  },
  {
   "cell_type": "code",
   "execution_count": null,
   "metadata": {
    "colab": {
     "base_uri": "https://localhost:8080/"
    },
    "executionInfo": {
     "elapsed": 16,
     "status": "ok",
     "timestamp": 1708952447310,
     "user": {
      "displayName": "Ignacio Soteras",
      "userId": "02050793736257155229"
     },
     "user_tz": -60
    },
    "id": "-JfF8HLjSOPX",
    "outputId": "316d4148-5241-4767-f446-65c0cde1bca8"
   },
   "outputs": [],
   "source": [
    "# using dict comprehension, create a dictionary that has as key \"square of {nr}\" and as value the nr squared\n",
    "# for values from 0 to 10\n",
    "d = {\"square of \"+str(n): n*n for n in range(11)}\n",
    "d"
   ]
  },
  {
   "cell_type": "code",
   "execution_count": null,
   "metadata": {
    "colab": {
     "base_uri": "https://localhost:8080/"
    },
    "executionInfo": {
     "elapsed": 15,
     "status": "ok",
     "timestamp": 1708952447311,
     "user": {
      "displayName": "Ignacio Soteras",
      "userId": "02050793736257155229"
     },
     "user_tz": -60
    },
    "id": "vX4ScfZdtGhB",
    "outputId": "0d109187-5c7a-443d-f407-dda6fa963538"
   },
   "outputs": [],
   "source": [
    "pd.Series({str(n): n for n in range(11)})"
   ]
  },
  {
   "cell_type": "code",
   "execution_count": null,
   "metadata": {
    "colab": {
     "base_uri": "https://localhost:8080/"
    },
    "executionInfo": {
     "elapsed": 13,
     "status": "ok",
     "timestamp": 1708952447311,
     "user": {
      "displayName": "Ignacio Soteras",
      "userId": "02050793736257155229"
     },
     "user_tz": -60
    },
    "id": "WOcbxY7QSOPX",
    "outputId": "71b68731-fa89-4e11-8453-9339d0f1cb6f",
    "tags": []
   },
   "outputs": [],
   "source": [
    "pd.Series(d) # this creates a series from the dictionary 'd'"
   ]
  },
  {
   "cell_type": "markdown",
   "metadata": {
    "id": "MD7ID7TFSOPX"
   },
   "source": [
    "### From a file\n",
    "\n",
    "`read_csv()` is a Pandas function used to read data from a CSV file and create a DataFrame.\n",
    "\n",
    "When assigning one column in the parameter `usecols` and then calling the method `squeeze(\"columns\")`, the result is a Series instead of a Dataframe"
   ]
  },
  {
   "cell_type": "code",
   "execution_count": null,
   "metadata": {
    "executionInfo": {
     "elapsed": 455,
     "status": "ok",
     "timestamp": 1708952447756,
     "user": {
      "displayName": "Ignacio Soteras",
      "userId": "02050793736257155229"
     },
     "user_tz": -60
    },
    "id": "bkb9WVf3SOPX",
    "tags": []
   },
   "outputs": [],
   "source": [
    "# Load Titanic dataset from an online source\n",
    "url = 'https://raw.githubusercontent.com/data-bootcamp-v4/data/main/titanic_train.csv'\n",
    "titanic_series = pd.read_csv(url, usecols=[\"Name\"]).squeeze(\"columns\")\n",
    "titanic_series"
   ]
  },
  {
   "cell_type": "markdown",
   "metadata": {
    "id": "RYhM38_xSOPX",
    "tags": []
   },
   "source": [
    "\n",
    "\n",
    "---\n",
    "## Data access in Series\n"
   ]
  },
  {
   "cell_type": "markdown",
   "metadata": {
    "id": "rIy-sHoISOPX"
   },
   "source": [
    "Data access in Pandas can be achieved through either the categorical index or the internally generated numerical index."
   ]
  },
  {
   "cell_type": "code",
   "execution_count": null,
   "metadata": {
    "colab": {
     "base_uri": "https://localhost:8080/"
    },
    "executionInfo": {
     "elapsed": 54,
     "status": "ok",
     "timestamp": 1708952447756,
     "user": {
      "displayName": "Ignacio Soteras",
      "userId": "02050793736257155229"
     },
     "user_tz": -60
    },
    "id": "-Uzv0ZQ6SOPX",
    "outputId": "8b751b1f-b384-42ed-e1b6-adcf4ac90dfb"
   },
   "outputs": [],
   "source": [
    "new_series"
   ]
  },
  {
   "cell_type": "code",
   "execution_count": null,
   "metadata": {
    "colab": {
     "base_uri": "https://localhost:8080/"
    },
    "executionInfo": {
     "elapsed": 50,
     "status": "ok",
     "timestamp": 1708952447756,
     "user": {
      "displayName": "Ignacio Soteras",
      "userId": "02050793736257155229"
     },
     "user_tz": -60
    },
    "id": "3Ps_OclJSOPX",
    "outputId": "e420e8d2-633c-4ef2-9ba5-9ecac76ccc21"
   },
   "outputs": [],
   "source": [
    "new_series[1] #accessing elements by pandas internal index"
   ]
  },
  {
   "cell_type": "code",
   "execution_count": null,
   "metadata": {
    "colab": {
     "base_uri": "https://localhost:8080/"
    },
    "executionInfo": {
     "elapsed": 47,
     "status": "ok",
     "timestamp": 1708952447756,
     "user": {
      "displayName": "Ignacio Soteras",
      "userId": "02050793736257155229"
     },
     "user_tz": -60
    },
    "id": "Lal_Y2sQSOPX",
    "outputId": "69d1b525-fe75-43c5-d3fb-a563ca0b6c45",
    "tags": []
   },
   "outputs": [],
   "source": [
    "new_series[\"d\"] #accessing elements by index label"
   ]
  },
  {
   "cell_type": "code",
   "execution_count": null,
   "metadata": {
    "colab": {
     "base_uri": "https://localhost:8080/"
    },
    "executionInfo": {
     "elapsed": 45,
     "status": "ok",
     "timestamp": 1708952447757,
     "user": {
      "displayName": "Ignacio Soteras",
      "userId": "02050793736257155229"
     },
     "user_tz": -60
    },
    "id": "yBFnM1uYSOPX",
    "outputId": "b9db3605-a04c-4a3a-d798-15ef8afbd775",
    "tags": []
   },
   "outputs": [],
   "source": [
    "new_series[1:]  #we can do the same as with lists, and use slicing"
   ]
  },
  {
   "cell_type": "code",
   "execution_count": null,
   "metadata": {
    "colab": {
     "base_uri": "https://localhost:8080/"
    },
    "executionInfo": {
     "elapsed": 43,
     "status": "ok",
     "timestamp": 1708952447757,
     "user": {
      "displayName": "Ignacio Soteras",
      "userId": "02050793736257155229"
     },
     "user_tz": -60
    },
    "id": "OtctvWlOSOPX",
    "outputId": "4d126ece-82c9-427b-dcfe-c2eb49e0d714",
    "tags": []
   },
   "outputs": [],
   "source": [
    "new_series[1:3:2] # 1, 3, 5,..."
   ]
  },
  {
   "cell_type": "code",
   "execution_count": null,
   "metadata": {
    "colab": {
     "base_uri": "https://localhost:8080/"
    },
    "executionInfo": {
     "elapsed": 41,
     "status": "ok",
     "timestamp": 1708952447757,
     "user": {
      "displayName": "Ignacio Soteras",
      "userId": "02050793736257155229"
     },
     "user_tz": -60
    },
    "id": "hhLAEuFwSOPY",
    "outputId": "fc682315-424e-4719-f426-4a70155c061d",
    "tags": []
   },
   "outputs": [],
   "source": [
    "new_series[::-1]"
   ]
  },
  {
   "cell_type": "markdown",
   "metadata": {
    "id": "ejhReuoESOPY"
   },
   "source": [
    "\n",
    "\n",
    "---\n",
    "## Methods in Series"
   ]
  },
  {
   "cell_type": "markdown",
   "metadata": {
    "id": "2ftyNSzQSOPY"
   },
   "source": [
    "### `concat()`"
   ]
  },
  {
   "cell_type": "markdown",
   "metadata": {
    "id": "RxoYND_lSOPY"
   },
   "source": [
    "`concat()` is a pandas function used to concatenate and combine DataFrames along a specified axis, either vertically (rows) or horizontally (columns)."
   ]
  },
  {
   "cell_type": "code",
   "execution_count": null,
   "metadata": {
    "colab": {
     "base_uri": "https://localhost:8080/"
    },
    "executionInfo": {
     "elapsed": 39,
     "status": "ok",
     "timestamp": 1708952447757,
     "user": {
      "displayName": "Ignacio Soteras",
      "userId": "02050793736257155229"
     },
     "user_tz": -60
    },
    "id": "6TTRY7yfSOPZ",
    "outputId": "3be32122-9dc8-4969-d9f0-5ba5e3e18630",
    "tags": []
   },
   "outputs": [],
   "source": [
    "s3 = pd.concat([new_series,new_series])\n",
    "s3"
   ]
  },
  {
   "cell_type": "markdown",
   "metadata": {
    "id": "OMgljHG5SOPZ"
   },
   "source": [
    "By default `concat` keeps the original indexes. It does not restart the index by default, unless we specify `ignore_index=True`."
   ]
  },
  {
   "cell_type": "code",
   "execution_count": null,
   "metadata": {
    "colab": {
     "base_uri": "https://localhost:8080/"
    },
    "executionInfo": {
     "elapsed": 38,
     "status": "ok",
     "timestamp": 1708952447758,
     "user": {
      "displayName": "Ignacio Soteras",
      "userId": "02050793736257155229"
     },
     "user_tz": -60
    },
    "id": "7LTezjszSOPZ",
    "outputId": "71937236-8b86-47b1-9a56-5297a8c6b7d3",
    "tags": []
   },
   "outputs": [],
   "source": [
    "s3[\"d\"] # we see we have two elements for index \"d\""
   ]
  },
  {
   "cell_type": "code",
   "execution_count": null,
   "metadata": {
    "colab": {
     "base_uri": "https://localhost:8080/"
    },
    "executionInfo": {
     "elapsed": 34,
     "status": "ok",
     "timestamp": 1708952447758,
     "user": {
      "displayName": "Ignacio Soteras",
      "userId": "02050793736257155229"
     },
     "user_tz": -60
    },
    "id": "_l93cr5p3niG",
    "outputId": "974c7642-a7cb-4bfb-f101-9e5329f9cc9b"
   },
   "outputs": [],
   "source": [
    "s3[1]"
   ]
  },
  {
   "cell_type": "code",
   "execution_count": null,
   "metadata": {
    "colab": {
     "base_uri": "https://localhost:8080/"
    },
    "executionInfo": {
     "elapsed": 32,
     "status": "ok",
     "timestamp": 1708952447758,
     "user": {
      "displayName": "Ignacio Soteras",
      "userId": "02050793736257155229"
     },
     "user_tz": -60
    },
    "id": "MST-KLDgSOPZ",
    "outputId": "027665c7-3c31-4186-c07d-4f6586f0a86a",
    "tags": []
   },
   "outputs": [],
   "source": [
    "s3 = pd.concat([new_series,new_series],ignore_index=True)\n",
    "s3"
   ]
  },
  {
   "cell_type": "code",
   "execution_count": null,
   "metadata": {
    "colab": {
     "base_uri": "https://localhost:8080/",
     "height": 300
    },
    "executionInfo": {
     "elapsed": 29,
     "status": "ok",
     "timestamp": 1708952447758,
     "user": {
      "displayName": "Ignacio Soteras",
      "userId": "02050793736257155229"
     },
     "user_tz": -60
    },
    "id": "t2YFl1Hw4-eB",
    "outputId": "4c2fa708-9065-44b4-d637-5f6f5ffb49b2"
   },
   "outputs": [],
   "source": [
    "pd.DataFrame(pd.concat([new_series,new_series]))"
   ]
  },
  {
   "cell_type": "code",
   "execution_count": null,
   "metadata": {
    "colab": {
     "base_uri": "https://localhost:8080/",
     "height": 300
    },
    "executionInfo": {
     "elapsed": 28,
     "status": "ok",
     "timestamp": 1708952447758,
     "user": {
      "displayName": "Ignacio Soteras",
      "userId": "02050793736257155229"
     },
     "user_tz": -60
    },
    "id": "PmKovudv4F8G",
    "outputId": "d58d6215-96b5-4809-c55a-fbd10df5c2bb"
   },
   "outputs": [],
   "source": [
    "pd.DataFrame(pd.concat([new_series,new_series])).reset_index()"
   ]
  },
  {
   "cell_type": "code",
   "execution_count": null,
   "metadata": {
    "colab": {
     "base_uri": "https://localhost:8080/",
     "height": 175
    },
    "executionInfo": {
     "elapsed": 27,
     "status": "ok",
     "timestamp": 1708952447758,
     "user": {
      "displayName": "Ignacio Soteras",
      "userId": "02050793736257155229"
     },
     "user_tz": -60
    },
    "id": "BlmtTdyV5YAy",
    "outputId": "15e977eb-1a7b-4ee9-d9d0-b65230a139c7"
   },
   "outputs": [],
   "source": [
    "pd.concat([new_series,new_series], axis=1)"
   ]
  },
  {
   "cell_type": "markdown",
   "metadata": {
    "id": "hGZEeqLESOPZ"
   },
   "source": [
    "### `sort_values() and sort_index()`\n",
    "\n",
    "`sort_values()` is a pandas DataFrame method that sorts the DataFrame based on specified column(s), while `sort_index()` sorts the DataFrame based on its index labels."
   ]
  },
  {
   "cell_type": "code",
   "execution_count": null,
   "metadata": {
    "colab": {
     "base_uri": "https://localhost:8080/"
    },
    "executionInfo": {
     "elapsed": 26,
     "status": "ok",
     "timestamp": 1708952447758,
     "user": {
      "displayName": "Ignacio Soteras",
      "userId": "02050793736257155229"
     },
     "user_tz": -60
    },
    "id": "1u5SQk3DSOPZ",
    "outputId": "fb945e51-5c50-48a4-8fb1-cf9b6a4a82c5",
    "tags": []
   },
   "outputs": [],
   "source": [
    "#titanic_series\n",
    "titanic_series.sort_values()"
   ]
  },
  {
   "cell_type": "code",
   "execution_count": null,
   "metadata": {
    "colab": {
     "base_uri": "https://localhost:8080/"
    },
    "executionInfo": {
     "elapsed": 23,
     "status": "ok",
     "timestamp": 1708952447758,
     "user": {
      "displayName": "Ignacio Soteras",
      "userId": "02050793736257155229"
     },
     "user_tz": -60
    },
    "id": "PtTLsZZ6SOPZ",
    "outputId": "2944da10-4e1c-4c6d-c9ae-7d5561e75791",
    "tags": []
   },
   "outputs": [],
   "source": [
    "titanic_series.sort_values(ascending=False) #to change the ordering type"
   ]
  },
  {
   "cell_type": "markdown",
   "metadata": {
    "id": "65fvYvAlSOPa"
   },
   "source": [
    "Sort index or sort values does not change the series.\n",
    "We can either save it again in the variable or we can use a paremeter\n",
    "called **inplace**."
   ]
  },
  {
   "cell_type": "code",
   "execution_count": null,
   "metadata": {
    "colab": {
     "base_uri": "https://localhost:8080/"
    },
    "executionInfo": {
     "elapsed": 20,
     "status": "ok",
     "timestamp": 1708952447759,
     "user": {
      "displayName": "Ignacio Soteras",
      "userId": "02050793736257155229"
     },
     "user_tz": -60
    },
    "id": "CLOItZ25SOPa",
    "outputId": "ad4500ab-26c5-479a-bd9b-b7951697a03c"
   },
   "outputs": [],
   "source": [
    "titanic_series # we see our last line of code didn't change our series"
   ]
  },
  {
   "cell_type": "code",
   "execution_count": null,
   "metadata": {
    "executionInfo": {
     "elapsed": 17,
     "status": "ok",
     "timestamp": 1708952447759,
     "user": {
      "displayName": "Ignacio Soteras",
      "userId": "02050793736257155229"
     },
     "user_tz": -60
    },
    "id": "83QRrl5VSOPa"
   },
   "outputs": [],
   "source": [
    "titanic_series.sort_index(ascending=False, inplace=True)\n",
    "\n",
    "# equivalent: titanic_series = titanic_series.sort_index(ascending=False)"
   ]
  },
  {
   "cell_type": "code",
   "execution_count": null,
   "metadata": {
    "colab": {
     "base_uri": "https://localhost:8080/"
    },
    "executionInfo": {
     "elapsed": 17,
     "status": "ok",
     "timestamp": 1708952447759,
     "user": {
      "displayName": "Ignacio Soteras",
      "userId": "02050793736257155229"
     },
     "user_tz": -60
    },
    "id": "WZix3J5QSOPa",
    "outputId": "bbf7b83b-67f0-4e13-d659-f50b19a53e2b",
    "tags": []
   },
   "outputs": [],
   "source": [
    "titanic_series # the series has changed because we used 'inplace=True'"
   ]
  },
  {
   "cell_type": "markdown",
   "metadata": {
    "id": "26GjgubvSOPb"
   },
   "source": [
    "### `value_counts()`"
   ]
  },
  {
   "cell_type": "markdown",
   "metadata": {
    "id": "H14_HGNmSOPb"
   },
   "source": [
    "`value_counts()` is a Pandas function that returns a Series containing the counts of unique values in a Series or DataFrame."
   ]
  },
  {
   "cell_type": "code",
   "execution_count": null,
   "metadata": {
    "colab": {
     "base_uri": "https://localhost:8080/"
    },
    "executionInfo": {
     "elapsed": 405,
     "status": "ok",
     "timestamp": 1708952448150,
     "user": {
      "displayName": "Ignacio Soteras",
      "userId": "02050793736257155229"
     },
     "user_tz": -60
    },
    "id": "1wulZSgI9E1E",
    "outputId": "1113b47f-19a8-4def-adaf-8f222e18f25e"
   },
   "outputs": [],
   "source": [
    "pd.read_csv(url)['Sex'].value_counts()"
   ]
  },
  {
   "cell_type": "code",
   "execution_count": null,
   "metadata": {
    "colab": {
     "base_uri": "https://localhost:8080/"
    },
    "executionInfo": {
     "elapsed": 21,
     "status": "ok",
     "timestamp": 1708952448150,
     "user": {
      "displayName": "Ignacio Soteras",
      "userId": "02050793736257155229"
     },
     "user_tz": -60
    },
    "id": "H0z5EvbC9m12",
    "outputId": "0c502d89-dea0-4086-b719-607a5ac991cc"
   },
   "outputs": [],
   "source": [
    "pd.read_csv(url)['Sex'].unique()"
   ]
  },
  {
   "cell_type": "code",
   "execution_count": null,
   "metadata": {
    "colab": {
     "base_uri": "https://localhost:8080/"
    },
    "executionInfo": {
     "elapsed": 18,
     "status": "ok",
     "timestamp": 1708952448151,
     "user": {
      "displayName": "Ignacio Soteras",
      "userId": "02050793736257155229"
     },
     "user_tz": -60
    },
    "id": "WCwnK4_QSOPb",
    "outputId": "12ddfa7f-ffff-4be5-f124-e17ff2c08bb6",
    "tags": []
   },
   "outputs": [],
   "source": [
    "titanic_series.value_counts()"
   ]
  },
  {
   "cell_type": "markdown",
   "metadata": {
    "id": "xzbFbme-SOPb"
   },
   "source": [
    "## 💡 Check for understanding"
   ]
  },
  {
   "cell_type": "markdown",
   "metadata": {
    "id": "vWWDlwm7SOPb"
   },
   "source": [
    "1. Get the column \"Embarked\" from the Titanic csv as a Pandas Series\n",
    "2. Print the first value\n",
    "3. Print the last 5 values\n",
    "3. Append \"NA\" to the Series\n",
    "3. Get the number of each Embarked type (number of repeated values)\n",
    "3. Order the Series *descending*, and print the Embarked type most repeated in the Series"
   ]
  },
  {
   "cell_type": "code",
   "execution_count": null,
   "metadata": {
    "colab": {
     "base_uri": "https://localhost:8080/"
    },
    "executionInfo": {
     "elapsed": 331,
     "status": "ok",
     "timestamp": 1708952448476,
     "user": {
      "displayName": "Ignacio Soteras",
      "userId": "02050793736257155229"
     },
     "user_tz": -60
    },
    "id": "m4-cXY_OSOPc",
    "outputId": "a2ba8920-7792-4585-cb7a-cf4f1d24ed52"
   },
   "outputs": [],
   "source": [
    "# Your answer here\n",
    "# 1.\n",
    "pd.read_csv(url)[\"Embarked\"]"
   ]
  },
  {
   "cell_type": "code",
   "execution_count": null,
   "metadata": {
    "colab": {
     "base_uri": "https://localhost:8080/",
     "height": 35
    },
    "executionInfo": {
     "elapsed": 16,
     "status": "ok",
     "timestamp": 1708952448476,
     "user": {
      "displayName": "Ignacio Soteras",
      "userId": "02050793736257155229"
     },
     "user_tz": -60
    },
    "id": "82qCjtmxBjky",
    "outputId": "8822bedb-49f1-4aa0-86af-c317b7b3dbc7"
   },
   "outputs": [],
   "source": [
    "# 2.\n",
    "pd.read_csv(url)[\"Embarked\"][0]"
   ]
  },
  {
   "cell_type": "code",
   "execution_count": null,
   "metadata": {
    "colab": {
     "base_uri": "https://localhost:8080/"
    },
    "executionInfo": {
     "elapsed": 14,
     "status": "ok",
     "timestamp": 1708952448476,
     "user": {
      "displayName": "Ignacio Soteras",
      "userId": "02050793736257155229"
     },
     "user_tz": -60
    },
    "id": "TJTzXZYQBpvH",
    "outputId": "f3d8e5e1-d4e2-4019-c17a-77aae10ffbce"
   },
   "outputs": [],
   "source": [
    "# 3.\n",
    "pd.read_csv(url)[\"Embarked\"][-5:]"
   ]
  },
  {
   "cell_type": "code",
   "execution_count": null,
   "metadata": {
    "colab": {
     "base_uri": "https://localhost:8080/"
    },
    "executionInfo": {
     "elapsed": 12,
     "status": "ok",
     "timestamp": 1708952448151,
     "user": {
      "displayName": "Ignacio Soteras",
      "userId": "02050793736257155229"
     },
     "user_tz": -60
    },
    "id": "SXXrTLb-G68W",
    "outputId": "72e24a78-ac78-4be0-d1e1-7f1366c6312d"
   },
   "outputs": [],
   "source": [
    "# 4\n",
    "pd.Series(list(pd.read_csv(url)['Embarked'].values) + [\"NA\"])"
   ]
  },
  {
   "cell_type": "code",
   "execution_count": null,
   "metadata": {
    "colab": {
     "base_uri": "https://localhost:8080/"
    },
    "executionInfo": {
     "elapsed": 13,
     "status": "ok",
     "timestamp": 1708952448479,
     "user": {
      "displayName": "Ignacio Soteras",
      "userId": "02050793736257155229"
     },
     "user_tz": -60
    },
    "id": "3YJ-cZhHByYy",
    "outputId": "4866bc73-44e7-4c22-e92d-dadcafc635f5"
   },
   "outputs": [],
   "source": [
    "# 5.\n",
    "pd.read_csv(url)[\"Embarked\"].nunique()"
   ]
  },
  {
   "cell_type": "code",
   "execution_count": null,
   "metadata": {
    "colab": {
     "base_uri": "https://localhost:8080/"
    },
    "executionInfo": {
     "elapsed": 492,
     "status": "ok",
     "timestamp": 1708952448961,
     "user": {
      "displayName": "Ignacio Soteras",
      "userId": "02050793736257155229"
     },
     "user_tz": -60
    },
    "id": "v6M3jM7KB7fK",
    "outputId": "c68559ae-2e42-4577-ed40-20cff93114fe"
   },
   "outputs": [],
   "source": [
    "# 6.\n",
    "pd.read_csv(url)[\"Embarked\"].sort_values(ascending=False)"
   ]
  },
  {
   "cell_type": "markdown",
   "metadata": {
    "id": "r9-Cimt9SOPc"
   },
   "source": [
    "\n",
    "# Dataframes in Pandas\n",
    "\n",
    "Unlike `Series`, `DataFrame` is designed to store heterogeneous multivariable data. It can be created from dictionaries (look to Extra section for examples)."
   ]
  },
  {
   "cell_type": "markdown",
   "metadata": {
    "id": "Jy2b8j1uSOPc"
   },
   "source": [
    "We will use `read_csv` to read data from a CSV file and create a DataFrame.\n",
    "\n",
    "We won't be using now the parameter `usecols` nor calling the method `squeeze(\"columns\")`."
   ]
  },
  {
   "cell_type": "code",
   "execution_count": null,
   "metadata": {
    "executionInfo": {
     "elapsed": 45,
     "status": "ok",
     "timestamp": 1708952448962,
     "user": {
      "displayName": "Ignacio Soteras",
      "userId": "02050793736257155229"
     },
     "user_tz": -60
    },
    "id": "BQKqa49mSOPc",
    "tags": []
   },
   "outputs": [],
   "source": [
    "# Load Titanic dataset from an online source\n",
    "url = 'https://raw.githubusercontent.com/data-bootcamp-v4/data/main/titanic_train.csv'\n",
    "titanic_df = pd.read_csv(url)"
   ]
  },
  {
   "cell_type": "markdown",
   "metadata": {
    "id": "xYgf4Q31SOPc"
   },
   "source": [
    "### `head()` and `tail()`"
   ]
  },
  {
   "cell_type": "markdown",
   "metadata": {
    "id": "LzwvgvrUSOPc"
   },
   "source": [
    "The `head()` method returns the first few rows of a DataFrame or Series, while the `tail()` method returns the last few rows."
   ]
  },
  {
   "cell_type": "code",
   "execution_count": null,
   "metadata": {
    "colab": {
     "base_uri": "https://localhost:8080/",
     "height": 303
    },
    "executionInfo": {
     "elapsed": 44,
     "status": "ok",
     "timestamp": 1708952448962,
     "user": {
      "displayName": "Ignacio Soteras",
      "userId": "02050793736257155229"
     },
     "user_tz": -60
    },
    "id": "IW4tJauMSOPc",
    "outputId": "b757bd0d-ff35-4197-9f62-5092e3a558c5",
    "tags": []
   },
   "outputs": [],
   "source": [
    "titanic_df.head(7)"
   ]
  },
  {
   "cell_type": "code",
   "execution_count": null,
   "metadata": {
    "colab": {
     "base_uri": "https://localhost:8080/",
     "height": 143
    },
    "executionInfo": {
     "elapsed": 42,
     "status": "ok",
     "timestamp": 1708952448963,
     "user": {
      "displayName": "Ignacio Soteras",
      "userId": "02050793736257155229"
     },
     "user_tz": -60
    },
    "id": "m2o_GguwSOPc",
    "outputId": "46aaca9d-27e8-490d-d0ed-c991d3e6491b",
    "tags": []
   },
   "outputs": [],
   "source": [
    "titanic_df.tail(3)"
   ]
  },
  {
   "cell_type": "markdown",
   "metadata": {
    "id": "JqdTWRs6SOPd"
   },
   "source": [
    "### `index, columns and values`"
   ]
  },
  {
   "cell_type": "markdown",
   "metadata": {
    "id": "BEh1HCs5SOPd"
   },
   "source": [
    "The `index` attribute in Pandas returns the index labels of a DataFrame or Series, and the `columns` attribute returns the column labels of a DataFrame."
   ]
  },
  {
   "cell_type": "code",
   "execution_count": null,
   "metadata": {
    "colab": {
     "base_uri": "https://localhost:8080/"
    },
    "executionInfo": {
     "elapsed": 40,
     "status": "ok",
     "timestamp": 1708952448963,
     "user": {
      "displayName": "Ignacio Soteras",
      "userId": "02050793736257155229"
     },
     "user_tz": -60
    },
    "id": "HM-sMEVeSOPd",
    "outputId": "fbe866b2-22d8-4246-e1ce-fb5907bcaa93"
   },
   "outputs": [],
   "source": [
    "titanic_df.index"
   ]
  },
  {
   "cell_type": "markdown",
   "metadata": {
    "id": "LIJsYV9KSOPd"
   },
   "source": [
    "`RangeIndex(start=0, stop=1460, step=1)` is a special type of index in Pandas called a `RangeIndex`. It represents a range of integer values starting from 0, up to (but not including) 1460, with a step size of 1."
   ]
  },
  {
   "cell_type": "code",
   "execution_count": null,
   "metadata": {
    "colab": {
     "base_uri": "https://localhost:8080/"
    },
    "executionInfo": {
     "elapsed": 37,
     "status": "ok",
     "timestamp": 1708952448964,
     "user": {
      "displayName": "Ignacio Soteras",
      "userId": "02050793736257155229"
     },
     "user_tz": -60
    },
    "id": "fXmybIXxSOPd",
    "outputId": "2fe49295-adbc-4c27-e22c-ed88f016e4dc",
    "tags": []
   },
   "outputs": [],
   "source": [
    "list(titanic_df.index)"
   ]
  },
  {
   "cell_type": "code",
   "execution_count": null,
   "metadata": {
    "colab": {
     "base_uri": "https://localhost:8080/"
    },
    "executionInfo": {
     "elapsed": 35,
     "status": "ok",
     "timestamp": 1708952448966,
     "user": {
      "displayName": "Ignacio Soteras",
      "userId": "02050793736257155229"
     },
     "user_tz": -60
    },
    "id": "xix7oB0XSOPd",
    "outputId": "335371ef-33b5-41ff-fedc-c2194a2e1f31"
   },
   "outputs": [],
   "source": [
    "titanic_df.columns"
   ]
  },
  {
   "cell_type": "code",
   "execution_count": null,
   "metadata": {
    "colab": {
     "base_uri": "https://localhost:8080/"
    },
    "executionInfo": {
     "elapsed": 339,
     "status": "ok",
     "timestamp": 1708952449284,
     "user": {
      "displayName": "Ignacio Soteras",
      "userId": "02050793736257155229"
     },
     "user_tz": -60
    },
    "id": "6wPsnb3oSOPd",
    "outputId": "f45eb670-1641-4db7-be43-10121d8c0e7e"
   },
   "outputs": [],
   "source": [
    "list(titanic_df.columns)"
   ]
  },
  {
   "cell_type": "markdown",
   "metadata": {
    "id": "GDBORwvGSOPd"
   },
   "source": [
    "In Pandas, `df.values` is an attribute that returns the underlying NumPy array of a DataFrame df. It represents the actual data stored in the DataFrame as a two-dimensional NumPy array."
   ]
  },
  {
   "cell_type": "code",
   "execution_count": null,
   "metadata": {
    "colab": {
     "base_uri": "https://localhost:8080/",
     "height": 241
    },
    "executionInfo": {
     "elapsed": 51,
     "status": "ok",
     "timestamp": 1708952449284,
     "user": {
      "displayName": "Ignacio Soteras",
      "userId": "02050793736257155229"
     },
     "user_tz": -60
    },
    "id": "jGB5c0j6MC6d",
    "outputId": "10668c93-57a4-442c-b8ea-c537be55326c"
   },
   "outputs": [],
   "source": [
    "titanic_df.head(5)"
   ]
  },
  {
   "cell_type": "code",
   "execution_count": null,
   "metadata": {
    "colab": {
     "base_uri": "https://localhost:8080/"
    },
    "executionInfo": {
     "elapsed": 53,
     "status": "ok",
     "timestamp": 1708952449287,
     "user": {
      "displayName": "Ignacio Soteras",
      "userId": "02050793736257155229"
     },
     "user_tz": -60
    },
    "id": "IeX8xC08SOPe",
    "outputId": "c25fe1e2-b7b9-41ed-ad84-6f79e86624b0",
    "tags": []
   },
   "outputs": [],
   "source": [
    "titanic_df.values"
   ]
  },
  {
   "cell_type": "markdown",
   "metadata": {
    "id": "Qgr882OcSOPe"
   },
   "source": [
    "\n",
    "Additionally, `Pandas` can create Dataframes from other sources, such as JSON, URL ..."
   ]
  },
  {
   "cell_type": "markdown",
   "metadata": {
    "id": "5XTv-sV-SOPe"
   },
   "source": [
    "\n",
    "---\n",
    "## Data access in Dataframe\n"
   ]
  },
  {
   "cell_type": "markdown",
   "metadata": {
    "id": "4znM72BLSOPe"
   },
   "source": [
    "### Columns"
   ]
  },
  {
   "cell_type": "markdown",
   "metadata": {
    "id": "eA6gms82SOPe"
   },
   "source": [
    "You can extract columns from a `DataFrame` using dictionary-like notation or as attributes, obtaining a `Series` object in both cases, provided the column label is a valid Python identifier."
   ]
  },
  {
   "cell_type": "code",
   "execution_count": null,
   "metadata": {
    "colab": {
     "base_uri": "https://localhost:8080/"
    },
    "executionInfo": {
     "elapsed": 49,
     "status": "ok",
     "timestamp": 1708952449287,
     "user": {
      "displayName": "Ignacio Soteras",
      "userId": "02050793736257155229"
     },
     "user_tz": -60
    },
    "id": "_rE4Zh2MSOPe",
    "outputId": "d3979cda-8ccf-4b77-8ebb-d3256af63aa0",
    "tags": []
   },
   "outputs": [],
   "source": [
    "titanic_df[\"Sex\"] #dict way of accessing a column"
   ]
  },
  {
   "cell_type": "code",
   "execution_count": null,
   "metadata": {
    "colab": {
     "base_uri": "https://localhost:8080/"
    },
    "executionInfo": {
     "elapsed": 47,
     "status": "ok",
     "timestamp": 1708952449287,
     "user": {
      "displayName": "Ignacio Soteras",
      "userId": "02050793736257155229"
     },
     "user_tz": -60
    },
    "id": "-xVIRo0BSOPe",
    "outputId": "1489d808-baff-48b5-ae07-0f82f282a1af",
    "tags": []
   },
   "outputs": [],
   "source": [
    "titanic_df.Sex #attribute access of the column\n",
    "\n",
    "#this only works if the column name doesn't have unusual characters, this means\n",
    "#no spaces!!!"
   ]
  },
  {
   "cell_type": "code",
   "execution_count": null,
   "metadata": {
    "colab": {
     "base_uri": "https://localhost:8080/",
     "height": 423
    },
    "executionInfo": {
     "elapsed": 44,
     "status": "ok",
     "timestamp": 1708952449288,
     "user": {
      "displayName": "Ignacio Soteras",
      "userId": "02050793736257155229"
     },
     "user_tz": -60
    },
    "id": "hZg5NlTESOPe",
    "outputId": "f7b4ec2d-02c9-4f51-ab18-5864d5439855",
    "tags": []
   },
   "outputs": [],
   "source": [
    "titanic_df[[\"Sex\"]] #by using double [] we get a Dataframe instead\n",
    "# of a series"
   ]
  },
  {
   "cell_type": "code",
   "execution_count": null,
   "metadata": {
    "colab": {
     "base_uri": "https://localhost:8080/",
     "height": 423
    },
    "executionInfo": {
     "elapsed": 43,
     "status": "ok",
     "timestamp": 1708952449288,
     "user": {
      "displayName": "Ignacio Soteras",
      "userId": "02050793736257155229"
     },
     "user_tz": -60
    },
    "id": "bN-PVw6eSOPf",
    "outputId": "f0af8b27-8721-4b52-9f32-f3dc8e704a9a",
    "tags": []
   },
   "outputs": [],
   "source": [
    "titanic_df[[\"Sex\",\"Fare\"]]"
   ]
  },
  {
   "cell_type": "markdown",
   "metadata": {
    "id": "-OiJCRwpSOPf"
   },
   "source": [
    "### Rows"
   ]
  },
  {
   "cell_type": "markdown",
   "metadata": {
    "id": "VB78xp2GSOPf"
   },
   "source": [
    "To access rows in a Pandas DataFrame, you can use the `iloc` attribute with integer-based indexing or the `loc` attribute with label-based indexing. For example, `df.iloc[0]` will access the first row, and `df.loc['row_label']` will access the row with the specified label."
   ]
  },
  {
   "cell_type": "markdown",
   "metadata": {
    "id": "ZzOZ5K9uSOPf"
   },
   "source": [
    "\n",
    "<div class=\"alert alert-info\">Note: Consult http://pandas.pydata.org/pandas-docs/version/0.18.1/indexing.html#different-choices-for-indexing to understand the differences between methods.</div>"
   ]
  },
  {
   "cell_type": "markdown",
   "metadata": {
    "id": "2LVHSGnYSOPf"
   },
   "source": [
    "Just for the sake of this example, we will create a dictionary with a non-default index."
   ]
  },
  {
   "cell_type": "code",
   "execution_count": null,
   "metadata": {
    "colab": {
     "base_uri": "https://localhost:8080/",
     "height": 112
    },
    "executionInfo": {
     "elapsed": 42,
     "status": "ok",
     "timestamp": 1708952449288,
     "user": {
      "displayName": "Ignacio Soteras",
      "userId": "02050793736257155229"
     },
     "user_tz": -60
    },
    "id": "C61791UoSOPf",
    "outputId": "b2786ccf-316a-4ed8-fff6-e5254c202521"
   },
   "outputs": [],
   "source": [
    "d_index = {\n",
    "    \"name\": [\"Paula\", \"Mark\"],\n",
    "    \"score\": [98.5, 95]\n",
    "}\n",
    "\n",
    "df_index = pd.DataFrame(d_index, index=[\"123A\", \"789B\"])\n",
    "df_index"
   ]
  },
  {
   "cell_type": "markdown",
   "metadata": {
    "id": "A6TkK7OLSOPf"
   },
   "source": [
    "\n",
    "**loc** is used for label-based indexing to access rows."
   ]
  },
  {
   "cell_type": "code",
   "execution_count": null,
   "metadata": {
    "colab": {
     "base_uri": "https://localhost:8080/"
    },
    "executionInfo": {
     "elapsed": 41,
     "status": "ok",
     "timestamp": 1708952449288,
     "user": {
      "displayName": "Ignacio Soteras",
      "userId": "02050793736257155229"
     },
     "user_tz": -60
    },
    "id": "X5Hl5-6kSOPg",
    "outputId": "948065f3-3c79-4b91-9a55-6655c4bb6576"
   },
   "outputs": [],
   "source": [
    "df_index.loc[\"789B\"]"
   ]
  },
  {
   "cell_type": "markdown",
   "metadata": {
    "id": "NzZiBJaPSOPg"
   },
   "source": [
    "\n",
    "**iloc** is used for integer-based indexing in Pandas to access rows"
   ]
  },
  {
   "cell_type": "code",
   "execution_count": null,
   "metadata": {
    "colab": {
     "base_uri": "https://localhost:8080/"
    },
    "executionInfo": {
     "elapsed": 38,
     "status": "ok",
     "timestamp": 1708952449288,
     "user": {
      "displayName": "Ignacio Soteras",
      "userId": "02050793736257155229"
     },
     "user_tz": -60
    },
    "id": "U5mwXMpWSOPg",
    "outputId": "c5aae126-11a5-4528-e0e9-9c653fe7d501"
   },
   "outputs": [],
   "source": [
    "df_index.iloc[1]"
   ]
  },
  {
   "cell_type": "markdown",
   "metadata": {
    "id": "DywdLxv9SOPg"
   },
   "source": [
    "### Specific values"
   ]
  },
  {
   "cell_type": "markdown",
   "metadata": {
    "id": "slFgn-AbSOPg"
   },
   "source": [
    "Here's a summary of the different ways to access individual values in a Pandas DataFrame:\n",
    "\n",
    "1. `df.loc[row_label][column_label]`: Chooses the row with the label and then the value in that row with the column label.\n",
    "\n",
    "2. `df.iloc[row_position][column_label]`: Selects the row with the position and then the value in that row with the column label.\n",
    "\n",
    "3. `df.loc[row_label, column_label]`: Directly accesses the value using both row and column labels.\n",
    "\n",
    "4. `df.iloc[row_position, column_position]`: Directly accesses the value using both row and column positions.\n",
    "\n",
    "Note: you might see `df[row_label][column_label]`, even though is less recommended that using `loc()`."
   ]
  },
  {
   "cell_type": "code",
   "execution_count": null,
   "metadata": {
    "colab": {
     "base_uri": "https://localhost:8080/"
    },
    "executionInfo": {
     "elapsed": 36,
     "status": "ok",
     "timestamp": 1708952449288,
     "user": {
      "displayName": "Ignacio Soteras",
      "userId": "02050793736257155229"
     },
     "user_tz": -60
    },
    "id": "PEYSZrM8SOPg",
    "outputId": "795274a4-203d-40be-f6f8-29fcbc459061"
   },
   "outputs": [],
   "source": [
    "# first I access the row with the index, then I access the value\n",
    "# with the index of the resulting series (name of the column)\n",
    "df_index.iloc[0][\"score\"]"
   ]
  },
  {
   "cell_type": "code",
   "execution_count": null,
   "metadata": {
    "colab": {
     "base_uri": "https://localhost:8080/"
    },
    "executionInfo": {
     "elapsed": 33,
     "status": "ok",
     "timestamp": 1708952449288,
     "user": {
      "displayName": "Ignacio Soteras",
      "userId": "02050793736257155229"
     },
     "user_tz": -60
    },
    "id": "LaWWYrRFSOPg",
    "outputId": "1645a7f3-10bf-446f-be1e-ed4bdf8e636d"
   },
   "outputs": [],
   "source": [
    "# first I access the row with the label, then I access the value\n",
    "# with the index of the resulting series (name of the column)\n",
    "df_index.loc[\"789B\"][\"score\"]"
   ]
  },
  {
   "cell_type": "code",
   "execution_count": null,
   "metadata": {
    "colab": {
     "base_uri": "https://localhost:8080/"
    },
    "executionInfo": {
     "elapsed": 31,
     "status": "ok",
     "timestamp": 1708952449289,
     "user": {
      "displayName": "Ignacio Soteras",
      "userId": "02050793736257155229"
     },
     "user_tz": -60
    },
    "id": "54lJAv7aSOPh",
    "outputId": "be1ac721-cc30-4a5c-e2c6-83594a235bfa"
   },
   "outputs": [],
   "source": [
    "df_index.loc[\"789B\",\"score\"]"
   ]
  },
  {
   "cell_type": "markdown",
   "metadata": {
    "id": "OtO3VQbSSOPi"
   },
   "source": [
    "\n",
    "---\n",
    "## More DataFrame Methods\n",
    "\n",
    "\n",
    "Let's see some useful methods of the Dataframe class."
   ]
  },
  {
   "cell_type": "markdown",
   "metadata": {
    "id": "M3_UXLhtSOPi"
   },
   "source": [
    "### `shape`\n",
    "\n",
    "`shape` is a Pandas attribute that returns a tuple representing the dimensions of a DataFrame or Series, indicating the number of rows and columns, while `shape()` is not a valid function in Pandas, and attempting to call it will result in an AttributeError."
   ]
  },
  {
   "cell_type": "code",
   "execution_count": null,
   "metadata": {
    "colab": {
     "base_uri": "https://localhost:8080/"
    },
    "executionInfo": {
     "elapsed": 28,
     "status": "ok",
     "timestamp": 1708952449289,
     "user": {
      "displayName": "Ignacio Soteras",
      "userId": "02050793736257155229"
     },
     "user_tz": -60
    },
    "id": "AjCrPIt8SOPj",
    "outputId": "7fd66301-dd02-4376-f8be-ea2139fc0521"
   },
   "outputs": [],
   "source": [
    "titanic_df.shape # gives a tuple (nr rows, nr columns)"
   ]
  },
  {
   "cell_type": "code",
   "execution_count": null,
   "metadata": {
    "colab": {
     "base_uri": "https://localhost:8080/"
    },
    "executionInfo": {
     "elapsed": 25,
     "status": "ok",
     "timestamp": 1708952449289,
     "user": {
      "displayName": "Ignacio Soteras",
      "userId": "02050793736257155229"
     },
     "user_tz": -60
    },
    "id": "7-BE0HxKSOPj",
    "outputId": "02cddf0f-02ff-4453-de3b-006571f949e7"
   },
   "outputs": [],
   "source": [
    "titanic_df.shape[1] #tuples are accesed like this. nr of columns"
   ]
  },
  {
   "cell_type": "code",
   "execution_count": null,
   "metadata": {
    "colab": {
     "base_uri": "https://localhost:8080/"
    },
    "executionInfo": {
     "elapsed": 24,
     "status": "ok",
     "timestamp": 1708952449290,
     "user": {
      "displayName": "Ignacio Soteras",
      "userId": "02050793736257155229"
     },
     "user_tz": -60
    },
    "id": "V1V74sd-SOPj",
    "outputId": "030b8980-d54e-4ab5-f0c9-bb51f105a022"
   },
   "outputs": [],
   "source": [
    "titanic_df.shape[0] # nr of rows"
   ]
  },
  {
   "cell_type": "markdown",
   "metadata": {
    "id": "YNZQbNgQSOPj"
   },
   "source": [
    "### `describe()`\n",
    "\n",
    "`describe()` is a Pandas method that generates descriptive statistics of a DataFrame, providing information on count, mean, standard deviation, minimum, maximum, and quartiles for each numerical column."
   ]
  },
  {
   "cell_type": "code",
   "execution_count": null,
   "metadata": {
    "colab": {
     "base_uri": "https://localhost:8080/",
     "height": 300
    },
    "executionInfo": {
     "elapsed": 321,
     "status": "ok",
     "timestamp": 1708952449589,
     "user": {
      "displayName": "Ignacio Soteras",
      "userId": "02050793736257155229"
     },
     "user_tz": -60
    },
    "id": "vJXbXx9iSOPk",
    "outputId": "d95b6fe1-96e9-4b3b-ada8-1715f45b2ce8"
   },
   "outputs": [],
   "source": [
    "titanic_df.describe()"
   ]
  },
  {
   "cell_type": "code",
   "execution_count": null,
   "metadata": {
    "colab": {
     "base_uri": "https://localhost:8080/",
     "height": 175
    },
    "executionInfo": {
     "elapsed": 21,
     "status": "ok",
     "timestamp": 1708952449589,
     "user": {
      "displayName": "Ignacio Soteras",
      "userId": "02050793736257155229"
     },
     "user_tz": -60
    },
    "id": "-sv4wz4RSOPk",
    "outputId": "32ed2a96-d46e-496a-978e-f6908d21795c"
   },
   "outputs": [],
   "source": [
    "titanic_df.describe(include=\"object\")"
   ]
  },
  {
   "cell_type": "code",
   "execution_count": null,
   "metadata": {
    "colab": {
     "base_uri": "https://localhost:8080/",
     "height": 394
    },
    "executionInfo": {
     "elapsed": 20,
     "status": "ok",
     "timestamp": 1708952449589,
     "user": {
      "displayName": "Ignacio Soteras",
      "userId": "02050793736257155229"
     },
     "user_tz": -60
    },
    "id": "QWZCXC5CSOPk",
    "outputId": "78a55633-16b4-4099-aa6b-28e030bcbcb9"
   },
   "outputs": [],
   "source": [
    "titanic_df.describe(include=\"all\")"
   ]
  },
  {
   "cell_type": "markdown",
   "metadata": {
    "id": "Za8beeZKSOPk"
   },
   "source": [
    "### `info()`\n",
    "\n",
    "`info()` is a Pandas method that provides a concise summary of a DataFrame, including information about the data types, non-null values, and memory usage."
   ]
  },
  {
   "cell_type": "code",
   "execution_count": null,
   "metadata": {
    "colab": {
     "base_uri": "https://localhost:8080/"
    },
    "executionInfo": {
     "elapsed": 371,
     "status": "ok",
     "timestamp": 1708952449943,
     "user": {
      "displayName": "Ignacio Soteras",
      "userId": "02050793736257155229"
     },
     "user_tz": -60
    },
    "id": "YJr-xeuvSOPk",
    "outputId": "58dabf48-0d5b-4986-b6db-477384d48a0a"
   },
   "outputs": [],
   "source": [
    "titanic_df.info()"
   ]
  },
  {
   "cell_type": "markdown",
   "metadata": {
    "id": "_Q7A8NksSOPk"
   },
   "source": [
    "### `nunique() and unique()`\n",
    "\n",
    "`nunique()` is a Pandas function that returns the number of unique elements in a Series or DataFrame, while `unique()` returns an array of unique elements in a Series or DataFrame."
   ]
  },
  {
   "cell_type": "code",
   "execution_count": null,
   "metadata": {
    "colab": {
     "base_uri": "https://localhost:8080/"
    },
    "executionInfo": {
     "elapsed": 18,
     "status": "ok",
     "timestamp": 1708952449944,
     "user": {
      "displayName": "Ignacio Soteras",
      "userId": "02050793736257155229"
     },
     "user_tz": -60
    },
    "id": "aoR62Hp3SOPk",
    "outputId": "5db48518-054c-42b2-851b-9191f9b5ee97"
   },
   "outputs": [],
   "source": [
    "titanic_df.nunique() #number of unique values per column"
   ]
  },
  {
   "cell_type": "code",
   "execution_count": null,
   "metadata": {
    "colab": {
     "base_uri": "https://localhost:8080/"
    },
    "executionInfo": {
     "elapsed": 15,
     "status": "ok",
     "timestamp": 1708952449944,
     "user": {
      "displayName": "Ignacio Soteras",
      "userId": "02050793736257155229"
     },
     "user_tz": -60
    },
    "id": "midngN5LSOPk",
    "outputId": "e9e4e866-4b07-4f97-f7f5-976e740bcdb8",
    "tags": []
   },
   "outputs": [],
   "source": [
    "#see unique values of one column\n",
    "titanic_df.Pclass.unique()"
   ]
  },
  {
   "cell_type": "markdown",
   "metadata": {
    "id": "cWN7tx0qSOPk"
   },
   "source": [
    "### `dtypes`"
   ]
  },
  {
   "cell_type": "markdown",
   "metadata": {
    "id": "dRvC7Hb-SOPk"
   },
   "source": [
    "`dtypes` is a Pandas attribute that returns the data types of each column in a DataFrame, while `dtype` is a method that returns the data type of a single element in a Series or DataFrame."
   ]
  },
  {
   "cell_type": "code",
   "execution_count": null,
   "metadata": {
    "colab": {
     "base_uri": "https://localhost:8080/"
    },
    "executionInfo": {
     "elapsed": 11,
     "status": "ok",
     "timestamp": 1708952449944,
     "user": {
      "displayName": "Ignacio Soteras",
      "userId": "02050793736257155229"
     },
     "user_tz": -60
    },
    "id": "7nbFD_5pSOPk",
    "outputId": "04adf3c2-b4ba-4c2d-8f8b-e5072ad88693",
    "tags": []
   },
   "outputs": [],
   "source": [
    "titanic_df.dtypes"
   ]
  },
  {
   "cell_type": "markdown",
   "metadata": {
    "id": "-zfefcKcSOPk"
   },
   "source": [
    "### `select_dtypes()`"
   ]
  },
  {
   "cell_type": "markdown",
   "metadata": {
    "id": "CVvE5GyCSOPk"
   },
   "source": [
    "`select_dtypes()` is a pandas function used to filter columns in a DataFrame based on their data types. It allows you to select numeric, object (string), boolean, datetime, or categorical columns.\n",
    "\n",
    "Syntax:\n",
    "```python\n",
    "DataFrame.select_dtypes(include=None, exclude=None)\n",
    "```\n",
    "\n",
    "- `include`: A list of data types or strings representing data types to include in the selection. If specified, only columns with these data types will be included.\n",
    "- `exclude`: A list of data types or strings representing data types to exclude from the selection. If specified, columns with these data types will be excluded.\n",
    "\n",
    "Example:\n",
    "```python\n",
    "# Assuming df is a DataFrame\n",
    "numeric_columns = df.select_dtypes(include='number')\n",
    "object_columns = df.select_dtypes(include='object')\n",
    "```\n",
    "\n"
   ]
  },
  {
   "cell_type": "code",
   "execution_count": null,
   "metadata": {
    "colab": {
     "base_uri": "https://localhost:8080/",
     "height": 423
    },
    "executionInfo": {
     "elapsed": 8,
     "status": "ok",
     "timestamp": 1708952449944,
     "user": {
      "displayName": "Ignacio Soteras",
      "userId": "02050793736257155229"
     },
     "user_tz": -60
    },
    "id": "2ZG8Dvi5SNM9",
    "outputId": "19fa6503-dd47-4879-d133-02621a3e525f"
   },
   "outputs": [],
   "source": [
    "titanic_df.select_dtypes(include=['int','float'])"
   ]
  },
  {
   "cell_type": "code",
   "execution_count": null,
   "metadata": {
    "colab": {
     "base_uri": "https://localhost:8080/",
     "height": 206
    },
    "executionInfo": {
     "elapsed": 287,
     "status": "ok",
     "timestamp": 1708948736742,
     "user": {
      "displayName": "Ignacio Soteras",
      "userId": "02050793736257155229"
     },
     "user_tz": -60
    },
    "id": "nBud_HRWSOPk",
    "outputId": "cbb4435c-7f94-4c79-dc34-a0ecf29c7099"
   },
   "outputs": [],
   "source": [
    "titanic_df.select_dtypes(include='number').head()"
   ]
  },
  {
   "cell_type": "markdown",
   "metadata": {
    "id": "pkNwCYvWSOPl"
   },
   "source": [
    "### Aggregation such as `max()`"
   ]
  },
  {
   "cell_type": "code",
   "execution_count": null,
   "metadata": {
    "colab": {
     "base_uri": "https://localhost:8080/"
    },
    "executionInfo": {
     "elapsed": 260,
     "status": "ok",
     "timestamp": 1708952713521,
     "user": {
      "displayName": "Ignacio Soteras",
      "userId": "02050793736257155229"
     },
     "user_tz": -60
    },
    "id": "yVRE9IwkSOPl",
    "outputId": "5c92b043-ef61-4001-8368-4f593fc6ae11"
   },
   "outputs": [],
   "source": [
    "titanic_df.select_dtypes(include='number').max() #get the max for each numerical column in the df"
   ]
  },
  {
   "cell_type": "code",
   "execution_count": null,
   "metadata": {
    "colab": {
     "base_uri": "https://localhost:8080/"
    },
    "executionInfo": {
     "elapsed": 443,
     "status": "ok",
     "timestamp": 1708952755738,
     "user": {
      "displayName": "Ignacio Soteras",
      "userId": "02050793736257155229"
     },
     "user_tz": -60
    },
    "id": "HXSvfeOcSOPl",
    "outputId": "691c3112-8fc0-456d-bb5a-26ef235810bf"
   },
   "outputs": [],
   "source": [
    "titanic_df[\"Fare\"].max() #get the max for one numerical column"
   ]
  },
  {
   "cell_type": "markdown",
   "metadata": {
    "id": "_iIlze2tSOPl"
   },
   "source": [
    " Just like `max()`, there are many methods that can be applied to either the entire dataframe or its individual columns."
   ]
  },
  {
   "cell_type": "markdown",
   "metadata": {
    "id": "vdOGkwpwSOPl"
   },
   "source": [
    "## 💡 Check for understanding"
   ]
  },
  {
   "cell_type": "markdown",
   "metadata": {
    "id": "ZMhWdj2NSOPl"
   },
   "source": [
    "- a. Use the original titanic_df\n",
    "- b. Select the `Sex` and `Fare` columns.\n",
    "- c. Indicate how many different types of `Sex` there are.\n",
    "- d. Indicate how many `Sex` of each type there are.\n",
    "- e. Show a statistical summary of all the variables.\n",
    "- f. Write some conclusions"
   ]
  },
  {
   "cell_type": "code",
   "execution_count": null,
   "metadata": {
    "colab": {
     "base_uri": "https://localhost:8080/",
     "height": 423
    },
    "executionInfo": {
     "elapsed": 409,
     "status": "ok",
     "timestamp": 1708954335839,
     "user": {
      "displayName": "Ignacio Soteras",
      "userId": "02050793736257155229"
     },
     "user_tz": -60
    },
    "id": "TDZ-NcR_SOPl",
    "outputId": "68e64a22-a3ea-4b7d-e262-4d192ddfc921"
   },
   "outputs": [],
   "source": [
    "# Your code here\n",
    "# b.\n",
    "titanic_df[[\"Sex\",\"Fare\"]]"
   ]
  },
  {
   "cell_type": "code",
   "execution_count": null,
   "metadata": {
    "colab": {
     "base_uri": "https://localhost:8080/"
    },
    "executionInfo": {
     "elapsed": 263,
     "status": "ok",
     "timestamp": 1708954369582,
     "user": {
      "displayName": "Ignacio Soteras",
      "userId": "02050793736257155229"
     },
     "user_tz": -60
    },
    "id": "OsQlwqP8nc3u",
    "outputId": "f109a895-7c67-4921-f916-7b0019c13fc9"
   },
   "outputs": [],
   "source": [
    "# c.\n",
    "titanic_df['Sex'].nunique()"
   ]
  },
  {
   "cell_type": "code",
   "execution_count": null,
   "metadata": {
    "colab": {
     "base_uri": "https://localhost:8080/"
    },
    "executionInfo": {
     "elapsed": 257,
     "status": "ok",
     "timestamp": 1708954397511,
     "user": {
      "displayName": "Ignacio Soteras",
      "userId": "02050793736257155229"
     },
     "user_tz": -60
    },
    "id": "NbegkQ6AnksV",
    "outputId": "12d97b35-016f-4042-979e-78b72c1462ec"
   },
   "outputs": [],
   "source": [
    "# d.\n",
    "titanic_df['Sex'].value_counts()"
   ]
  },
  {
   "cell_type": "code",
   "execution_count": null,
   "metadata": {
    "colab": {
     "base_uri": "https://localhost:8080/",
     "height": 394
    },
    "executionInfo": {
     "elapsed": 255,
     "status": "ok",
     "timestamp": 1708954436804,
     "user": {
      "displayName": "Ignacio Soteras",
      "userId": "02050793736257155229"
     },
     "user_tz": -60
    },
    "id": "G5xtWit4ntuQ",
    "outputId": "c15e3900-2f7a-4904-8add-1336c82134e2"
   },
   "outputs": [],
   "source": [
    "# e.\n",
    "titanic_df.describe(include='all')"
   ]
  },
  {
   "cell_type": "markdown",
   "metadata": {
    "id": "d3CRY6dISOPl"
   },
   "source": [
    "# Summary"
   ]
  },
  {
   "cell_type": "markdown",
   "metadata": {
    "id": "9yHti1qJSOPl"
   },
   "source": [
    "- Pandas is a library designed for working with tabulated and tagged data, making it ideal for handling spreadsheets, SQL tables, and more, built on top of NumPy.\n",
    "- DataFrames and Series are the two main data structures in Pandas.\n",
    "- Series is a one-dimensional array of data with associated labels called the index, while DataFrame is a two-dimensional tabular data structure with labeled rows and columns.\n",
    "- Data access in Series and DataFrame can be achieved using integer-based indexing (iloc), label-based indexing (loc), or dictionary-like notation for column access.\n",
    "- Series and DataFrame have various methods, such as sort_values(), sort_index(), value_counts(), describe(), info(), nunique(), unique(), dtypes, and select_dtypes().\n"
   ]
  },
  {
   "cell_type": "markdown",
   "metadata": {
    "id": "guuXoM5NSOPl"
   },
   "source": [
    "# Extra: Creating Dataframes from a Dictionary"
   ]
  },
  {
   "cell_type": "code",
   "execution_count": null,
   "metadata": {
    "colab": {
     "base_uri": "https://localhost:8080/",
     "height": 206
    },
    "executionInfo": {
     "elapsed": 343,
     "status": "ok",
     "timestamp": 1708954859017,
     "user": {
      "displayName": "Ignacio Soteras",
      "userId": "02050793736257155229"
     },
     "user_tz": -60
    },
    "id": "oELQJTYWSOPl",
    "outputId": "707a7e37-fb58-46a7-93d4-81d6dc18faad"
   },
   "outputs": [],
   "source": [
    "# Create a Dataframe from a dictionary with\n",
    "# automatic indexes\n",
    "\n",
    "d = {\"state\": [\"Ohio\", \"Ohio\", \"California\", \"Nevada\", \"California\"],\n",
    "     \"year\": [2000, 2001, 2002, 2001, 2002],\n",
    "     \"avg\": [1.5, 1.7, 3.6, 2.4, 1.9]\n",
    "}\n",
    "\n",
    "df = pd.DataFrame(d)\n",
    "df"
   ]
  },
  {
   "cell_type": "markdown",
   "metadata": {
    "id": "Kr4sdczzSOPl"
   },
   "source": [
    "\n",
    "DataFrame from a dictionary of lists and indexes"
   ]
  },
  {
   "cell_type": "code",
   "execution_count": null,
   "metadata": {
    "colab": {
     "base_uri": "https://localhost:8080/",
     "height": 112
    },
    "executionInfo": {
     "elapsed": 309,
     "status": "ok",
     "timestamp": 1708954909579,
     "user": {
      "displayName": "Ignacio Soteras",
      "userId": "02050793736257155229"
     },
     "user_tz": -60
    },
    "id": "_zyI42W2SOPm",
    "outputId": "22b2b73a-28be-451c-fb84-9f51d89137fb",
    "tags": []
   },
   "outputs": [],
   "source": [
    "d_index = {\n",
    "    \"name\": [\"Paula\", \"Mark\"],\n",
    "    \"score\": [98.5, 95]\n",
    "}\n",
    "\n",
    "df_index = pd.DataFrame(d_index, index=[\"123A\", \"789B\"])\n",
    "df_index"
   ]
  },
  {
   "cell_type": "markdown",
   "metadata": {
    "id": "WC8KtnzySOPm"
   },
   "source": [
    "# Extra: pickle"
   ]
  },
  {
   "cell_type": "markdown",
   "metadata": {
    "id": "HTSNoyGCSOPm"
   },
   "source": [
    "Pandas `pickle` function provides a convenient way to save and load Python objects, including DataFrames, to and from disk. Pickling allows you to serialize Python objects into a binary format, making it easy to store large datasets or complex data structures. It's a great tool for saving and restoring your work, especially when dealing with large datasets that might take a long time to process or recreate.\n",
    "\n",
    "## Saving DataFrames with Pickle\n",
    "\n",
    "You can use the `to_pickle()` method in pandas to save a DataFrame to a pickle file. This method takes the file path as an argument and creates a binary representation of the DataFrame, which is then saved to the specified file."
   ]
  },
  {
   "cell_type": "code",
   "execution_count": null,
   "metadata": {
    "executionInfo": {
     "elapsed": 278,
     "status": "ok",
     "timestamp": 1708954998297,
     "user": {
      "displayName": "Ignacio Soteras",
      "userId": "02050793736257155229"
     },
     "user_tz": -60
    },
    "id": "mgQVuRKtSOPm"
   },
   "outputs": [],
   "source": [
    "import pandas as pd\n",
    "\n",
    "# Assuming df is your DataFrame\n",
    "df.to_pickle('data.pkl') # data.pkl / data.pickle"
   ]
  },
  {
   "cell_type": "markdown",
   "metadata": {
    "id": "LCEl-ifOSOPm"
   },
   "source": [
    "## Loading DataFrames from Pickle\n",
    "\n",
    "To load a DataFrame from a pickle file, you can use the `read_pickle()` function in pandas. This function reads the binary data from the pickle file and converts it back into a DataFrame.\n"
   ]
  },
  {
   "cell_type": "code",
   "execution_count": null,
   "metadata": {
    "executionInfo": {
     "elapsed": 263,
     "status": "ok",
     "timestamp": 1708955354403,
     "user": {
      "displayName": "Ignacio Soteras",
      "userId": "02050793736257155229"
     },
     "user_tz": -60
    },
    "id": "6zJhAdgQSOPm"
   },
   "outputs": [],
   "source": [
    "import pandas as pd\n",
    "\n",
    "# Load DataFrame from pickle file\n",
    "df = pd.read_pickle('data.pkl')"
   ]
  }
 ],
 "metadata": {
  "colab": {
   "provenance": []
  },
  "kernelspec": {
   "display_name": "Python 3 (ipykernel)",
   "language": "python",
   "name": "python3"
  },
  "language_info": {
   "codemirror_mode": {
    "name": "ipython",
    "version": 3
   },
   "file_extension": ".py",
   "mimetype": "text/x-python",
   "name": "python",
   "nbconvert_exporter": "python",
   "pygments_lexer": "ipython3",
   "version": "3.11.8"
  },
  "toc": {
   "base_numbering": 1,
   "nav_menu": {},
   "number_sections": true,
   "sideBar": false,
   "skip_h1_title": false,
   "title_cell": "Table of Contents",
   "title_sidebar": "Contents",
   "toc_cell": true,
   "toc_position": {
    "height": "537.273px",
    "left": "356px",
    "top": "130.994px",
    "width": "285.994px"
   },
   "toc_section_display": true,
   "toc_window_display": true
  }
 },
 "nbformat": 4,
 "nbformat_minor": 4
}
