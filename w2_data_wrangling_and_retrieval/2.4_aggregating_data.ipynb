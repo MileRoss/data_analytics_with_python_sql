{
 "cells": [
  {
   "cell_type": "markdown",
   "metadata": {
    "id": "Im8VX9Pk2iGG",
    "toc": true
   },
   "source": [
    "# Table of Contents\n",
    "1. [Data Aggregation and Grouping](#data-aggregation-and-grouping)\n",
    "   1. [Aggregation](#aggregation)\n",
    "   2. [Grouping](#grouping)\n",
    "      1. [Iterating GroupBy object](#iterating-groupby-object)\n",
    "      2. [groups](#groups)\n",
    "      3. [size](#size)\n",
    "      4. [get_group()](#get_group)\n",
    "      5. [Applying aggregations](#applying-aggregations)\n",
    "      6. [Multiple Aggregations](#multiple-aggregations)\n",
    "      7. [Grouping by Multiple Variables](#grouping-by-multiple-variables)\n",
    "2. [Summary](#summary)\n",
    "   1. [💡 Check for understanding](#check-for-understanding)"
   ]
  },
  {
   "cell_type": "markdown",
   "metadata": {
    "id": "SxZC8DNi2iGK"
   },
   "source": [
    "# Data Aggregation and Grouping\n",
    "\n",
    "Data aggregation and grouping are fundamental operations in data analysis. They involve combining multiple pieces of data into a single result. For instance, you may want to group data by certain variables and then calculate summary statistics like count, mean, sum, or standard deviation."
   ]
  },
  {
   "cell_type": "code",
   "execution_count": null,
   "metadata": {
    "colab": {
     "base_uri": "https://localhost:8080/",
     "height": 241
    },
    "executionInfo": {
     "elapsed": 1066,
     "status": "ok",
     "timestamp": 1709118817259,
     "user": {
      "displayName": "Ignacio Soteras",
      "userId": "02050793736257155229"
     },
     "user_tz": -60
    },
    "id": "RNCJpLK-2iGK",
    "outputId": "1b5510fd-5252-4896-a42c-cb65654e1494"
   },
   "outputs": [],
   "source": [
    "import pandas as pd\n",
    "\n",
    "# Load the dataset\n",
    "url = 'https://raw.githubusercontent.com/data-bootcamp-v4/data/main/titanic_train.csv'\n",
    "df = pd.read_csv(url)\n",
    "\n",
    "# Display the first few rows of the DataFrame\n",
    "df.head()"
   ]
  },
  {
   "cell_type": "markdown",
   "metadata": {
    "id": "uJBZDX0A2iGM"
   },
   "source": [
    "## Aggregation\n",
    "\n",
    "Aggregation in pandas involves applying a function to a dataset, transforming multiple values into a single value. pandas provides various aggregation functions, including:\n",
    "\n",
    "- `mean()`: Compute the arithmetic mean.\n",
    "- `sum()`: Compute the sum of values.\n",
    "- `min()`: Compute the minimum value.\n",
    "- `max()`: Compute the maximum value.\n",
    "- `count()`: Count the number of non-null values.\n",
    "- `std()`: Compute the standard deviation.\n",
    "\n",
    "For instance, to find the mean value of a numerical column, use the `mean()` function:"
   ]
  },
  {
   "cell_type": "code",
   "execution_count": null,
   "metadata": {
    "colab": {
     "base_uri": "https://localhost:8080/"
    },
    "executionInfo": {
     "elapsed": 349,
     "status": "ok",
     "timestamp": 1709118843077,
     "user": {
      "displayName": "Ignacio Soteras",
      "userId": "02050793736257155229"
     },
     "user_tz": -60
    },
    "id": "fIyqrWwB2iGM",
    "outputId": "639d2536-ed53-4bd8-d736-c98954006261"
   },
   "outputs": [],
   "source": [
    "df['Fare'].mean()"
   ]
  },
  {
   "cell_type": "markdown",
   "metadata": {
    "id": "DaWM9u_R2iGM"
   },
   "source": [
    "## Grouping\n",
    "\n",
    "Grouping is the process of splitting the data into groups based on certain criteria. The `groupby()` function is used for this purpose."
   ]
  },
  {
   "cell_type": "code",
   "execution_count": null,
   "metadata": {
    "colab": {
     "base_uri": "https://localhost:8080/"
    },
    "executionInfo": {
     "elapsed": 275,
     "status": "ok",
     "timestamp": 1709119124495,
     "user": {
      "displayName": "Ignacio Soteras",
      "userId": "02050793736257155229"
     },
     "user_tz": -60
    },
    "id": "vG1qcoDS2iGN",
    "outputId": "25526016-ea26-45fb-b6ae-4018fc3ab35a"
   },
   "outputs": [],
   "source": [
    "grouped = df.groupby('Sex')\n",
    "grouped"
   ]
  },
  {
   "cell_type": "markdown",
   "metadata": {
    "id": "xCKp1N4r2iGN"
   },
   "source": [
    "### Iterating GroupBy object"
   ]
  },
  {
   "cell_type": "markdown",
   "metadata": {
    "id": "zmSo4ge92iGN"
   },
   "source": [
    "The `groupby()` function in pandas returns a `GroupBy` object that can be iterated over. Each iteration provides a tuple where the first item is the group identifier and the second item is the data in that group as a DataFrame."
   ]
  },
  {
   "cell_type": "code",
   "execution_count": null,
   "metadata": {
    "colab": {
     "base_uri": "https://localhost:8080/",
     "height": 917
    },
    "executionInfo": {
     "elapsed": 257,
     "status": "ok",
     "timestamp": 1709119169329,
     "user": {
      "displayName": "Ignacio Soteras",
      "userId": "02050793736257155229"
     },
     "user_tz": -60
    },
    "id": "iyjKazww2iGN",
    "outputId": "92c4b688-12ae-4f7c-bcc2-540387662e47"
   },
   "outputs": [],
   "source": [
    "# Iterate over each group\n",
    "for name, group in grouped:\n",
    "    print(f\"Group name: {name}\")\n",
    "    display(group)"
   ]
  },
  {
   "cell_type": "code",
   "execution_count": null,
   "metadata": {
    "colab": {
     "base_uri": "https://localhost:8080/"
    },
    "executionInfo": {
     "elapsed": 278,
     "status": "ok",
     "timestamp": 1709119237159,
     "user": {
      "displayName": "Ignacio Soteras",
      "userId": "02050793736257155229"
     },
     "user_tz": -60
    },
    "id": "Z5Ttj87Y2iGO",
    "outputId": "3480b947-0583-481f-ef82-d511681c86be"
   },
   "outputs": [],
   "source": [
    "# The number of groups by gender (`len(grouped)`) is equal to the number of unique elements in that category.\n",
    "\n",
    "df['Sex'].nunique() == len(grouped)"
   ]
  },
  {
   "cell_type": "markdown",
   "metadata": {
    "id": "Z0h-OA0z2iGO"
   },
   "source": [
    "### `groups`\n",
    "The `groups` attribute of a pandas `GroupBy` object is a dictionary. The keys of this dictionary are the computed unique groups and the corresponding values are the axis labels belonging to each group."
   ]
  },
  {
   "cell_type": "code",
   "execution_count": null,
   "metadata": {
    "colab": {
     "base_uri": "https://localhost:8080/"
    },
    "executionInfo": {
     "elapsed": 634,
     "status": "ok",
     "timestamp": 1709119252064,
     "user": {
      "displayName": "Ignacio Soteras",
      "userId": "02050793736257155229"
     },
     "user_tz": -60
    },
    "id": "D2HN80M02iGP",
    "outputId": "f5427ed3-1114-4db3-cb9e-e4adc74b7e50"
   },
   "outputs": [],
   "source": [
    "grouped.groups"
   ]
  },
  {
   "cell_type": "markdown",
   "metadata": {
    "id": "1X7Wzsg02iGP"
   },
   "source": [
    "### `size`\n",
    "\n",
    "The `size` attribute of a pandas `GroupBy` object returns a Series giving the size (i.e., the number of items) of each group. This is like applying the `count()` function to each group, but `size` includes `NaN` values and `count` does not.\n",
    "\n"
   ]
  },
  {
   "cell_type": "code",
   "execution_count": null,
   "metadata": {
    "colab": {
     "base_uri": "https://localhost:8080/"
    },
    "executionInfo": {
     "elapsed": 301,
     "status": "ok",
     "timestamp": 1709119266793,
     "user": {
      "displayName": "Ignacio Soteras",
      "userId": "02050793736257155229"
     },
     "user_tz": -60
    },
    "id": "rD4ZAUWq2iGP",
    "outputId": "b500ac0a-7228-4966-fbc4-13925e068254"
   },
   "outputs": [],
   "source": [
    "grouped.count()"
   ]
  },
  {
   "cell_type": "code",
   "execution_count": null,
   "metadata": {},
   "outputs": [],
   "source": [
    "grouped.size()"
   ]
  },
  {
   "cell_type": "markdown",
   "metadata": {
    "id": "XhSXrTCK2iGP"
   },
   "source": [
    "### `get_group()`\n",
    "\n",
    "The `get_group` method is used to select a single group from a `GroupBy` object as a DataFrame. You provide the name of the group you want to select as an argument."
   ]
  },
  {
   "cell_type": "code",
   "execution_count": null,
   "metadata": {
    "colab": {
     "base_uri": "https://localhost:8080/",
     "height": 258
    },
    "executionInfo": {
     "elapsed": 253,
     "status": "ok",
     "timestamp": 1709119326165,
     "user": {
      "displayName": "Ignacio Soteras",
      "userId": "02050793736257155229"
     },
     "user_tz": -60
    },
    "id": "64mdqJG82iGQ",
    "outputId": "bd892ce2-71b5-4bb9-8c1d-b70a6ecc9842"
   },
   "outputs": [],
   "source": [
    "grouped.get_group('female').head()"
   ]
  },
  {
   "cell_type": "markdown",
   "metadata": {
    "id": "P483OtAm2iGQ"
   },
   "source": [
    "### Applying aggregations"
   ]
  },
  {
   "cell_type": "markdown",
   "metadata": {
    "id": "N3JnibGB2iGQ"
   },
   "source": [
    "Once the data is split into groups, you need a way to represent each group in the resulting output. That's where aggregation functions come in.\n",
    "\n",
    "For example, if you group a DataFrame by a categorical variable (like 'City'), you'll end up with a separate group for each unique city in your data. But how do you want to represent each city in your result? Do you want the mean of another variable (like 'Sales') for each city? The sum? The maximum? This is what the aggregation function determines.\n",
    "\n",
    "When you apply an aggregation function after a `groupby()`, pandas applies that function to each group separately and then combines the results into a new DataFrame."
   ]
  },
  {
   "cell_type": "code",
   "execution_count": null,
   "metadata": {
    "colab": {
     "base_uri": "https://localhost:8080/",
     "height": 143
    },
    "executionInfo": {
     "elapsed": 237,
     "status": "ok",
     "timestamp": 1709119828254,
     "user": {
      "displayName": "Ignacio Soteras",
      "userId": "02050793736257155229"
     },
     "user_tz": -60
    },
    "id": "0Ddd312M2iGQ",
    "outputId": "323da60f-ec6e-4f6c-9e01-2d4a0f886127"
   },
   "outputs": [],
   "source": [
    "import numpy as np\n",
    "\n",
    "numeric_columns = df.select_dtypes('number').columns\n",
    "df.groupby('Sex')[numeric_columns].mean() # Get the mean of each variable grouped by Sex"
   ]
  },
  {
   "cell_type": "code",
   "execution_count": null,
   "metadata": {
    "colab": {
     "base_uri": "https://localhost:8080/"
    },
    "executionInfo": {
     "elapsed": 267,
     "status": "ok",
     "timestamp": 1709119848747,
     "user": {
      "displayName": "Ignacio Soteras",
      "userId": "02050793736257155229"
     },
     "user_tz": -60
    },
    "id": "WdDDhX5N2iGQ",
    "outputId": "42172762-4e78-486c-ebfa-e17e94f17958"
   },
   "outputs": [],
   "source": [
    "# Let's find the average age of the passengers grouped by their gender\n",
    "\n",
    "df.groupby('Sex')['Age'].mean()"
   ]
  },
  {
   "cell_type": "markdown",
   "metadata": {
    "id": "ZRXFD6Ux2iGQ"
   },
   "source": [
    "### Multiple Aggregations\n",
    "\n",
    "You can perform multiple aggregations at once using the `agg()` function.\n",
    "\n",
    "For example, let's find the count, mean, and standard deviation of the age of passengers, grouped by their gender:"
   ]
  },
  {
   "cell_type": "code",
   "execution_count": null,
   "metadata": {
    "colab": {
     "base_uri": "https://localhost:8080/",
     "height": 143
    },
    "executionInfo": {
     "elapsed": 277,
     "status": "ok",
     "timestamp": 1709119981912,
     "user": {
      "displayName": "Ignacio Soteras",
      "userId": "02050793736257155229"
     },
     "user_tz": -60
    },
    "id": "TKFQvvaL2iGQ",
    "outputId": "6ed60612-f05e-4927-d315-1baf085d14c7"
   },
   "outputs": [],
   "source": [
    "df.groupby('Sex')['Age'].agg(['count', 'mean', 'std'])"
   ]
  },
  {
   "cell_type": "markdown",
   "metadata": {
    "id": "RSrykfcK2iGR"
   },
   "source": [
    "### Grouping by Multiple Variables\n",
    "\n",
    "You can group by multiple variables by passing a list to the `groupby()` function.\n",
    "\n",
    "For example, let's find the average age of passengers grouped by their gender and whether they survived:"
   ]
  },
  {
   "cell_type": "code",
   "execution_count": null,
   "metadata": {
    "colab": {
     "base_uri": "https://localhost:8080/"
    },
    "executionInfo": {
     "elapsed": 247,
     "status": "ok",
     "timestamp": 1709120208306,
     "user": {
      "displayName": "Ignacio Soteras",
      "userId": "02050793736257155229"
     },
     "user_tz": -60
    },
    "id": "l1EyBSki2iGR",
    "outputId": "9db43b55-2701-45b3-fe9b-d15fd70e0480"
   },
   "outputs": [],
   "source": [
    "df.groupby(['Sex', 'Survived'])['Age'].mean()"
   ]
  },
  {
   "cell_type": "markdown",
   "metadata": {
    "id": "TBFi7ysy2iGR"
   },
   "source": [
    "# Summary"
   ]
  },
  {
   "cell_type": "markdown",
   "metadata": {
    "id": "l6TsNBuV2iGR"
   },
   "source": [
    "- Aggregation involves applying a function to a dataset that reduces multiple values into a single value. Common aggregation functions in pandas include `mean()`, `sum()`, `min()`, `max()`, `count()`, and `std()`.\n",
    "- Grouping in pandas is done using the `groupby()` function, which splits data into groups based on certain criteria. The grouped data can then be aggregated separately.\n",
    "    - A `GroupBy` object can be iterated over, with each iteration yielding a tuple where the first item is the group identifier, and the second item is the data in that group as a DataFrame.\n",
    "    - The `groups` attribute of a `GroupBy` object is a dictionary where the keys are the computed unique groups, and the corresponding values are the axis labels belonging to each group.\n",
    "    - The `size` attribute of a `GroupBy` object returns a Series giving the size of each group. Unlike the `count()` function, `size` includes `NaN` values.\n",
    "    - The `get_group()` method of a `GroupBy` object allows for the selection of a single group as a DataFrame.\n",
    "- After a `groupby()` operation, an aggregation function is necessary to represent each group in the resulting output.\n",
    "- Multiple aggregations can be performed at once using the `agg()` function.\n",
    "- Grouping can be done by multiple variables by passing a list to the `groupby()` function. This can be helpful when you want to analyze your data at different levels of granularity."
   ]
  },
  {
   "cell_type": "markdown",
   "metadata": {},
   "source": [
    "### Check for understanding\n",
    "\n",
    "Using the Titanic dataset (`'https://raw.githubusercontent.com/data-bootcamp-v4/data/main/titanic_train.csv'`), perform the following operations and **write your conclusions after each step**:\n",
    "\n",
    "- Calculate the number, mean, and standard deviation of the 'Fare' paid by passengers, grouped by their 'Sex'.\n",
    "\n",
    "- Determine the number of survivors and non-survivors by class (use 'Pclass' variable).\n",
    "\n",
    "- Determine the number of survivors and non-survivors by gender.\n",
    "\n",
    "- Use the `get_group` method to select the group of 1st Class passengers and display the first 5 rows of this group. Then, group by 'Survived' within the first class group, and calculate the average fare.\n",
    "\n",
    "- Create a new column 'AgeGroup' . This column should categorize passengers as 'Child' (age <= 12), 'Teen' (12 < age <=18), 'Adult' (18 < age <= 60), and 'Senior' (age > 60). Then, find out how many survivors are there in each age group.\n",
    "\n",
    "- BONUS: calculate the survival rates within each age group in percentages."
   ]
  },
  {
   "cell_type": "code",
   "execution_count": null,
   "metadata": {},
   "outputs": [],
   "source": [
    "df = pd.read_csv(\"https://raw.githubusercontent.com/data-bootcamp-v4/data/main/titanic_train.csv\")\n",
    "df.head(1)"
   ]
  },
  {
   "cell_type": "code",
   "execution_count": null,
   "metadata": {},
   "outputs": [],
   "source": [
    "# Calculate the number, mean, and standard deviation of the 'Fare' paid by passengers, grouped by their 'Sex'.\n",
    "df.groupby(\"Sex\")[\"Fare\"].agg([\"count\", \"mean\", \"std\"])"
   ]
  },
  {
   "cell_type": "code",
   "execution_count": null,
   "metadata": {},
   "outputs": [],
   "source": [
    "# Determine the number of survivors and non-survivors by class (use 'Pclass' variable).\n",
    "df.groupby([\"Pclass\", \"Survived\"]).size()"
   ]
  },
  {
   "cell_type": "code",
   "execution_count": null,
   "metadata": {},
   "outputs": [],
   "source": [
    "# Determine the number of survivors and non-survivors by gender.\n",
    "df.groupby([\"Sex\", \"Survived\"]).size()"
   ]
  },
  {
   "cell_type": "code",
   "execution_count": null,
   "metadata": {},
   "outputs": [],
   "source": [
    "# Use the `get_group` method to select the group of 1st Class passengers and display the first 5 rows of this group.\n",
    "# Then, group by 'Survived' within the first class group, and calculate the average fare.\n",
    "\n",
    "grouped = df.groupby(\"Pclass\")\n",
    "first_class = grouped.get_group(1)\n",
    "first_class.head(5)\n",
    "first_class.groupby(\"Survived\")[\"Fare\"].mean()\n",
    "\n",
    "# or: df.groupby(\"Pclass\").get_group(1).groupby(\"Survived\")[['Fare']].mean()\n",
    "# or: df[df['Pclass']==1].groupby(\"Survived\")[['Fare']].mean()\n"
   ]
  },
  {
   "cell_type": "code",
   "execution_count": null,
   "metadata": {},
   "outputs": [],
   "source": [
    "# Create a new column 'AgeGroup'.\n",
    "# This column should categorize passengers as 'Child' (age <= 12), 'Teen' (12 < age <=18), 'Adult' (18 < age <= 60), and 'Senior' (age > 60).\n",
    "\n",
    "def age_group(age):\n",
    "    if age <= 12:\n",
    "        agegroup = \"Child\"\n",
    "    elif age <= 18:\n",
    "        agegroup = \"Teen\"\n",
    "    elif age <= 60:\n",
    "        agegroup = \"Adult\"\n",
    "    elif age > 60:\n",
    "        agegroup = \"Senior\"\n",
    "    else:\n",
    "        agegroup = \"Unknown\"\n",
    "    return agegroup\n",
    "\n",
    "df[\"AgeGroup\"] = df[\"Age\"].apply((age_group))\n",
    "\n",
    "# Then, find out how many survivors are there in each age group.\n",
    "\n",
    "survivors = df.groupby([\"AgeGroup\", \"Survived\"]).size()\n",
    "survivors"
   ]
  },
  {
   "cell_type": "code",
   "execution_count": null,
   "metadata": {},
   "outputs": [],
   "source": [
    "# BONUS: calculate the survival rates within each age group in percentages.\n",
    "age_group_totals = df.groupby(\"AgeGroup\")[\"Survived\"].count()\n",
    "\n",
    "survival_rates = (survivors / age_group_totals).round(2)\n",
    "survival_rates *= 100\n",
    "survival_rates"
   ]
  }
 ],
 "metadata": {
  "colab": {
   "provenance": []
  },
  "kernelspec": {
   "display_name": "Python 3 (ipykernel)",
   "language": "python",
   "name": "python3"
  },
  "language_info": {
   "codemirror_mode": {
    "name": "ipython",
    "version": 3
   },
   "file_extension": ".py",
   "mimetype": "text/x-python",
   "name": "python",
   "nbconvert_exporter": "python",
   "pygments_lexer": "ipython3",
   "version": "3.12.3"
  },
  "toc": {
   "base_numbering": 1,
   "nav_menu": {},
   "number_sections": true,
   "sideBar": false,
   "skip_h1_title": false,
   "title_cell": "Table of Contents",
   "title_sidebar": "Contents",
   "toc_cell": true,
   "toc_position": {
    "height": "537.273px",
    "left": "420px",
    "top": "110.824px",
    "width": "426.996px"
   },
   "toc_section_display": true,
   "toc_window_display": true
  }
 },
 "nbformat": 4,
 "nbformat_minor": 4
}
