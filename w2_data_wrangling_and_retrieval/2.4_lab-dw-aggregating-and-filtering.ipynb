{
 "cells": [
  {
   "cell_type": "markdown",
   "id": "31969215-2a90-4d8b-ac36-646a7ae13744",
   "metadata": {
    "id": "31969215-2a90-4d8b-ac36-646a7ae13744"
   },
   "source": [
    "# Lab | Data Aggregation and Filtering"
   ]
  },
  {
   "cell_type": "markdown",
   "id": "a8f08a52-bec0-439b-99cc-11d3809d8b5d",
   "metadata": {
    "id": "a8f08a52-bec0-439b-99cc-11d3809d8b5d"
   },
   "source": [
    "In this challenge, we will continue to work with customer data from an insurance company. We will use the dataset called marketing_customer_analysis.csv, which can be found at the following link:\n",
    "\n",
    "https://raw.githubusercontent.com/data-bootcamp-v4/data/main/marketing_customer_analysis.csv\n",
    "\n",
    "This dataset contains information such as customer demographics, policy details, vehicle information, and the customer's response to the last marketing campaign. Our goal is to explore and analyze this data by first performing data cleaning, formatting, and structuring."
   ]
  },
  {
   "cell_type": "code",
   "execution_count": null,
   "id": "cface8d0",
   "metadata": {},
   "outputs": [],
   "source": [
    "import pandas as pd\n",
    "\n",
    "df = pd.read_csv(\"https://raw.githubusercontent.com/data-bootcamp-v4/data/main/marketing_customer_analysis.csv\")\n",
    "df.head(1)"
   ]
  },
  {
   "cell_type": "markdown",
   "id": "9c98ddc5-b041-4c94-ada1-4dfee5c98e50",
   "metadata": {
    "id": "9c98ddc5-b041-4c94-ada1-4dfee5c98e50"
   },
   "source": [
    "1. Create a new DataFrame that only includes customers who have a total_claim_amount greater than $1,000 and have a response of \"Yes\" to the last marketing campaign."
   ]
  },
  {
   "cell_type": "code",
   "execution_count": null,
   "id": "60442155",
   "metadata": {},
   "outputs": [],
   "source": [
    "grouped =  df[(df[\"Total Claim Amount\"] > 1000) & (df[\"Response\"] == \"Yes\")]"
   ]
  },
  {
   "cell_type": "markdown",
   "id": "b9be383e-5165-436e-80c8-57d4c757c8c3",
   "metadata": {
    "id": "b9be383e-5165-436e-80c8-57d4c757c8c3"
   },
   "source": [
    "2. Using the original Dataframe, analyze the average total_claim_amount by each policy type and gender for customers who have responded \"Yes\" to the last marketing campaign. Write your conclusions."
   ]
  },
  {
   "cell_type": "code",
   "execution_count": null,
   "id": "c8c42c9d",
   "metadata": {},
   "outputs": [],
   "source": [
    "yes = df[df[\"Response\"] == \"Yes\"]\n",
    "yes.groupby([\"Policy\", \"Gender\"])[\"Total Claim Amount\"].mean().round(2)"
   ]
  },
  {
   "cell_type": "markdown",
   "id": "c0667297",
   "metadata": {},
   "source": [
    "Of the customers who have responded \"Yes\" to the last marketing campaign,\\\n",
    "the highest average total claim amount is 495.57, coming from female clients with Special L3 policy.\\\n",
    "The lowest avg claim of 391.61 comes from male clients with  Corporate L3 policy."
   ]
  },
  {
   "cell_type": "markdown",
   "id": "7050f4ac-53c5-4193-a3c0-8699b87196f0",
   "metadata": {
    "id": "7050f4ac-53c5-4193-a3c0-8699b87196f0"
   },
   "source": [
    "3. Analyze the total number of customers who have policies in each state, and then filter the results to only include states where there are more than 500 customers."
   ]
  },
  {
   "cell_type": "code",
   "execution_count": null,
   "id": "88bc3f67",
   "metadata": {},
   "outputs": [],
   "source": [
    "# Each of the 5 states has more than 500 customers.\n",
    "customers = df.groupby(\"State\")[\"Customer\"].nunique()\n",
    "customers_500 = customers[customers > 500]\n",
    "customers_500"
   ]
  },
  {
   "cell_type": "markdown",
   "id": "b60a4443-a1a7-4bbf-b78e-9ccdf9895e0d",
   "metadata": {
    "id": "b60a4443-a1a7-4bbf-b78e-9ccdf9895e0d"
   },
   "source": [
    "4. Find the maximum, minimum, and median customer lifetime value by education level and gender. Write your conclusions."
   ]
  },
  {
   "cell_type": "code",
   "execution_count": null,
   "id": "1476b4b0",
   "metadata": {},
   "outputs": [],
   "source": [
    "df.groupby([\"Education\", \"Gender\"])[\"Customer Lifetime Value\"].agg([\"max\", \"min\", \"median\"]).round(2)"
   ]
  },
  {
   "cell_type": "markdown",
   "id": "8f539b05",
   "metadata": {},
   "source": [
    "Male clients with high school or below bring both the highest CLV = customer lifetime value (83325.38) and highest median CLV (6286.73).\\\n",
    "Male clients with a bachelor's degree bring both the lowest CLV (1904) and lowest median CLV (5548.03).\\\n",
    "There doesn't seem to be correlation between the CLV and education.\\\n",
    "With male clients, the CLV seems to be dropping as education level increases, but this is not steady.\\\n",
    "With female clients, the CLV follows the rise of education level until the master's degree, then goes in the opposite direction.\n"
   ]
  },
  {
   "cell_type": "markdown",
   "id": "b42999f9-311f-481e-ae63-40a5577072c5",
   "metadata": {
    "id": "b42999f9-311f-481e-ae63-40a5577072c5"
   },
   "source": [
    "## Bonus"
   ]
  },
  {
   "cell_type": "markdown",
   "id": "81ff02c5-6584-4f21-a358-b918697c6432",
   "metadata": {
    "id": "81ff02c5-6584-4f21-a358-b918697c6432"
   },
   "source": [
    "5. The marketing team wants to analyze the number of policies sold by state and month. Present the data in a table where the months are arranged as columns and the states are arranged as rows."
   ]
  },
  {
   "cell_type": "code",
   "execution_count": null,
   "id": "f4ccf61d",
   "metadata": {},
   "outputs": [],
   "source": [
    "df[\"Month\"] = df[\"Effective To Date\"].str.split(\"/\").str[0]\n",
    "pivot = df.pivot_table(index=\"State\", columns=\"Month\", values=\"Policy\", aggfunc=\"count\")\n",
    "pivot"
   ]
  },
  {
   "cell_type": "markdown",
   "id": "b6aec097-c633-4017-a125-e77a97259cda",
   "metadata": {
    "id": "b6aec097-c633-4017-a125-e77a97259cda"
   },
   "source": [
    "6.  Display a new DataFrame that contains the number of policies sold by month, by state, for the top 3 states with the highest number of policies sold.\n",
    "\n",
    "*Hint:*\n",
    "- *To accomplish this, you will first need to group the data by state and month, then count the number of policies sold for each group. Afterwards, you will need to sort the data by the count of policies sold in descending order.*\n",
    "- *Next, you will select the top 3 states with the highest number of policies sold.*\n",
    "- *Finally, you will create a new DataFrame that contains the number of policies sold by month for each of the top 3 states.*"
   ]
  },
  {
   "cell_type": "code",
   "execution_count": null,
   "id": "449513f4-0459-46a0-a18d-9398d974c9ad",
   "metadata": {
    "id": "449513f4-0459-46a0-a18d-9398d974c9ad"
   },
   "outputs": [],
   "source": [
    "top_3_states = df.groupby(\"State\")[\"Policy\"].count().sort_values(ascending=False).head(3).index\n",
    "top_3_states = df[df[\"State\"].isin(top_3_states)]\n",
    "top_3_states.groupby([\"State\", \"Month\"]).size().unstack(fill_value=0)"
   ]
  },
  {
   "cell_type": "markdown",
   "id": "ba975b8a-a2cf-4fbf-9f59-ebc381767009",
   "metadata": {
    "id": "ba975b8a-a2cf-4fbf-9f59-ebc381767009"
   },
   "source": [
    "7. The marketing team wants to analyze the effect of different marketing channels on the customer response rate.\n",
    "\n",
    "Hint: You can use melt to unpivot the data and create a table that shows the customer response rate (those who responded \"Yes\") by marketing channel."
   ]
  },
  {
   "cell_type": "markdown",
   "id": "e4378d94-48fb-4850-a802-b1bc8f427b2d",
   "metadata": {
    "id": "e4378d94-48fb-4850-a802-b1bc8f427b2d"
   },
   "source": [
    "External Resources for Data Filtering: https://towardsdatascience.com/filtering-data-frames-in-pandas-b570b1f834b9"
   ]
  },
  {
   "cell_type": "code",
   "execution_count": null,
   "id": "5d33d7b1",
   "metadata": {},
   "outputs": [],
   "source": [
    "pivot_table = df.pivot_table(index=\"Sales Channel\", columns=\"Response\", aggfunc=\"size\")\n",
    "\n",
    "melted = pivot_table.reset_index().melt(id_vars=\"Sales Channel\", value_vars=[\"Yes\", \"No\"], var_name=\"Response\", value_name=\"Count\")\n",
    "\n",
    "total_responses = melted.groupby(\"Sales Channel\")[\"Count\"].sum().reset_index(name=\"Total\")\n",
    "response_rate = melted[melted[\"Response\"] == \"Yes\"].merge(total_responses, on=\"Sales Channel\")\n",
    "response_rate[\"Response Rate\"] = (response_rate[\"Count\"] / response_rate[\"Total\"] * 100).round(2)\n",
    "\n",
    "response_rate[[\"Sales Channel\", \"Response Rate\"]]"
   ]
  }
 ],
 "metadata": {
  "colab": {
   "provenance": []
  },
  "kernelspec": {
   "display_name": "Python 3 (ipykernel)",
   "language": "python",
   "name": "python3"
  },
  "language_info": {
   "codemirror_mode": {
    "name": "ipython",
    "version": 3
   },
   "file_extension": ".py",
   "mimetype": "text/x-python",
   "name": "python",
   "nbconvert_exporter": "python",
   "pygments_lexer": "ipython3",
   "version": "3.12.3"
  }
 },
 "nbformat": 4,
 "nbformat_minor": 5
}
